{
 "cells": [
  {
   "attachments": {},
   "cell_type": "markdown",
   "id": "7cbad414",
   "metadata": {},
   "source": [
    "# FRED Series\n",
    "\n",
    "This documentation serves as an introduction to requesting series data from the FRED API with `pyfredapi`.\n",
    "\n",
    "The primary use case of the FRED web service is to pull economic series data for analysis or reporting. The `pyfredapi.series` module aims to make it easy to get series metadata and data from [FRED](https://fred.stlouisfed.org/) or [ALFRED](https://alfred.stlouisfed.org/).\n",
    "\n",
    "The following examples illustrate usage of the Series endpoint functions in `pyfredapi`."
   ]
  },
  {
   "attachments": {},
   "cell_type": "markdown",
   "id": "ed5e612f",
   "metadata": {},
   "source": [
    "## Setup\n",
    "\n",
    "Import `pyfredapi`"
   ]
  },
  {
   "cell_type": "code",
   "execution_count": 1,
   "id": "41acbef2",
   "metadata": {},
   "outputs": [],
   "source": [
    "import pyfredapi as pf\n",
    "from rich import print as rprint\n",
    "from rich.pretty import pprint"
   ]
  },
  {
   "attachments": {},
   "cell_type": "markdown",
   "id": "736e6209",
   "metadata": {},
   "source": [
    "## Series Metadata\n",
    "\n",
    "Before looking at series data, it is helpful to understand the `pyfredapi`'s `get_series_info` function and `SeriesInfo` object. Each series published by FRED has associated metadata such as:\n",
    "\n",
    "- Start and end dates\n",
    "- Publish frequency\n",
    "- Unit of measure\n",
    "\n",
    "You can query a series' information directly with `get_series_info`. The `get_series_info` function returns a `SeriesInfo` object that contains all the metadata for the given series.\n",
    "\n",
    "In the below example, we request information for the U.S. GDP series. From the result, we can see that the GDP series is\n",
    "\n",
    "* Published quarterly\n",
    "* The earliest data available is 1947-01-01\n",
    "* The unit of measure is Billions of Dollars"
   ]
  },
  {
   "cell_type": "code",
   "execution_count": 2,
   "id": "06d9ea55",
   "metadata": {},
   "outputs": [
    {
     "data": {
      "text/html": [
       "<pre style=\"white-space:pre;overflow-x:auto;line-height:normal;font-family:Menlo,'DejaVu Sans Mono',consolas,'Courier New',monospace\"><span style=\"color: #800080; text-decoration-color: #800080; font-weight: bold\">SeriesInfo</span><span style=\"font-weight: bold\">(</span>\n",
       "    <span style=\"color: #808000; text-decoration-color: #808000\">id</span>=<span style=\"color: #008000; text-decoration-color: #008000\">'GDP'</span>,\n",
       "    <span style=\"color: #808000; text-decoration-color: #808000\">realtime_start</span>=<span style=\"color: #008000; text-decoration-color: #008000\">'2023-04-27'</span>,\n",
       "    <span style=\"color: #808000; text-decoration-color: #808000\">realtime_end</span>=<span style=\"color: #008000; text-decoration-color: #008000\">'2023-04-27'</span>,\n",
       "    <span style=\"color: #808000; text-decoration-color: #808000\">title</span>=<span style=\"color: #008000; text-decoration-color: #008000\">'Gross Domestic Product'</span>,\n",
       "    <span style=\"color: #808000; text-decoration-color: #808000\">observation_start</span>=<span style=\"color: #008000; text-decoration-color: #008000\">'1947-01-01'</span>,\n",
       "    <span style=\"color: #808000; text-decoration-color: #808000\">observation_end</span>=<span style=\"color: #008000; text-decoration-color: #008000\">'2023-01-01'</span>,\n",
       "    <span style=\"color: #808000; text-decoration-color: #808000\">frequency</span>=<span style=\"color: #008000; text-decoration-color: #008000\">'Quarterly'</span>,\n",
       "    <span style=\"color: #808000; text-decoration-color: #808000\">frequency_short</span>=<span style=\"color: #008000; text-decoration-color: #008000\">'Q'</span>,\n",
       "    <span style=\"color: #808000; text-decoration-color: #808000\">units</span>=<span style=\"color: #008000; text-decoration-color: #008000\">'Billions of Dollars'</span>,\n",
       "    <span style=\"color: #808000; text-decoration-color: #808000\">units_short</span>=<span style=\"color: #008000; text-decoration-color: #008000\">'Bil. of $'</span>,\n",
       "    <span style=\"color: #808000; text-decoration-color: #808000\">seasonal_adjustment</span>=<span style=\"color: #008000; text-decoration-color: #008000\">'Seasonally Adjusted Annual Rate'</span>,\n",
       "    <span style=\"color: #808000; text-decoration-color: #808000\">seasonal_adjustment_short</span>=<span style=\"color: #008000; text-decoration-color: #008000\">'SAAR'</span>,\n",
       "    <span style=\"color: #808000; text-decoration-color: #808000\">last_updated</span>=<span style=\"color: #008000; text-decoration-color: #008000\">'2023-04-27 07:53:02-05'</span>,\n",
       "    <span style=\"color: #808000; text-decoration-color: #808000\">popularity</span>=<span style=\"color: #008080; text-decoration-color: #008080; font-weight: bold\">93</span>,\n",
       "    <span style=\"color: #808000; text-decoration-color: #808000\">notes</span>=<span style=\"color: #008000; text-decoration-color: #008000\">'BEA Account Code: A191RC\\n\\nGross domestic product (GDP), the featured measure of U.S. output, is the </span>\n",
       "<span style=\"color: #008000; text-decoration-color: #008000\">market value of the goods and services produced by labor and property located in the United States.For more </span>\n",
       "<span style=\"color: #008000; text-decoration-color: #008000\">information, see the Guide to the National Income and Product Accounts of the United States (NIPA) and the Bureau </span>\n",
       "<span style=\"color: #008000; text-decoration-color: #008000\">of Economic Analysis (http://www.bea.gov/national/pdf/nipaguid.pdf).'</span>\n",
       "<span style=\"font-weight: bold\">)</span>\n",
       "</pre>\n"
      ],
      "text/plain": [
       "\u001b[1;35mSeriesInfo\u001b[0m\u001b[1m(\u001b[0m\n",
       "    \u001b[33mid\u001b[0m=\u001b[32m'GDP'\u001b[0m,\n",
       "    \u001b[33mrealtime_start\u001b[0m=\u001b[32m'2023-04-27'\u001b[0m,\n",
       "    \u001b[33mrealtime_end\u001b[0m=\u001b[32m'2023-04-27'\u001b[0m,\n",
       "    \u001b[33mtitle\u001b[0m=\u001b[32m'Gross Domestic Product'\u001b[0m,\n",
       "    \u001b[33mobservation_start\u001b[0m=\u001b[32m'1947-01-01'\u001b[0m,\n",
       "    \u001b[33mobservation_end\u001b[0m=\u001b[32m'2023-01-01'\u001b[0m,\n",
       "    \u001b[33mfrequency\u001b[0m=\u001b[32m'Quarterly'\u001b[0m,\n",
       "    \u001b[33mfrequency_short\u001b[0m=\u001b[32m'Q'\u001b[0m,\n",
       "    \u001b[33munits\u001b[0m=\u001b[32m'Billions of Dollars'\u001b[0m,\n",
       "    \u001b[33munits_short\u001b[0m=\u001b[32m'Bil. of $'\u001b[0m,\n",
       "    \u001b[33mseasonal_adjustment\u001b[0m=\u001b[32m'Seasonally Adjusted Annual Rate'\u001b[0m,\n",
       "    \u001b[33mseasonal_adjustment_short\u001b[0m=\u001b[32m'SAAR'\u001b[0m,\n",
       "    \u001b[33mlast_updated\u001b[0m=\u001b[32m'2023-04-27 07:53:02-05'\u001b[0m,\n",
       "    \u001b[33mpopularity\u001b[0m=\u001b[1;36m93\u001b[0m,\n",
       "    \u001b[33mnotes\u001b[0m=\u001b[32m'BEA Account Code: A191RC\\n\\nGross domestic product \u001b[0m\u001b[32m(\u001b[0m\u001b[32mGDP\u001b[0m\u001b[32m)\u001b[0m\u001b[32m, the featured measure of U.S. output, is the \u001b[0m\n",
       "\u001b[32mmarket value of the goods and services produced by labor and property located in the United States.For more \u001b[0m\n",
       "\u001b[32minformation, see the Guide to the National Income and Product Accounts of the United States \u001b[0m\u001b[32m(\u001b[0m\u001b[32mNIPA\u001b[0m\u001b[32m)\u001b[0m\u001b[32m and the Bureau \u001b[0m\n",
       "\u001b[32mof Economic Analysis \u001b[0m\u001b[32m(\u001b[0m\u001b[32mhttp://www.bea.gov/national/pdf/nipaguid.pdf\u001b[0m\u001b[32m)\u001b[0m\u001b[32m.'\u001b[0m\n",
       "\u001b[1m)\u001b[0m\n"
      ]
     },
     "metadata": {},
     "output_type": "display_data"
    }
   ],
   "source": [
    "gdp_info = pf.get_series_info(series_id=\"GDP\")\n",
    "\n",
    "# Using rich to pretty print the SeriesInfo\n",
    "rprint(gdp_info)"
   ]
  },
  {
   "attachments": {},
   "cell_type": "markdown",
   "id": "6809519b",
   "metadata": {},
   "source": [
    "`SeriesInfo` also provides a useful method to open the FRED webpage for the series. Call `open_url` on the info object and a new browser tab will open."
   ]
  },
  {
   "cell_type": "code",
   "execution_count": 3,
   "id": "9b14d963",
   "metadata": {},
   "outputs": [],
   "source": [
    "gdp_info.open_url()"
   ]
  },
  {
   "attachments": {},
   "cell_type": "markdown",
   "id": "6a74c86d",
   "metadata": {},
   "source": [
    "## Pull data\n",
    "\n",
    "The `get_series` function gets the latest data available for a given series. The default return for is a pandas dataframe. The `get_series` function also accepts a `return_format` argument that can be set to `json` to return the data in a json-like list of dictionaries."
   ]
  },
  {
   "attachments": {},
   "cell_type": "markdown",
   "id": "9b885505",
   "metadata": {},
   "source": [
    "### Pandas Dataframe"
   ]
  },
  {
   "cell_type": "code",
   "execution_count": 4,
   "id": "db9e0762",
   "metadata": {},
   "outputs": [],
   "source": [
    "gdp_df = pf.get_series(series_id=\"GDP\")"
   ]
  },
  {
   "cell_type": "code",
   "execution_count": 5,
   "id": "5e015cdb",
   "metadata": {},
   "outputs": [
    {
     "data": {
      "text/html": [
       "<div>\n",
       "<style scoped>\n",
       "    .dataframe tbody tr th:only-of-type {\n",
       "        vertical-align: middle;\n",
       "    }\n",
       "\n",
       "    .dataframe tbody tr th {\n",
       "        vertical-align: top;\n",
       "    }\n",
       "\n",
       "    .dataframe thead th {\n",
       "        text-align: right;\n",
       "    }\n",
       "</style>\n",
       "<table border=\"1\" class=\"dataframe\">\n",
       "  <thead>\n",
       "    <tr style=\"text-align: right;\">\n",
       "      <th></th>\n",
       "      <th>realtime_start</th>\n",
       "      <th>realtime_end</th>\n",
       "      <th>date</th>\n",
       "      <th>value</th>\n",
       "    </tr>\n",
       "  </thead>\n",
       "  <tbody>\n",
       "    <tr>\n",
       "      <th>304</th>\n",
       "      <td>2023-04-27</td>\n",
       "      <td>2023-04-27</td>\n",
       "      <td>2022-01-01</td>\n",
       "      <td>24740.480</td>\n",
       "    </tr>\n",
       "    <tr>\n",
       "      <th>305</th>\n",
       "      <td>2023-04-27</td>\n",
       "      <td>2023-04-27</td>\n",
       "      <td>2022-04-01</td>\n",
       "      <td>25248.476</td>\n",
       "    </tr>\n",
       "    <tr>\n",
       "      <th>306</th>\n",
       "      <td>2023-04-27</td>\n",
       "      <td>2023-04-27</td>\n",
       "      <td>2022-07-01</td>\n",
       "      <td>25723.941</td>\n",
       "    </tr>\n",
       "    <tr>\n",
       "      <th>307</th>\n",
       "      <td>2023-04-27</td>\n",
       "      <td>2023-04-27</td>\n",
       "      <td>2022-10-01</td>\n",
       "      <td>26137.992</td>\n",
       "    </tr>\n",
       "    <tr>\n",
       "      <th>308</th>\n",
       "      <td>2023-04-27</td>\n",
       "      <td>2023-04-27</td>\n",
       "      <td>2023-01-01</td>\n",
       "      <td>26465.865</td>\n",
       "    </tr>\n",
       "  </tbody>\n",
       "</table>\n",
       "</div>"
      ],
      "text/plain": [
       "    realtime_start realtime_end       date      value\n",
       "304     2023-04-27   2023-04-27 2022-01-01  24740.480\n",
       "305     2023-04-27   2023-04-27 2022-04-01  25248.476\n",
       "306     2023-04-27   2023-04-27 2022-07-01  25723.941\n",
       "307     2023-04-27   2023-04-27 2022-10-01  26137.992\n",
       "308     2023-04-27   2023-04-27 2023-01-01  26465.865"
      ]
     },
     "execution_count": 5,
     "metadata": {},
     "output_type": "execute_result"
    }
   ],
   "source": [
    "gdp_df.tail()"
   ]
  },
  {
   "attachments": {},
   "cell_type": "markdown",
   "id": "5a02f5d1",
   "metadata": {},
   "source": [
    "When the data is returned as a pandas dataframe the correct data type will be inferred and applied to each column."
   ]
  },
  {
   "cell_type": "code",
   "execution_count": 6,
   "id": "9f292ec7",
   "metadata": {},
   "outputs": [
    {
     "data": {
      "text/plain": [
       "realtime_start            object\n",
       "realtime_end              object\n",
       "date              datetime64[ns]\n",
       "value                    float64\n",
       "dtype: object"
      ]
     },
     "execution_count": 6,
     "metadata": {},
     "output_type": "execute_result"
    }
   ],
   "source": [
    "gdp_df.dtypes"
   ]
  },
  {
   "attachments": {},
   "cell_type": "markdown",
   "id": "20b6dee4",
   "metadata": {},
   "source": [
    "### Json"
   ]
  },
  {
   "cell_type": "code",
   "execution_count": 7,
   "id": "cc08c7a3",
   "metadata": {},
   "outputs": [],
   "source": [
    "gdp_json = pf.get_series(series_id=\"GDP\", return_format=\"json\")"
   ]
  },
  {
   "cell_type": "code",
   "execution_count": 8,
   "id": "5f5128c2",
   "metadata": {},
   "outputs": [
    {
     "data": {
      "text/html": [
       "<pre style=\"white-space:pre;overflow-x:auto;line-height:normal;font-family:Menlo,'DejaVu Sans Mono',consolas,'Courier New',monospace\"><span style=\"font-weight: bold\">[</span>\n",
       "<span style=\"color: #7fbf7f; text-decoration-color: #7fbf7f\">│   </span><span style=\"font-weight: bold\">{</span><span style=\"color: #008000; text-decoration-color: #008000\">'realtime_start'</span>: <span style=\"color: #008000; text-decoration-color: #008000\">'2023-04-27'</span>, <span style=\"color: #008000; text-decoration-color: #008000\">'realtime_end'</span>: <span style=\"color: #008000; text-decoration-color: #008000\">'2023-04-27'</span>, <span style=\"color: #008000; text-decoration-color: #008000\">'date'</span>: <span style=\"color: #008000; text-decoration-color: #008000\">'1946-01-01'</span>, <span style=\"color: #008000; text-decoration-color: #008000\">'value'</span>: <span style=\"color: #008000; text-decoration-color: #008000\">'.'</span><span style=\"font-weight: bold\">}</span>,\n",
       "<span style=\"color: #7fbf7f; text-decoration-color: #7fbf7f\">│   </span><span style=\"font-weight: bold\">{</span><span style=\"color: #008000; text-decoration-color: #008000\">'realtime_start'</span>: <span style=\"color: #008000; text-decoration-color: #008000\">'2023-04-27'</span>, <span style=\"color: #008000; text-decoration-color: #008000\">'realtime_end'</span>: <span style=\"color: #008000; text-decoration-color: #008000\">'2023-04-27'</span>, <span style=\"color: #008000; text-decoration-color: #008000\">'date'</span>: <span style=\"color: #008000; text-decoration-color: #008000\">'1946-04-01'</span>, <span style=\"color: #008000; text-decoration-color: #008000\">'value'</span>: <span style=\"color: #008000; text-decoration-color: #008000\">'.'</span><span style=\"font-weight: bold\">}</span>,\n",
       "<span style=\"color: #7fbf7f; text-decoration-color: #7fbf7f\">│   </span><span style=\"font-weight: bold\">{</span><span style=\"color: #008000; text-decoration-color: #008000\">'realtime_start'</span>: <span style=\"color: #008000; text-decoration-color: #008000\">'2023-04-27'</span>, <span style=\"color: #008000; text-decoration-color: #008000\">'realtime_end'</span>: <span style=\"color: #008000; text-decoration-color: #008000\">'2023-04-27'</span>, <span style=\"color: #008000; text-decoration-color: #008000\">'date'</span>: <span style=\"color: #008000; text-decoration-color: #008000\">'1946-07-01'</span>, <span style=\"color: #008000; text-decoration-color: #008000\">'value'</span>: <span style=\"color: #008000; text-decoration-color: #008000\">'.'</span><span style=\"font-weight: bold\">}</span>,\n",
       "<span style=\"color: #7fbf7f; text-decoration-color: #7fbf7f\">│   </span><span style=\"font-weight: bold\">{</span><span style=\"color: #008000; text-decoration-color: #008000\">'realtime_start'</span>: <span style=\"color: #008000; text-decoration-color: #008000\">'2023-04-27'</span>, <span style=\"color: #008000; text-decoration-color: #008000\">'realtime_end'</span>: <span style=\"color: #008000; text-decoration-color: #008000\">'2023-04-27'</span>, <span style=\"color: #008000; text-decoration-color: #008000\">'date'</span>: <span style=\"color: #008000; text-decoration-color: #008000\">'1946-10-01'</span>, <span style=\"color: #008000; text-decoration-color: #008000\">'value'</span>: <span style=\"color: #008000; text-decoration-color: #008000\">'.'</span><span style=\"font-weight: bold\">}</span>,\n",
       "<span style=\"color: #7fbf7f; text-decoration-color: #7fbf7f\">│   </span><span style=\"color: #808000; text-decoration-color: #808000\">...</span> +<span style=\"color: #008080; text-decoration-color: #008080; font-weight: bold\">305</span>\n",
       "<span style=\"font-weight: bold\">]</span>\n",
       "</pre>\n"
      ],
      "text/plain": [
       "\u001b[1m[\u001b[0m\n",
       "\u001b[2;32m│   \u001b[0m\u001b[1m{\u001b[0m\u001b[32m'realtime_start'\u001b[0m: \u001b[32m'2023-04-27'\u001b[0m, \u001b[32m'realtime_end'\u001b[0m: \u001b[32m'2023-04-27'\u001b[0m, \u001b[32m'date'\u001b[0m: \u001b[32m'1946-01-01'\u001b[0m, \u001b[32m'value'\u001b[0m: \u001b[32m'.'\u001b[0m\u001b[1m}\u001b[0m,\n",
       "\u001b[2;32m│   \u001b[0m\u001b[1m{\u001b[0m\u001b[32m'realtime_start'\u001b[0m: \u001b[32m'2023-04-27'\u001b[0m, \u001b[32m'realtime_end'\u001b[0m: \u001b[32m'2023-04-27'\u001b[0m, \u001b[32m'date'\u001b[0m: \u001b[32m'1946-04-01'\u001b[0m, \u001b[32m'value'\u001b[0m: \u001b[32m'.'\u001b[0m\u001b[1m}\u001b[0m,\n",
       "\u001b[2;32m│   \u001b[0m\u001b[1m{\u001b[0m\u001b[32m'realtime_start'\u001b[0m: \u001b[32m'2023-04-27'\u001b[0m, \u001b[32m'realtime_end'\u001b[0m: \u001b[32m'2023-04-27'\u001b[0m, \u001b[32m'date'\u001b[0m: \u001b[32m'1946-07-01'\u001b[0m, \u001b[32m'value'\u001b[0m: \u001b[32m'.'\u001b[0m\u001b[1m}\u001b[0m,\n",
       "\u001b[2;32m│   \u001b[0m\u001b[1m{\u001b[0m\u001b[32m'realtime_start'\u001b[0m: \u001b[32m'2023-04-27'\u001b[0m, \u001b[32m'realtime_end'\u001b[0m: \u001b[32m'2023-04-27'\u001b[0m, \u001b[32m'date'\u001b[0m: \u001b[32m'1946-10-01'\u001b[0m, \u001b[32m'value'\u001b[0m: \u001b[32m'.'\u001b[0m\u001b[1m}\u001b[0m,\n",
       "\u001b[2;32m│   \u001b[0m\u001b[33m...\u001b[0m +\u001b[1;36m305\u001b[0m\n",
       "\u001b[1m]\u001b[0m\n"
      ]
     },
     "metadata": {},
     "output_type": "display_data"
    }
   ],
   "source": [
    "pprint(gdp_json, max_length=4)"
   ]
  },
  {
   "attachments": {},
   "cell_type": "markdown",
   "id": "ae55d33c",
   "metadata": {},
   "source": [
    "## Data revisions\n",
    "\n",
    "Many economic series are often revised as more complete information is made available. Every time a new version of a data series is released, FRED displays the latest version, and the replaced version is archived in [ALFRED](https://alfred.stlouisfed.org/). ALFRED stores all the previous versions of data so that it possible to understand, \"what was known when?\".\n",
    "\n",
    "`pyfredapi` provides functions to access data from ALFRED:\n",
    "\n",
    "* `get_series_all_releases` - get data for all releases\n",
    "* `get_series_initial_release` - get data for the initial release\n",
    "* `get_series_asof_date` - get data released on or before a specific date"
   ]
  },
  {
   "cell_type": "markdown",
   "id": "52fc3f6c",
   "metadata": {},
   "source": [
    "### Get all releases\n",
    "\n",
    "`get_series_all_releases` returns all the observations for each release of an economic series. In the example below, a request is made for all the releases of Gross Domestic Product. We can see that the GDP estimates for Q2 2022 has been revised 3 times. The first release was on 2022-07-28. Since then, two revisions have been released on 2022-08-25 and 2022-09-29.\n",
    "\n",
    "The realtime columns indicates the time period that the data was known to be true. For more information, see the [FRED docs](https://fred.stlouisfed.org/docs/api/fred/realtime_period.html) on realtime periods."
   ]
  },
  {
   "cell_type": "code",
   "execution_count": 9,
   "id": "5c1e9ca9",
   "metadata": {},
   "outputs": [
    {
     "data": {
      "text/html": [
       "<div>\n",
       "<style scoped>\n",
       "    .dataframe tbody tr th:only-of-type {\n",
       "        vertical-align: middle;\n",
       "    }\n",
       "\n",
       "    .dataframe tbody tr th {\n",
       "        vertical-align: top;\n",
       "    }\n",
       "\n",
       "    .dataframe thead th {\n",
       "        text-align: right;\n",
       "    }\n",
       "</style>\n",
       "<table border=\"1\" class=\"dataframe\">\n",
       "  <thead>\n",
       "    <tr style=\"text-align: right;\">\n",
       "      <th></th>\n",
       "      <th>realtime_start</th>\n",
       "      <th>realtime_end</th>\n",
       "      <th>date</th>\n",
       "      <th>value</th>\n",
       "    </tr>\n",
       "  </thead>\n",
       "  <tbody>\n",
       "    <tr>\n",
       "      <th>3100</th>\n",
       "      <td>2022-12-22</td>\n",
       "      <td>9999-12-31</td>\n",
       "      <td>2022-07-01</td>\n",
       "      <td>25723.941</td>\n",
       "    </tr>\n",
       "    <tr>\n",
       "      <th>3101</th>\n",
       "      <td>2023-01-26</td>\n",
       "      <td>2023-02-22</td>\n",
       "      <td>2022-10-01</td>\n",
       "      <td>26132.458</td>\n",
       "    </tr>\n",
       "    <tr>\n",
       "      <th>3102</th>\n",
       "      <td>2023-02-23</td>\n",
       "      <td>2023-03-29</td>\n",
       "      <td>2022-10-01</td>\n",
       "      <td>26144.956</td>\n",
       "    </tr>\n",
       "    <tr>\n",
       "      <th>3103</th>\n",
       "      <td>2023-03-30</td>\n",
       "      <td>9999-12-31</td>\n",
       "      <td>2022-10-01</td>\n",
       "      <td>26137.992</td>\n",
       "    </tr>\n",
       "    <tr>\n",
       "      <th>3104</th>\n",
       "      <td>2023-04-27</td>\n",
       "      <td>9999-12-31</td>\n",
       "      <td>2023-01-01</td>\n",
       "      <td>26465.865</td>\n",
       "    </tr>\n",
       "  </tbody>\n",
       "</table>\n",
       "</div>"
      ],
      "text/plain": [
       "     realtime_start realtime_end       date      value\n",
       "3100     2022-12-22   9999-12-31 2022-07-01  25723.941\n",
       "3101     2023-01-26   2023-02-22 2022-10-01  26132.458\n",
       "3102     2023-02-23   2023-03-29 2022-10-01  26144.956\n",
       "3103     2023-03-30   9999-12-31 2022-10-01  26137.992\n",
       "3104     2023-04-27   9999-12-31 2023-01-01  26465.865"
      ]
     },
     "execution_count": 9,
     "metadata": {},
     "output_type": "execute_result"
    }
   ],
   "source": [
    "gdp_all_releases_df = pf.get_series_all_releases(\"GDP\")\n",
    "gdp_all_releases_df.tail()"
   ]
  },
  {
   "cell_type": "markdown",
   "id": "a471bce2",
   "metadata": {},
   "source": [
    "### Get initial release\n",
    "\n",
    "`get_series_initial_release` return only the first release of the series. Below we see that only first estimate of Q2 2022 GDP released on 2022-07-28 is included in the dataframe."
   ]
  },
  {
   "cell_type": "code",
   "execution_count": 10,
   "id": "72a6b101",
   "metadata": {},
   "outputs": [
    {
     "data": {
      "text/html": [
       "<div>\n",
       "<style scoped>\n",
       "    .dataframe tbody tr th:only-of-type {\n",
       "        vertical-align: middle;\n",
       "    }\n",
       "\n",
       "    .dataframe tbody tr th {\n",
       "        vertical-align: top;\n",
       "    }\n",
       "\n",
       "    .dataframe thead th {\n",
       "        text-align: right;\n",
       "    }\n",
       "</style>\n",
       "<table border=\"1\" class=\"dataframe\">\n",
       "  <thead>\n",
       "    <tr style=\"text-align: right;\">\n",
       "      <th></th>\n",
       "      <th>realtime_start</th>\n",
       "      <th>realtime_end</th>\n",
       "      <th>date</th>\n",
       "      <th>value</th>\n",
       "    </tr>\n",
       "  </thead>\n",
       "  <tbody>\n",
       "    <tr>\n",
       "      <th>121</th>\n",
       "      <td>2022-04-28</td>\n",
       "      <td>2022-05-25</td>\n",
       "      <td>2022-01-01</td>\n",
       "      <td>24382.683</td>\n",
       "    </tr>\n",
       "    <tr>\n",
       "      <th>122</th>\n",
       "      <td>2022-07-28</td>\n",
       "      <td>2022-08-24</td>\n",
       "      <td>2022-04-01</td>\n",
       "      <td>24851.809</td>\n",
       "    </tr>\n",
       "    <tr>\n",
       "      <th>123</th>\n",
       "      <td>2022-10-27</td>\n",
       "      <td>2022-11-29</td>\n",
       "      <td>2022-07-01</td>\n",
       "      <td>25663.289</td>\n",
       "    </tr>\n",
       "    <tr>\n",
       "      <th>124</th>\n",
       "      <td>2023-01-26</td>\n",
       "      <td>2023-02-22</td>\n",
       "      <td>2022-10-01</td>\n",
       "      <td>26132.458</td>\n",
       "    </tr>\n",
       "    <tr>\n",
       "      <th>125</th>\n",
       "      <td>2023-04-27</td>\n",
       "      <td>9999-12-31</td>\n",
       "      <td>2023-01-01</td>\n",
       "      <td>26465.865</td>\n",
       "    </tr>\n",
       "  </tbody>\n",
       "</table>\n",
       "</div>"
      ],
      "text/plain": [
       "    realtime_start realtime_end       date      value\n",
       "121     2022-04-28   2022-05-25 2022-01-01  24382.683\n",
       "122     2022-07-28   2022-08-24 2022-04-01  24851.809\n",
       "123     2022-10-27   2022-11-29 2022-07-01  25663.289\n",
       "124     2023-01-26   2023-02-22 2022-10-01  26132.458\n",
       "125     2023-04-27   9999-12-31 2023-01-01  26465.865"
      ]
     },
     "execution_count": 10,
     "metadata": {},
     "output_type": "execute_result"
    }
   ],
   "source": [
    "gdp_initial_release_df = pf.get_series_initial_release(\"GDP\")\n",
    "gdp_initial_release_df.tail()"
   ]
  },
  {
   "cell_type": "markdown",
   "id": "4912f5a0",
   "metadata": {},
   "source": [
    "### Get releases as-of date\n",
    "\n",
    "`get_series_asof_date` returns all releases of a series made on or before a given date. This is helpful if you want limit your analysis window to only the data know on or before a given date.\n",
    "\n",
    "For example, suppose we want the GDP estimates available on or before 2022-09-01. We can use `get_series_asof_date` with the date `2022-09-01`. The response includes the Q2 2022 estimates for 2022-07-28 and 2022-08-25, but not 2022-09-29 since that is after 2022-09-01."
   ]
  },
  {
   "cell_type": "code",
   "execution_count": 11,
   "id": "2d9d8131",
   "metadata": {},
   "outputs": [
    {
     "data": {
      "text/html": [
       "<div>\n",
       "<style scoped>\n",
       "    .dataframe tbody tr th:only-of-type {\n",
       "        vertical-align: middle;\n",
       "    }\n",
       "\n",
       "    .dataframe tbody tr th {\n",
       "        vertical-align: top;\n",
       "    }\n",
       "\n",
       "    .dataframe thead th {\n",
       "        text-align: right;\n",
       "    }\n",
       "</style>\n",
       "<table border=\"1\" class=\"dataframe\">\n",
       "  <thead>\n",
       "    <tr style=\"text-align: right;\">\n",
       "      <th></th>\n",
       "      <th>realtime_start</th>\n",
       "      <th>realtime_end</th>\n",
       "      <th>date</th>\n",
       "      <th>value</th>\n",
       "    </tr>\n",
       "  </thead>\n",
       "  <tbody>\n",
       "    <tr>\n",
       "      <th>3071</th>\n",
       "      <td>2022-04-28</td>\n",
       "      <td>2022-05-25</td>\n",
       "      <td>2022-01-01</td>\n",
       "      <td>24382.683</td>\n",
       "    </tr>\n",
       "    <tr>\n",
       "      <th>3072</th>\n",
       "      <td>2022-05-26</td>\n",
       "      <td>2022-06-28</td>\n",
       "      <td>2022-01-01</td>\n",
       "      <td>24384.289</td>\n",
       "    </tr>\n",
       "    <tr>\n",
       "      <th>3073</th>\n",
       "      <td>2022-06-29</td>\n",
       "      <td>2022-09-01</td>\n",
       "      <td>2022-01-01</td>\n",
       "      <td>24386.734</td>\n",
       "    </tr>\n",
       "    <tr>\n",
       "      <th>3074</th>\n",
       "      <td>2022-07-28</td>\n",
       "      <td>2022-08-24</td>\n",
       "      <td>2022-04-01</td>\n",
       "      <td>24851.809</td>\n",
       "    </tr>\n",
       "    <tr>\n",
       "      <th>3075</th>\n",
       "      <td>2022-08-25</td>\n",
       "      <td>2022-09-01</td>\n",
       "      <td>2022-04-01</td>\n",
       "      <td>24882.878</td>\n",
       "    </tr>\n",
       "  </tbody>\n",
       "</table>\n",
       "</div>"
      ],
      "text/plain": [
       "     realtime_start realtime_end       date      value\n",
       "3071     2022-04-28   2022-05-25 2022-01-01  24382.683\n",
       "3072     2022-05-26   2022-06-28 2022-01-01  24384.289\n",
       "3073     2022-06-29   2022-09-01 2022-01-01  24386.734\n",
       "3074     2022-07-28   2022-08-24 2022-04-01  24851.809\n",
       "3075     2022-08-25   2022-09-01 2022-04-01  24882.878"
      ]
     },
     "execution_count": 11,
     "metadata": {},
     "output_type": "execute_result"
    }
   ],
   "source": [
    "gdp_090122_df = pf.get_series_asof_date(\"GDP\", date=\"2022-09-01\")\n",
    "gdp_090122_df.tail()"
   ]
  },
  {
   "cell_type": "markdown",
   "id": "72dcdc06",
   "metadata": {},
   "source": [
    "## Additional Parameters\n",
    "\n",
    "You can pass additional arguments to the FRED API via `**kwargs`. The FRED API endpoint supports many parameters to customize your query. See the [FRED API docs](https://fred.stlouisfed.org/docs/api/fred/) for details."
   ]
  },
  {
   "cell_type": "code",
   "execution_count": 12,
   "id": "24dc9d3e",
   "metadata": {},
   "outputs": [],
   "source": [
    "extra_parameters = {\n",
    "    \"observation_start\": \"2020-01-01\",\n",
    "    \"observation_end\": \"2020-12-31\",\n",
    "}\n",
    "\n",
    "gdp_df = pf.get_series(series_id=\"GDP\", **extra_parameters)"
   ]
  },
  {
   "cell_type": "code",
   "execution_count": 13,
   "id": "a6232cb6",
   "metadata": {},
   "outputs": [
    {
     "data": {
      "text/html": [
       "<div>\n",
       "<style scoped>\n",
       "    .dataframe tbody tr th:only-of-type {\n",
       "        vertical-align: middle;\n",
       "    }\n",
       "\n",
       "    .dataframe tbody tr th {\n",
       "        vertical-align: top;\n",
       "    }\n",
       "\n",
       "    .dataframe thead th {\n",
       "        text-align: right;\n",
       "    }\n",
       "</style>\n",
       "<table border=\"1\" class=\"dataframe\">\n",
       "  <thead>\n",
       "    <tr style=\"text-align: right;\">\n",
       "      <th></th>\n",
       "      <th>realtime_start</th>\n",
       "      <th>realtime_end</th>\n",
       "      <th>date</th>\n",
       "      <th>value</th>\n",
       "    </tr>\n",
       "  </thead>\n",
       "  <tbody>\n",
       "    <tr>\n",
       "      <th>0</th>\n",
       "      <td>2023-04-27</td>\n",
       "      <td>2023-04-27</td>\n",
       "      <td>2020-01-01</td>\n",
       "      <td>21538.032</td>\n",
       "    </tr>\n",
       "    <tr>\n",
       "      <th>1</th>\n",
       "      <td>2023-04-27</td>\n",
       "      <td>2023-04-27</td>\n",
       "      <td>2020-04-01</td>\n",
       "      <td>19636.731</td>\n",
       "    </tr>\n",
       "    <tr>\n",
       "      <th>2</th>\n",
       "      <td>2023-04-27</td>\n",
       "      <td>2023-04-27</td>\n",
       "      <td>2020-07-01</td>\n",
       "      <td>21362.428</td>\n",
       "    </tr>\n",
       "    <tr>\n",
       "      <th>3</th>\n",
       "      <td>2023-04-27</td>\n",
       "      <td>2023-04-27</td>\n",
       "      <td>2020-10-01</td>\n",
       "      <td>21704.706</td>\n",
       "    </tr>\n",
       "  </tbody>\n",
       "</table>\n",
       "</div>"
      ],
      "text/plain": [
       "  realtime_start realtime_end       date      value\n",
       "0     2023-04-27   2023-04-27 2020-01-01  21538.032\n",
       "1     2023-04-27   2023-04-27 2020-04-01  19636.731\n",
       "2     2023-04-27   2023-04-27 2020-07-01  21362.428\n",
       "3     2023-04-27   2023-04-27 2020-10-01  21704.706"
      ]
     },
     "execution_count": 13,
     "metadata": {},
     "output_type": "execute_result"
    }
   ],
   "source": [
    "gdp_df"
   ]
  }
 ],
 "metadata": {
  "kernelspec": {
   "display_name": "Python 3.10.1 ('.venv': poetry)",
   "language": "python",
   "name": "python3"
  },
  "language_info": {
   "codemirror_mode": {
    "name": "ipython",
    "version": 3
   },
   "file_extension": ".py",
   "mimetype": "text/x-python",
   "name": "python",
   "nbconvert_exporter": "python",
   "pygments_lexer": "ipython3",
   "version": "3.11.2"
  },
  "vscode": {
   "interpreter": {
    "hash": "9f8da5f516a0f7b58441e46157a772613635e3a9b5450eafa77dccb7c363b35a"
   }
  }
 },
 "nbformat": 4,
 "nbformat_minor": 5
}
