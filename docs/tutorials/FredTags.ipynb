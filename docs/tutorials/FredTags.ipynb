{
 "cells": [
  {
   "cell_type": "markdown",
   "id": "d133ecd3-a11c-43df-99ed-841ddd48cad9",
   "metadata": {},
   "source": [
    "# FredTags"
   ]
  }
 ],
 "metadata": {
  "kernelspec": {
   "display_name": "Python 3 (ipykernel)",
   "language": "python",
   "name": "python3"
  },
  "language_info": {
   "codemirror_mode": {
    "name": "ipython",
    "version": 3
   },
   "file_extension": ".py",
   "mimetype": "text/x-python",
   "name": "python",
   "nbconvert_exporter": "python",
   "pygments_lexer": "ipython3",
   "version": "3.10.1"
  }
 },
 "nbformat": 4,
 "nbformat_minor": 5
}
