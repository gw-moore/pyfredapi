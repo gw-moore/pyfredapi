{
 "cells": [
  {
   "cell_type": "markdown",
   "metadata": {},
   "source": [
    "# Series Collection\n",
    "\n",
    "Often users of the FRED API will want analyze multiple economic series. This can be done with `FredSeries` alone, but can be tedious and cumbersome. `pyfredapi` offers the `SeriesCollection` class to streamline the process of collecting and munging data for plotting and analysis.\n",
    "\n",
    "A `SeriesCollection` object is a set of `SeriesData` objects. `SeriesCollection` provide helpful methods to:\n",
    "\n",
    "* List the metadata (frequency, seasonality, units, etc.) of the series in the collection\n",
    "* Merge series dataframes into a long dataframe\n",
    "* Merge series dataframes into a wide dataframe by index\n",
    "* Merge series dataframes into a wide dataframe by date"
   ]
  },
  {
   "attachments": {},
   "cell_type": "markdown",
   "metadata": {},
   "source": [
    "## Setup\n",
    "\n",
    "Import pyfredapi"
   ]
  },
  {
   "cell_type": "code",
   "execution_count": 1,
   "metadata": {},
   "outputs": [],
   "source": [
    "import pyfredapi as pf\n",
    "from rich.pretty import pprint"
   ]
  },
  {
   "attachments": {},
   "cell_type": "markdown",
   "metadata": {},
   "source": [
    "## Create a SeriesCollection\n",
    "\n",
    "Create an instance of `SeriesCollection`,\n",
    "\n",
    "Add data to the collection with `add_series()`. By default the column for the series values will be renamed to the series id."
   ]
  },
  {
   "cell_type": "code",
   "execution_count": 2,
   "metadata": {},
   "outputs": [
    {
     "name": "stdout",
     "output_type": "stream",
     "text": [
      "Requesting series GDP...\n"
     ]
    }
   ],
   "source": [
    "sc = pf.SeriesCollection(series_id=[\"GDP\"])"
   ]
  },
  {
   "attachments": {},
   "cell_type": "markdown",
   "metadata": {},
   "source": [
    "## Collect additional series\n",
    "\n",
    "Add more series to a `SeriesCollection` object with `add()`."
   ]
  },
  {
   "cell_type": "code",
   "execution_count": 3,
   "metadata": {},
   "outputs": [
    {
     "name": "stdout",
     "output_type": "stream",
     "text": [
      "Requesting series SP500...\n"
     ]
    }
   ],
   "source": [
    "sc.add(series_id=[\"SP500\"])"
   ]
  },
  {
   "attachments": {},
   "cell_type": "markdown",
   "metadata": {},
   "source": [
    "### Remove series\n",
    "\n",
    "Remove series from the collection with `remove()`."
   ]
  },
  {
   "cell_type": "code",
   "execution_count": 4,
   "metadata": {},
   "outputs": [
    {
     "name": "stdout",
     "output_type": "stream",
     "text": [
      "Removed series SP500\n"
     ]
    }
   ],
   "source": [
    "sc.remove(\"SP500\")"
   ]
  },
  {
   "cell_type": "markdown",
   "metadata": {},
   "source": [
    "## Plot Series\n",
    "\n",
    "The `plot` method builds a [plotly](https://plotly.com/python/) time series plot of the data."
   ]
  },
  {
   "cell_type": "code",
   "execution_count": 5,
   "metadata": {},
   "outputs": [
    {
     "data": {
      "text/html": [
       "<div>            <script src=\"https://cdnjs.cloudflare.com/ajax/libs/mathjax/2.7.5/MathJax.js?config=TeX-AMS-MML_SVG\"></script><script type=\"text/javascript\">if (window.MathJax && window.MathJax.Hub && window.MathJax.Hub.Config) {window.MathJax.Hub.Config({SVG: {font: \"STIX-Web\"}});}</script>                <script type=\"text/javascript\">window.PlotlyConfig = {MathJaxConfig: 'local'};</script>\n",
       "        <script charset=\"utf-8\" src=\"https://cdn.plot.ly/plotly-2.27.0.min.js\"></script>                <div id=\"d83319f1-40e8-4787-bcfa-63266b87df42\" class=\"plotly-graph-div\" style=\"height:525px; width:100%;\"></div>            <script type=\"text/javascript\">                                    window.PLOTLYENV=window.PLOTLYENV || {};                                    if (document.getElementById(\"d83319f1-40e8-4787-bcfa-63266b87df42\")) {                    Plotly.newPlot(                        \"d83319f1-40e8-4787-bcfa-63266b87df42\",                        [{\"hovertemplate\":\"Series=GDP\\u003cbr\\u003eDate=%{x}\\u003cbr\\u003eGDP=%{y}\\u003cextra\\u003e\\u003c\\u002fextra\\u003e\",\"legendgroup\":\"GDP\",\"line\":{\"color\":\"rgb(136, 204, 238)\",\"dash\":\"solid\"},\"marker\":{\"symbol\":\"circle\"},\"mode\":\"lines\",\"name\":\"GDP\",\"orientation\":\"v\",\"showlegend\":true,\"x\":[\"1946-01-01T00:00:00\",\"1946-04-01T00:00:00\",\"1946-07-01T00:00:00\",\"1946-10-01T00:00:00\",\"1947-01-01T00:00:00\",\"1947-04-01T00:00:00\",\"1947-07-01T00:00:00\",\"1947-10-01T00:00:00\",\"1948-01-01T00:00:00\",\"1948-04-01T00:00:00\",\"1948-07-01T00:00:00\",\"1948-10-01T00:00:00\",\"1949-01-01T00:00:00\",\"1949-04-01T00:00:00\",\"1949-07-01T00:00:00\",\"1949-10-01T00:00:00\",\"1950-01-01T00:00:00\",\"1950-04-01T00:00:00\",\"1950-07-01T00:00:00\",\"1950-10-01T00:00:00\",\"1951-01-01T00:00:00\",\"1951-04-01T00:00:00\",\"1951-07-01T00:00:00\",\"1951-10-01T00:00:00\",\"1952-01-01T00:00:00\",\"1952-04-01T00:00:00\",\"1952-07-01T00:00:00\",\"1952-10-01T00:00:00\",\"1953-01-01T00:00:00\",\"1953-04-01T00:00:00\",\"1953-07-01T00:00:00\",\"1953-10-01T00:00:00\",\"1954-01-01T00:00:00\",\"1954-04-01T00:00:00\",\"1954-07-01T00:00:00\",\"1954-10-01T00:00:00\",\"1955-01-01T00:00:00\",\"1955-04-01T00:00:00\",\"1955-07-01T00:00:00\",\"1955-10-01T00:00:00\",\"1956-01-01T00:00:00\",\"1956-04-01T00:00:00\",\"1956-07-01T00:00:00\",\"1956-10-01T00:00:00\",\"1957-01-01T00:00:00\",\"1957-04-01T00:00:00\",\"1957-07-01T00:00:00\",\"1957-10-01T00:00:00\",\"1958-01-01T00:00:00\",\"1958-04-01T00:00:00\",\"1958-07-01T00:00:00\",\"1958-10-01T00:00:00\",\"1959-01-01T00:00:00\",\"1959-04-01T00:00:00\",\"1959-07-01T00:00:00\",\"1959-10-01T00:00:00\",\"1960-01-01T00:00:00\",\"1960-04-01T00:00:00\",\"1960-07-01T00:00:00\",\"1960-10-01T00:00:00\",\"1961-01-01T00:00:00\",\"1961-04-01T00:00:00\",\"1961-07-01T00:00:00\",\"1961-10-01T00:00:00\",\"1962-01-01T00:00:00\",\"1962-04-01T00:00:00\",\"1962-07-01T00:00:00\",\"1962-10-01T00:00:00\",\"1963-01-01T00:00:00\",\"1963-04-01T00:00:00\",\"1963-07-01T00:00:00\",\"1963-10-01T00:00:00\",\"1964-01-01T00:00:00\",\"1964-04-01T00:00:00\",\"1964-07-01T00:00:00\",\"1964-10-01T00:00:00\",\"1965-01-01T00:00:00\",\"1965-04-01T00:00:00\",\"1965-07-01T00:00:00\",\"1965-10-01T00:00:00\",\"1966-01-01T00:00:00\",\"1966-04-01T00:00:00\",\"1966-07-01T00:00:00\",\"1966-10-01T00:00:00\",\"1967-01-01T00:00:00\",\"1967-04-01T00:00:00\",\"1967-07-01T00:00:00\",\"1967-10-01T00:00:00\",\"1968-01-01T00:00:00\",\"1968-04-01T00:00:00\",\"1968-07-01T00:00:00\",\"1968-10-01T00:00:00\",\"1969-01-01T00:00:00\",\"1969-04-01T00:00:00\",\"1969-07-01T00:00:00\",\"1969-10-01T00:00:00\",\"1970-01-01T00:00:00\",\"1970-04-01T00:00:00\",\"1970-07-01T00:00:00\",\"1970-10-01T00:00:00\",\"1971-01-01T00:00:00\",\"1971-04-01T00:00:00\",\"1971-07-01T00:00:00\",\"1971-10-01T00:00:00\",\"1972-01-01T00:00:00\",\"1972-04-01T00:00:00\",\"1972-07-01T00:00:00\",\"1972-10-01T00:00:00\",\"1973-01-01T00:00:00\",\"1973-04-01T00:00:00\",\"1973-07-01T00:00:00\",\"1973-10-01T00:00:00\",\"1974-01-01T00:00:00\",\"1974-04-01T00:00:00\",\"1974-07-01T00:00:00\",\"1974-10-01T00:00:00\",\"1975-01-01T00:00:00\",\"1975-04-01T00:00:00\",\"1975-07-01T00:00:00\",\"1975-10-01T00:00:00\",\"1976-01-01T00:00:00\",\"1976-04-01T00:00:00\",\"1976-07-01T00:00:00\",\"1976-10-01T00:00:00\",\"1977-01-01T00:00:00\",\"1977-04-01T00:00:00\",\"1977-07-01T00:00:00\",\"1977-10-01T00:00:00\",\"1978-01-01T00:00:00\",\"1978-04-01T00:00:00\",\"1978-07-01T00:00:00\",\"1978-10-01T00:00:00\",\"1979-01-01T00:00:00\",\"1979-04-01T00:00:00\",\"1979-07-01T00:00:00\",\"1979-10-01T00:00:00\",\"1980-01-01T00:00:00\",\"1980-04-01T00:00:00\",\"1980-07-01T00:00:00\",\"1980-10-01T00:00:00\",\"1981-01-01T00:00:00\",\"1981-04-01T00:00:00\",\"1981-07-01T00:00:00\",\"1981-10-01T00:00:00\",\"1982-01-01T00:00:00\",\"1982-04-01T00:00:00\",\"1982-07-01T00:00:00\",\"1982-10-01T00:00:00\",\"1983-01-01T00:00:00\",\"1983-04-01T00:00:00\",\"1983-07-01T00:00:00\",\"1983-10-01T00:00:00\",\"1984-01-01T00:00:00\",\"1984-04-01T00:00:00\",\"1984-07-01T00:00:00\",\"1984-10-01T00:00:00\",\"1985-01-01T00:00:00\",\"1985-04-01T00:00:00\",\"1985-07-01T00:00:00\",\"1985-10-01T00:00:00\",\"1986-01-01T00:00:00\",\"1986-04-01T00:00:00\",\"1986-07-01T00:00:00\",\"1986-10-01T00:00:00\",\"1987-01-01T00:00:00\",\"1987-04-01T00:00:00\",\"1987-07-01T00:00:00\",\"1987-10-01T00:00:00\",\"1988-01-01T00:00:00\",\"1988-04-01T00:00:00\",\"1988-07-01T00:00:00\",\"1988-10-01T00:00:00\",\"1989-01-01T00:00:00\",\"1989-04-01T00:00:00\",\"1989-07-01T00:00:00\",\"1989-10-01T00:00:00\",\"1990-01-01T00:00:00\",\"1990-04-01T00:00:00\",\"1990-07-01T00:00:00\",\"1990-10-01T00:00:00\",\"1991-01-01T00:00:00\",\"1991-04-01T00:00:00\",\"1991-07-01T00:00:00\",\"1991-10-01T00:00:00\",\"1992-01-01T00:00:00\",\"1992-04-01T00:00:00\",\"1992-07-01T00:00:00\",\"1992-10-01T00:00:00\",\"1993-01-01T00:00:00\",\"1993-04-01T00:00:00\",\"1993-07-01T00:00:00\",\"1993-10-01T00:00:00\",\"1994-01-01T00:00:00\",\"1994-04-01T00:00:00\",\"1994-07-01T00:00:00\",\"1994-10-01T00:00:00\",\"1995-01-01T00:00:00\",\"1995-04-01T00:00:00\",\"1995-07-01T00:00:00\",\"1995-10-01T00:00:00\",\"1996-01-01T00:00:00\",\"1996-04-01T00:00:00\",\"1996-07-01T00:00:00\",\"1996-10-01T00:00:00\",\"1997-01-01T00:00:00\",\"1997-04-01T00:00:00\",\"1997-07-01T00:00:00\",\"1997-10-01T00:00:00\",\"1998-01-01T00:00:00\",\"1998-04-01T00:00:00\",\"1998-07-01T00:00:00\",\"1998-10-01T00:00:00\",\"1999-01-01T00:00:00\",\"1999-04-01T00:00:00\",\"1999-07-01T00:00:00\",\"1999-10-01T00:00:00\",\"2000-01-01T00:00:00\",\"2000-04-01T00:00:00\",\"2000-07-01T00:00:00\",\"2000-10-01T00:00:00\",\"2001-01-01T00:00:00\",\"2001-04-01T00:00:00\",\"2001-07-01T00:00:00\",\"2001-10-01T00:00:00\",\"2002-01-01T00:00:00\",\"2002-04-01T00:00:00\",\"2002-07-01T00:00:00\",\"2002-10-01T00:00:00\",\"2003-01-01T00:00:00\",\"2003-04-01T00:00:00\",\"2003-07-01T00:00:00\",\"2003-10-01T00:00:00\",\"2004-01-01T00:00:00\",\"2004-04-01T00:00:00\",\"2004-07-01T00:00:00\",\"2004-10-01T00:00:00\",\"2005-01-01T00:00:00\",\"2005-04-01T00:00:00\",\"2005-07-01T00:00:00\",\"2005-10-01T00:00:00\",\"2006-01-01T00:00:00\",\"2006-04-01T00:00:00\",\"2006-07-01T00:00:00\",\"2006-10-01T00:00:00\",\"2007-01-01T00:00:00\",\"2007-04-01T00:00:00\",\"2007-07-01T00:00:00\",\"2007-10-01T00:00:00\",\"2008-01-01T00:00:00\",\"2008-04-01T00:00:00\",\"2008-07-01T00:00:00\",\"2008-10-01T00:00:00\",\"2009-01-01T00:00:00\",\"2009-04-01T00:00:00\",\"2009-07-01T00:00:00\",\"2009-10-01T00:00:00\",\"2010-01-01T00:00:00\",\"2010-04-01T00:00:00\",\"2010-07-01T00:00:00\",\"2010-10-01T00:00:00\",\"2011-01-01T00:00:00\",\"2011-04-01T00:00:00\",\"2011-07-01T00:00:00\",\"2011-10-01T00:00:00\",\"2012-01-01T00:00:00\",\"2012-04-01T00:00:00\",\"2012-07-01T00:00:00\",\"2012-10-01T00:00:00\",\"2013-01-01T00:00:00\",\"2013-04-01T00:00:00\",\"2013-07-01T00:00:00\",\"2013-10-01T00:00:00\",\"2014-01-01T00:00:00\",\"2014-04-01T00:00:00\",\"2014-07-01T00:00:00\",\"2014-10-01T00:00:00\",\"2015-01-01T00:00:00\",\"2015-04-01T00:00:00\",\"2015-07-01T00:00:00\",\"2015-10-01T00:00:00\",\"2016-01-01T00:00:00\",\"2016-04-01T00:00:00\",\"2016-07-01T00:00:00\",\"2016-10-01T00:00:00\",\"2017-01-01T00:00:00\",\"2017-04-01T00:00:00\",\"2017-07-01T00:00:00\",\"2017-10-01T00:00:00\",\"2018-01-01T00:00:00\",\"2018-04-01T00:00:00\",\"2018-07-01T00:00:00\",\"2018-10-01T00:00:00\",\"2019-01-01T00:00:00\",\"2019-04-01T00:00:00\",\"2019-07-01T00:00:00\",\"2019-10-01T00:00:00\",\"2020-01-01T00:00:00\",\"2020-04-01T00:00:00\",\"2020-07-01T00:00:00\",\"2020-10-01T00:00:00\",\"2021-01-01T00:00:00\",\"2021-04-01T00:00:00\",\"2021-07-01T00:00:00\",\"2021-10-01T00:00:00\",\"2022-01-01T00:00:00\",\"2022-04-01T00:00:00\",\"2022-07-01T00:00:00\",\"2022-10-01T00:00:00\",\"2023-01-01T00:00:00\",\"2023-04-01T00:00:00\",\"2023-07-01T00:00:00\"],\"xaxis\":\"x\",\"y\":[null,null,null,null,243.164,245.968,249.585,259.745,265.742,272.567,279.196,280.366,275.034,271.351,272.889,270.627,280.828,290.383,308.153,319.945,336.0,344.09,351.385,356.178,359.82,361.03,367.701,380.812,387.98,391.749,391.171,385.97,385.345,386.121,390.996,399.734,413.073,421.532,430.221,437.092,439.746,446.01,451.191,460.463,469.779,472.025,479.49,474.864,467.54,471.978,485.841,499.555,510.33,522.653,525.034,528.6,542.648,541.08,545.604,540.197,545.018,555.545,567.664,580.612,594.013,600.366,609.027,612.28,621.672,629.752,644.444,653.938,669.822,678.674,692.031,697.319,717.79,730.191,749.323,771.857,795.734,804.981,819.638,833.302,844.17,848.983,865.233,881.439,909.387,934.344,950.825,968.03,993.337,1009.02,1029.956,1038.147,1051.2,1067.375,1086.059,1088.608,1135.156,1156.271,1177.675,1190.297,1230.609,1266.369,1290.566,1328.904,1377.49,1413.887,1433.838,1476.289,1491.209,1530.056,1560.026,1599.679,1616.116,1651.853,1709.82,1761.831,1820.487,1852.332,1886.558,1934.273,1988.648,2055.909,2118.473,2164.27,2202.76,2331.633,2395.053,2476.949,2526.61,2591.247,2667.565,2723.883,2789.842,2797.352,2856.483,2985.557,3124.206,3162.532,3260.609,3280.818,3274.302,3331.972,3366.322,3402.561,3473.413,3578.848,3689.179,3794.706,3908.054,4009.601,4084.25,4148.551,4230.168,4294.887,4386.773,4444.094,4507.894,4545.34,4607.669,4657.627,4722.156,4806.16,4884.555,5007.994,5073.372,5190.036,5282.835,5399.509,5511.253,5612.463,5695.365,5747.237,5872.701,5960.028,6015.116,6004.733,6035.178,6126.862,6205.937,6264.54,6363.102,6470.763,6566.641,6680.803,6729.459,6808.939,6882.098,7013.738,7115.652,7246.931,7331.075,7455.288,7522.289,7580.997,7683.125,7772.586,7868.468,8032.84,8131.408,8259.771,8362.655,8518.825,8662.823,8765.907,8866.48,8969.699,9121.097,9293.991,9411.682,9526.21,9686.626,9900.169,10002.179,10247.72,10318.165,10435.744,10470.231,10599.0,10598.02,10660.465,10783.5,10887.46,10984.04,11061.433,11174.129,11312.766,11566.669,11772.234,11923.447,12112.815,12305.307,12527.214,12767.286,12922.656,13142.642,13324.204,13599.16,13753.424,13870.188,14039.56,14215.651,14402.082,14564.117,14715.058,14706.538,14865.701,14898.999,14608.209,14430.902,14381.236,14448.882,14651.249,14764.61,14980.193,15141.607,15309.474,15351.448,15557.539,15647.68,15842.259,16068.805,16207.115,16319.541,16420.419,16648.189,16728.687,16953.838,17192.019,17197.738,17518.508,17804.228,17912.079,18063.529,18279.784,18401.626,18435.137,18525.933,18711.702,18892.639,19089.379,19280.084,19438.643,19692.595,20037.088,20328.553,20580.912,20798.73,20917.867,21104.133,21384.775,21694.282,21902.39,21706.513,19913.143,21647.64,22024.502,22600.185,23292.362,23828.973,24654.603,25029.116,25544.273,25994.639,26408.405,26813.601,27063.012,27623.543],\"yaxis\":\"y\",\"type\":\"scatter\"}],                        {\"template\":{\"data\":{\"histogram2dcontour\":[{\"type\":\"histogram2dcontour\",\"colorbar\":{\"outlinewidth\":0,\"ticks\":\"\"},\"colorscale\":[[0.0,\"#0d0887\"],[0.1111111111111111,\"#46039f\"],[0.2222222222222222,\"#7201a8\"],[0.3333333333333333,\"#9c179e\"],[0.4444444444444444,\"#bd3786\"],[0.5555555555555556,\"#d8576b\"],[0.6666666666666666,\"#ed7953\"],[0.7777777777777778,\"#fb9f3a\"],[0.8888888888888888,\"#fdca26\"],[1.0,\"#f0f921\"]]}],\"choropleth\":[{\"type\":\"choropleth\",\"colorbar\":{\"outlinewidth\":0,\"ticks\":\"\"}}],\"histogram2d\":[{\"type\":\"histogram2d\",\"colorbar\":{\"outlinewidth\":0,\"ticks\":\"\"},\"colorscale\":[[0.0,\"#0d0887\"],[0.1111111111111111,\"#46039f\"],[0.2222222222222222,\"#7201a8\"],[0.3333333333333333,\"#9c179e\"],[0.4444444444444444,\"#bd3786\"],[0.5555555555555556,\"#d8576b\"],[0.6666666666666666,\"#ed7953\"],[0.7777777777777778,\"#fb9f3a\"],[0.8888888888888888,\"#fdca26\"],[1.0,\"#f0f921\"]]}],\"heatmap\":[{\"type\":\"heatmap\",\"colorbar\":{\"outlinewidth\":0,\"ticks\":\"\"},\"colorscale\":[[0.0,\"#0d0887\"],[0.1111111111111111,\"#46039f\"],[0.2222222222222222,\"#7201a8\"],[0.3333333333333333,\"#9c179e\"],[0.4444444444444444,\"#bd3786\"],[0.5555555555555556,\"#d8576b\"],[0.6666666666666666,\"#ed7953\"],[0.7777777777777778,\"#fb9f3a\"],[0.8888888888888888,\"#fdca26\"],[1.0,\"#f0f921\"]]}],\"heatmapgl\":[{\"type\":\"heatmapgl\",\"colorbar\":{\"outlinewidth\":0,\"ticks\":\"\"},\"colorscale\":[[0.0,\"#0d0887\"],[0.1111111111111111,\"#46039f\"],[0.2222222222222222,\"#7201a8\"],[0.3333333333333333,\"#9c179e\"],[0.4444444444444444,\"#bd3786\"],[0.5555555555555556,\"#d8576b\"],[0.6666666666666666,\"#ed7953\"],[0.7777777777777778,\"#fb9f3a\"],[0.8888888888888888,\"#fdca26\"],[1.0,\"#f0f921\"]]}],\"contourcarpet\":[{\"type\":\"contourcarpet\",\"colorbar\":{\"outlinewidth\":0,\"ticks\":\"\"}}],\"contour\":[{\"type\":\"contour\",\"colorbar\":{\"outlinewidth\":0,\"ticks\":\"\"},\"colorscale\":[[0.0,\"#0d0887\"],[0.1111111111111111,\"#46039f\"],[0.2222222222222222,\"#7201a8\"],[0.3333333333333333,\"#9c179e\"],[0.4444444444444444,\"#bd3786\"],[0.5555555555555556,\"#d8576b\"],[0.6666666666666666,\"#ed7953\"],[0.7777777777777778,\"#fb9f3a\"],[0.8888888888888888,\"#fdca26\"],[1.0,\"#f0f921\"]]}],\"surface\":[{\"type\":\"surface\",\"colorbar\":{\"outlinewidth\":0,\"ticks\":\"\"},\"colorscale\":[[0.0,\"#0d0887\"],[0.1111111111111111,\"#46039f\"],[0.2222222222222222,\"#7201a8\"],[0.3333333333333333,\"#9c179e\"],[0.4444444444444444,\"#bd3786\"],[0.5555555555555556,\"#d8576b\"],[0.6666666666666666,\"#ed7953\"],[0.7777777777777778,\"#fb9f3a\"],[0.8888888888888888,\"#fdca26\"],[1.0,\"#f0f921\"]]}],\"mesh3d\":[{\"type\":\"mesh3d\",\"colorbar\":{\"outlinewidth\":0,\"ticks\":\"\"}}],\"scatter\":[{\"fillpattern\":{\"fillmode\":\"overlay\",\"size\":10,\"solidity\":0.2},\"type\":\"scatter\"}],\"parcoords\":[{\"type\":\"parcoords\",\"line\":{\"colorbar\":{\"outlinewidth\":0,\"ticks\":\"\"}}}],\"scatterpolargl\":[{\"type\":\"scatterpolargl\",\"marker\":{\"colorbar\":{\"outlinewidth\":0,\"ticks\":\"\"}}}],\"bar\":[{\"error_x\":{\"color\":\"#2a3f5f\"},\"error_y\":{\"color\":\"#2a3f5f\"},\"marker\":{\"line\":{\"color\":\"#E5ECF6\",\"width\":0.5},\"pattern\":{\"fillmode\":\"overlay\",\"size\":10,\"solidity\":0.2}},\"type\":\"bar\"}],\"scattergeo\":[{\"type\":\"scattergeo\",\"marker\":{\"colorbar\":{\"outlinewidth\":0,\"ticks\":\"\"}}}],\"scatterpolar\":[{\"type\":\"scatterpolar\",\"marker\":{\"colorbar\":{\"outlinewidth\":0,\"ticks\":\"\"}}}],\"histogram\":[{\"marker\":{\"pattern\":{\"fillmode\":\"overlay\",\"size\":10,\"solidity\":0.2}},\"type\":\"histogram\"}],\"scattergl\":[{\"type\":\"scattergl\",\"marker\":{\"colorbar\":{\"outlinewidth\":0,\"ticks\":\"\"}}}],\"scatter3d\":[{\"type\":\"scatter3d\",\"line\":{\"colorbar\":{\"outlinewidth\":0,\"ticks\":\"\"}},\"marker\":{\"colorbar\":{\"outlinewidth\":0,\"ticks\":\"\"}}}],\"scattermapbox\":[{\"type\":\"scattermapbox\",\"marker\":{\"colorbar\":{\"outlinewidth\":0,\"ticks\":\"\"}}}],\"scatterternary\":[{\"type\":\"scatterternary\",\"marker\":{\"colorbar\":{\"outlinewidth\":0,\"ticks\":\"\"}}}],\"scattercarpet\":[{\"type\":\"scattercarpet\",\"marker\":{\"colorbar\":{\"outlinewidth\":0,\"ticks\":\"\"}}}],\"carpet\":[{\"aaxis\":{\"endlinecolor\":\"#2a3f5f\",\"gridcolor\":\"white\",\"linecolor\":\"white\",\"minorgridcolor\":\"white\",\"startlinecolor\":\"#2a3f5f\"},\"baxis\":{\"endlinecolor\":\"#2a3f5f\",\"gridcolor\":\"white\",\"linecolor\":\"white\",\"minorgridcolor\":\"white\",\"startlinecolor\":\"#2a3f5f\"},\"type\":\"carpet\"}],\"table\":[{\"cells\":{\"fill\":{\"color\":\"#EBF0F8\"},\"line\":{\"color\":\"white\"}},\"header\":{\"fill\":{\"color\":\"#C8D4E3\"},\"line\":{\"color\":\"white\"}},\"type\":\"table\"}],\"barpolar\":[{\"marker\":{\"line\":{\"color\":\"#E5ECF6\",\"width\":0.5},\"pattern\":{\"fillmode\":\"overlay\",\"size\":10,\"solidity\":0.2}},\"type\":\"barpolar\"}],\"pie\":[{\"automargin\":true,\"type\":\"pie\"}]},\"layout\":{\"autotypenumbers\":\"strict\",\"colorway\":[\"#636efa\",\"#EF553B\",\"#00cc96\",\"#ab63fa\",\"#FFA15A\",\"#19d3f3\",\"#FF6692\",\"#B6E880\",\"#FF97FF\",\"#FECB52\"],\"font\":{\"color\":\"#2a3f5f\"},\"hovermode\":\"closest\",\"hoverlabel\":{\"align\":\"left\"},\"paper_bgcolor\":\"white\",\"plot_bgcolor\":\"#E5ECF6\",\"polar\":{\"bgcolor\":\"#E5ECF6\",\"angularaxis\":{\"gridcolor\":\"white\",\"linecolor\":\"white\",\"ticks\":\"\"},\"radialaxis\":{\"gridcolor\":\"white\",\"linecolor\":\"white\",\"ticks\":\"\"}},\"ternary\":{\"bgcolor\":\"#E5ECF6\",\"aaxis\":{\"gridcolor\":\"white\",\"linecolor\":\"white\",\"ticks\":\"\"},\"baxis\":{\"gridcolor\":\"white\",\"linecolor\":\"white\",\"ticks\":\"\"},\"caxis\":{\"gridcolor\":\"white\",\"linecolor\":\"white\",\"ticks\":\"\"}},\"coloraxis\":{\"colorbar\":{\"outlinewidth\":0,\"ticks\":\"\"}},\"colorscale\":{\"sequential\":[[0.0,\"#0d0887\"],[0.1111111111111111,\"#46039f\"],[0.2222222222222222,\"#7201a8\"],[0.3333333333333333,\"#9c179e\"],[0.4444444444444444,\"#bd3786\"],[0.5555555555555556,\"#d8576b\"],[0.6666666666666666,\"#ed7953\"],[0.7777777777777778,\"#fb9f3a\"],[0.8888888888888888,\"#fdca26\"],[1.0,\"#f0f921\"]],\"sequentialminus\":[[0.0,\"#0d0887\"],[0.1111111111111111,\"#46039f\"],[0.2222222222222222,\"#7201a8\"],[0.3333333333333333,\"#9c179e\"],[0.4444444444444444,\"#bd3786\"],[0.5555555555555556,\"#d8576b\"],[0.6666666666666666,\"#ed7953\"],[0.7777777777777778,\"#fb9f3a\"],[0.8888888888888888,\"#fdca26\"],[1.0,\"#f0f921\"]],\"diverging\":[[0,\"#8e0152\"],[0.1,\"#c51b7d\"],[0.2,\"#de77ae\"],[0.3,\"#f1b6da\"],[0.4,\"#fde0ef\"],[0.5,\"#f7f7f7\"],[0.6,\"#e6f5d0\"],[0.7,\"#b8e186\"],[0.8,\"#7fbc41\"],[0.9,\"#4d9221\"],[1,\"#276419\"]]},\"xaxis\":{\"gridcolor\":\"white\",\"linecolor\":\"white\",\"ticks\":\"\",\"title\":{\"standoff\":15},\"zerolinecolor\":\"white\",\"automargin\":true,\"zerolinewidth\":2},\"yaxis\":{\"gridcolor\":\"white\",\"linecolor\":\"white\",\"ticks\":\"\",\"title\":{\"standoff\":15},\"zerolinecolor\":\"white\",\"automargin\":true,\"zerolinewidth\":2},\"scene\":{\"xaxis\":{\"backgroundcolor\":\"#E5ECF6\",\"gridcolor\":\"white\",\"linecolor\":\"white\",\"showbackground\":true,\"ticks\":\"\",\"zerolinecolor\":\"white\",\"gridwidth\":2},\"yaxis\":{\"backgroundcolor\":\"#E5ECF6\",\"gridcolor\":\"white\",\"linecolor\":\"white\",\"showbackground\":true,\"ticks\":\"\",\"zerolinecolor\":\"white\",\"gridwidth\":2},\"zaxis\":{\"backgroundcolor\":\"#E5ECF6\",\"gridcolor\":\"white\",\"linecolor\":\"white\",\"showbackground\":true,\"ticks\":\"\",\"zerolinecolor\":\"white\",\"gridwidth\":2}},\"shapedefaults\":{\"line\":{\"color\":\"#2a3f5f\"}},\"annotationdefaults\":{\"arrowcolor\":\"#2a3f5f\",\"arrowhead\":0,\"arrowwidth\":1},\"geo\":{\"bgcolor\":\"white\",\"landcolor\":\"#E5ECF6\",\"subunitcolor\":\"white\",\"showland\":true,\"showlakes\":true,\"lakecolor\":\"white\"},\"title\":{\"x\":0.05},\"mapbox\":{\"style\":\"light\"}}},\"xaxis\":{\"anchor\":\"y\",\"domain\":[0.0,1.0],\"title\":{\"text\":\"Date\"}},\"yaxis\":{\"anchor\":\"x\",\"domain\":[0.0,1.0],\"title\":{\"text\":\"GDP\"}},\"legend\":{\"title\":{\"text\":\"Series\"},\"tracegroupgap\":0},\"title\":{\"text\":\"Gross Domestic Product, 1947-01-01 - 2023-07-01\\u003cbr\\u003e\\u003csup\\u003eSeasonally Adjusted Annual Rate, Billions of Dollars\\u003c\\u002fsup\\u003e\"},\"showlegend\":false},                        {\"responsive\": true}                    )                };                            </script>        </div>"
      ]
     },
     "metadata": {},
     "output_type": "display_data"
    }
   ],
   "source": [
    "fig = sc.GDP.plot()\n",
    "# choose the render appropriate for your environment\n",
    "fig.show(renderer=\"sphinx_gallery\")"
   ]
  },
  {
   "attachments": {},
   "cell_type": "markdown",
   "metadata": {},
   "source": [
    "## Accessing the data\n",
    "\n",
    "The `SeriesCollection` is composed of `SeriesData` objects. You can access the `SeriesData` by attribute. Each series_id added to the collection will be an attribute that returns the `SeriesData` object for that series.\n",
    "\n",
    "`SeriesData` is has two attributes.\n",
    "\n",
    "* `info` - The series metadata.\n",
    "* `df` - Series observations in a pandas dataframe."
   ]
  },
  {
   "cell_type": "markdown",
   "metadata": {},
   "source": [
    "### Access via attribute"
   ]
  },
  {
   "cell_type": "code",
   "execution_count": 6,
   "metadata": {},
   "outputs": [
    {
     "data": {
      "text/plain": [
       "True"
      ]
     },
     "execution_count": 6,
     "metadata": {},
     "output_type": "execute_result"
    }
   ],
   "source": [
    "sc.GDP == sc[\"GDP\"]"
   ]
  },
  {
   "cell_type": "code",
   "execution_count": 7,
   "metadata": {},
   "outputs": [
    {
     "data": {
      "text/html": [
       "<pre style=\"white-space:pre;overflow-x:auto;line-height:normal;font-family:Menlo,'DejaVu Sans Mono',consolas,'Courier New',monospace\"><span style=\"color: #800080; text-decoration-color: #800080; font-weight: bold\">SeriesInfo</span><span style=\"font-weight: bold\">(</span>\n",
       "<span style=\"color: #7fbf7f; text-decoration-color: #7fbf7f\">│   </span><span style=\"color: #808000; text-decoration-color: #808000\">id</span>=<span style=\"color: #008000; text-decoration-color: #008000\">'GDP'</span>,\n",
       "<span style=\"color: #7fbf7f; text-decoration-color: #7fbf7f\">│   </span><span style=\"color: #808000; text-decoration-color: #808000\">realtime_start</span>=<span style=\"color: #008000; text-decoration-color: #008000\">'2023-11-04'</span>,\n",
       "<span style=\"color: #7fbf7f; text-decoration-color: #7fbf7f\">│   </span><span style=\"color: #808000; text-decoration-color: #808000\">realtime_end</span>=<span style=\"color: #008000; text-decoration-color: #008000\">'2023-11-04'</span>,\n",
       "<span style=\"color: #7fbf7f; text-decoration-color: #7fbf7f\">│   </span><span style=\"color: #808000; text-decoration-color: #808000\">title</span>=<span style=\"color: #008000; text-decoration-color: #008000\">'Gross Domestic Product'</span>,\n",
       "<span style=\"color: #7fbf7f; text-decoration-color: #7fbf7f\">│   </span><span style=\"color: #808000; text-decoration-color: #808000\">observation_start</span>=<span style=\"color: #008000; text-decoration-color: #008000\">'1947-01-01'</span>,\n",
       "<span style=\"color: #7fbf7f; text-decoration-color: #7fbf7f\">│   </span><span style=\"color: #808000; text-decoration-color: #808000\">observation_end</span>=<span style=\"color: #008000; text-decoration-color: #008000\">'2023-07-01'</span>,\n",
       "<span style=\"color: #7fbf7f; text-decoration-color: #7fbf7f\">│   </span><span style=\"color: #808000; text-decoration-color: #808000\">frequency</span>=<span style=\"color: #008000; text-decoration-color: #008000\">'Quarterly'</span>,\n",
       "<span style=\"color: #7fbf7f; text-decoration-color: #7fbf7f\">│   </span><span style=\"color: #808000; text-decoration-color: #808000\">frequency_short</span>=<span style=\"color: #008000; text-decoration-color: #008000\">'Q'</span>,\n",
       "<span style=\"color: #7fbf7f; text-decoration-color: #7fbf7f\">│   </span><span style=\"color: #808000; text-decoration-color: #808000\">units</span>=<span style=\"color: #008000; text-decoration-color: #008000\">'Billions of Dollars'</span>,\n",
       "<span style=\"color: #7fbf7f; text-decoration-color: #7fbf7f\">│   </span><span style=\"color: #808000; text-decoration-color: #808000\">units_short</span>=<span style=\"color: #008000; text-decoration-color: #008000\">'Bil. of $'</span>,\n",
       "<span style=\"color: #7fbf7f; text-decoration-color: #7fbf7f\">│   </span><span style=\"color: #808000; text-decoration-color: #808000\">seasonal_adjustment</span>=<span style=\"color: #008000; text-decoration-color: #008000\">'Seasonally Adjusted Annual Rate'</span>,\n",
       "<span style=\"color: #7fbf7f; text-decoration-color: #7fbf7f\">│   </span><span style=\"color: #808000; text-decoration-color: #808000\">seasonal_adjustment_short</span>=<span style=\"color: #008000; text-decoration-color: #008000\">'SAAR'</span>,\n",
       "<span style=\"color: #7fbf7f; text-decoration-color: #7fbf7f\">│   </span><span style=\"color: #808000; text-decoration-color: #808000\">last_updated</span>=<span style=\"color: #008000; text-decoration-color: #008000\">'2023-10-26 07:55:01-05'</span>,\n",
       "<span style=\"color: #7fbf7f; text-decoration-color: #7fbf7f\">│   </span><span style=\"color: #808000; text-decoration-color: #808000\">popularity</span>=<span style=\"color: #008080; text-decoration-color: #008080; font-weight: bold\">92</span>,\n",
       "<span style=\"color: #7fbf7f; text-decoration-color: #7fbf7f\">│   </span><span style=\"color: #808000; text-decoration-color: #808000\">notes</span>=<span style=\"color: #008000; text-decoration-color: #008000\">'BEA Account Code: A191RC\\n\\nGross domestic product (GDP), the featured measure of U.S. output, is the market value of the goods and services produced by labor and property located in the United States.For more information, see the Guide to the National Income and Product Accounts of the United States (NIPA) and the Bureau of Economic Analysis (http://www.bea.gov/national/pdf/nipaguid.pdf).'</span>\n",
       "<span style=\"font-weight: bold\">)</span>\n",
       "</pre>\n"
      ],
      "text/plain": [
       "\u001b[1;35mSeriesInfo\u001b[0m\u001b[1m(\u001b[0m\n",
       "\u001b[2;32m│   \u001b[0m\u001b[33mid\u001b[0m=\u001b[32m'GDP'\u001b[0m,\n",
       "\u001b[2;32m│   \u001b[0m\u001b[33mrealtime_start\u001b[0m=\u001b[32m'2023-11-04'\u001b[0m,\n",
       "\u001b[2;32m│   \u001b[0m\u001b[33mrealtime_end\u001b[0m=\u001b[32m'2023-11-04'\u001b[0m,\n",
       "\u001b[2;32m│   \u001b[0m\u001b[33mtitle\u001b[0m=\u001b[32m'Gross Domestic Product'\u001b[0m,\n",
       "\u001b[2;32m│   \u001b[0m\u001b[33mobservation_start\u001b[0m=\u001b[32m'1947-01-01'\u001b[0m,\n",
       "\u001b[2;32m│   \u001b[0m\u001b[33mobservation_end\u001b[0m=\u001b[32m'2023-07-01'\u001b[0m,\n",
       "\u001b[2;32m│   \u001b[0m\u001b[33mfrequency\u001b[0m=\u001b[32m'Quarterly'\u001b[0m,\n",
       "\u001b[2;32m│   \u001b[0m\u001b[33mfrequency_short\u001b[0m=\u001b[32m'Q'\u001b[0m,\n",
       "\u001b[2;32m│   \u001b[0m\u001b[33munits\u001b[0m=\u001b[32m'Billions of Dollars'\u001b[0m,\n",
       "\u001b[2;32m│   \u001b[0m\u001b[33munits_short\u001b[0m=\u001b[32m'Bil. of $'\u001b[0m,\n",
       "\u001b[2;32m│   \u001b[0m\u001b[33mseasonal_adjustment\u001b[0m=\u001b[32m'Seasonally Adjusted Annual Rate'\u001b[0m,\n",
       "\u001b[2;32m│   \u001b[0m\u001b[33mseasonal_adjustment_short\u001b[0m=\u001b[32m'SAAR'\u001b[0m,\n",
       "\u001b[2;32m│   \u001b[0m\u001b[33mlast_updated\u001b[0m=\u001b[32m'2023-10-26 07:55:01-05'\u001b[0m,\n",
       "\u001b[2;32m│   \u001b[0m\u001b[33mpopularity\u001b[0m=\u001b[1;36m92\u001b[0m,\n",
       "\u001b[2;32m│   \u001b[0m\u001b[33mnotes\u001b[0m=\u001b[32m'BEA Account Code: A191RC\\n\\nGross domestic product \u001b[0m\u001b[32m(\u001b[0m\u001b[32mGDP\u001b[0m\u001b[32m)\u001b[0m\u001b[32m, the featured measure of U.S. output, is the market value of the goods and services produced by labor and property located in the United States.For more information, see the Guide to the National Income and Product Accounts of the United States \u001b[0m\u001b[32m(\u001b[0m\u001b[32mNIPA\u001b[0m\u001b[32m)\u001b[0m\u001b[32m and the Bureau of Economic Analysis \u001b[0m\u001b[32m(\u001b[0m\u001b[32mhttp://www.bea.gov/national/pdf/nipaguid.pdf\u001b[0m\u001b[32m)\u001b[0m\u001b[32m.'\u001b[0m\n",
       "\u001b[1m)\u001b[0m\n"
      ]
     },
     "metadata": {},
     "output_type": "display_data"
    }
   ],
   "source": [
    "pprint(sc.GDP.info)"
   ]
  },
  {
   "cell_type": "code",
   "execution_count": 8,
   "metadata": {},
   "outputs": [
    {
     "data": {
      "text/html": [
       "<div>\n",
       "<style scoped>\n",
       "    .dataframe tbody tr th:only-of-type {\n",
       "        vertical-align: middle;\n",
       "    }\n",
       "\n",
       "    .dataframe tbody tr th {\n",
       "        vertical-align: top;\n",
       "    }\n",
       "\n",
       "    .dataframe thead th {\n",
       "        text-align: right;\n",
       "    }\n",
       "</style>\n",
       "<table border=\"1\" class=\"dataframe\">\n",
       "  <thead>\n",
       "    <tr style=\"text-align: right;\">\n",
       "      <th></th>\n",
       "      <th>date</th>\n",
       "      <th>GDP</th>\n",
       "    </tr>\n",
       "  </thead>\n",
       "  <tbody>\n",
       "    <tr>\n",
       "      <th>306</th>\n",
       "      <td>2022-07-01</td>\n",
       "      <td>25994.639</td>\n",
       "    </tr>\n",
       "    <tr>\n",
       "      <th>307</th>\n",
       "      <td>2022-10-01</td>\n",
       "      <td>26408.405</td>\n",
       "    </tr>\n",
       "    <tr>\n",
       "      <th>308</th>\n",
       "      <td>2023-01-01</td>\n",
       "      <td>26813.601</td>\n",
       "    </tr>\n",
       "    <tr>\n",
       "      <th>309</th>\n",
       "      <td>2023-04-01</td>\n",
       "      <td>27063.012</td>\n",
       "    </tr>\n",
       "    <tr>\n",
       "      <th>310</th>\n",
       "      <td>2023-07-01</td>\n",
       "      <td>27623.543</td>\n",
       "    </tr>\n",
       "  </tbody>\n",
       "</table>\n",
       "</div>"
      ],
      "text/plain": [
       "          date        GDP\n",
       "306 2022-07-01  25994.639\n",
       "307 2022-10-01  26408.405\n",
       "308 2023-01-01  26813.601\n",
       "309 2023-04-01  27063.012\n",
       "310 2023-07-01  27623.543"
      ]
     },
     "execution_count": 8,
     "metadata": {},
     "output_type": "execute_result"
    }
   ],
   "source": [
    "sc.GDP.df.tail()"
   ]
  },
  {
   "attachments": {},
   "cell_type": "markdown",
   "metadata": {},
   "source": [
    "## Access via bracket notation"
   ]
  },
  {
   "cell_type": "code",
   "execution_count": 9,
   "metadata": {},
   "outputs": [
    {
     "data": {
      "text/html": [
       "<pre style=\"white-space:pre;overflow-x:auto;line-height:normal;font-family:Menlo,'DejaVu Sans Mono',consolas,'Courier New',monospace\"><span style=\"color: #800080; text-decoration-color: #800080; font-weight: bold\">SeriesInfo</span><span style=\"font-weight: bold\">(</span>\n",
       "<span style=\"color: #7fbf7f; text-decoration-color: #7fbf7f\">│   </span><span style=\"color: #808000; text-decoration-color: #808000\">id</span>=<span style=\"color: #008000; text-decoration-color: #008000\">'GDP'</span>,\n",
       "<span style=\"color: #7fbf7f; text-decoration-color: #7fbf7f\">│   </span><span style=\"color: #808000; text-decoration-color: #808000\">realtime_start</span>=<span style=\"color: #008000; text-decoration-color: #008000\">'2023-11-04'</span>,\n",
       "<span style=\"color: #7fbf7f; text-decoration-color: #7fbf7f\">│   </span><span style=\"color: #808000; text-decoration-color: #808000\">realtime_end</span>=<span style=\"color: #008000; text-decoration-color: #008000\">'2023-11-04'</span>,\n",
       "<span style=\"color: #7fbf7f; text-decoration-color: #7fbf7f\">│   </span><span style=\"color: #808000; text-decoration-color: #808000\">title</span>=<span style=\"color: #008000; text-decoration-color: #008000\">'Gross Domestic Product'</span>,\n",
       "<span style=\"color: #7fbf7f; text-decoration-color: #7fbf7f\">│   </span><span style=\"color: #808000; text-decoration-color: #808000\">observation_start</span>=<span style=\"color: #008000; text-decoration-color: #008000\">'1947-01-01'</span>,\n",
       "<span style=\"color: #7fbf7f; text-decoration-color: #7fbf7f\">│   </span><span style=\"color: #808000; text-decoration-color: #808000\">observation_end</span>=<span style=\"color: #008000; text-decoration-color: #008000\">'2023-07-01'</span>,\n",
       "<span style=\"color: #7fbf7f; text-decoration-color: #7fbf7f\">│   </span><span style=\"color: #808000; text-decoration-color: #808000\">frequency</span>=<span style=\"color: #008000; text-decoration-color: #008000\">'Quarterly'</span>,\n",
       "<span style=\"color: #7fbf7f; text-decoration-color: #7fbf7f\">│   </span><span style=\"color: #808000; text-decoration-color: #808000\">frequency_short</span>=<span style=\"color: #008000; text-decoration-color: #008000\">'Q'</span>,\n",
       "<span style=\"color: #7fbf7f; text-decoration-color: #7fbf7f\">│   </span><span style=\"color: #808000; text-decoration-color: #808000\">units</span>=<span style=\"color: #008000; text-decoration-color: #008000\">'Billions of Dollars'</span>,\n",
       "<span style=\"color: #7fbf7f; text-decoration-color: #7fbf7f\">│   </span><span style=\"color: #808000; text-decoration-color: #808000\">units_short</span>=<span style=\"color: #008000; text-decoration-color: #008000\">'Bil. of $'</span>,\n",
       "<span style=\"color: #7fbf7f; text-decoration-color: #7fbf7f\">│   </span><span style=\"color: #808000; text-decoration-color: #808000\">seasonal_adjustment</span>=<span style=\"color: #008000; text-decoration-color: #008000\">'Seasonally Adjusted Annual Rate'</span>,\n",
       "<span style=\"color: #7fbf7f; text-decoration-color: #7fbf7f\">│   </span><span style=\"color: #808000; text-decoration-color: #808000\">seasonal_adjustment_short</span>=<span style=\"color: #008000; text-decoration-color: #008000\">'SAAR'</span>,\n",
       "<span style=\"color: #7fbf7f; text-decoration-color: #7fbf7f\">│   </span><span style=\"color: #808000; text-decoration-color: #808000\">last_updated</span>=<span style=\"color: #008000; text-decoration-color: #008000\">'2023-10-26 07:55:01-05'</span>,\n",
       "<span style=\"color: #7fbf7f; text-decoration-color: #7fbf7f\">│   </span><span style=\"color: #808000; text-decoration-color: #808000\">popularity</span>=<span style=\"color: #008080; text-decoration-color: #008080; font-weight: bold\">92</span>,\n",
       "<span style=\"color: #7fbf7f; text-decoration-color: #7fbf7f\">│   </span><span style=\"color: #808000; text-decoration-color: #808000\">notes</span>=<span style=\"color: #008000; text-decoration-color: #008000\">'BEA Account Code: A191RC\\n\\nGross domestic product (GDP), the featured measure of U.S. output, is the market value of the goods and services produced by labor and property located in the United States.For more information, see the Guide to the National Income and Product Accounts of the United States (NIPA) and the Bureau of Economic Analysis (http://www.bea.gov/national/pdf/nipaguid.pdf).'</span>\n",
       "<span style=\"font-weight: bold\">)</span>\n",
       "</pre>\n"
      ],
      "text/plain": [
       "\u001b[1;35mSeriesInfo\u001b[0m\u001b[1m(\u001b[0m\n",
       "\u001b[2;32m│   \u001b[0m\u001b[33mid\u001b[0m=\u001b[32m'GDP'\u001b[0m,\n",
       "\u001b[2;32m│   \u001b[0m\u001b[33mrealtime_start\u001b[0m=\u001b[32m'2023-11-04'\u001b[0m,\n",
       "\u001b[2;32m│   \u001b[0m\u001b[33mrealtime_end\u001b[0m=\u001b[32m'2023-11-04'\u001b[0m,\n",
       "\u001b[2;32m│   \u001b[0m\u001b[33mtitle\u001b[0m=\u001b[32m'Gross Domestic Product'\u001b[0m,\n",
       "\u001b[2;32m│   \u001b[0m\u001b[33mobservation_start\u001b[0m=\u001b[32m'1947-01-01'\u001b[0m,\n",
       "\u001b[2;32m│   \u001b[0m\u001b[33mobservation_end\u001b[0m=\u001b[32m'2023-07-01'\u001b[0m,\n",
       "\u001b[2;32m│   \u001b[0m\u001b[33mfrequency\u001b[0m=\u001b[32m'Quarterly'\u001b[0m,\n",
       "\u001b[2;32m│   \u001b[0m\u001b[33mfrequency_short\u001b[0m=\u001b[32m'Q'\u001b[0m,\n",
       "\u001b[2;32m│   \u001b[0m\u001b[33munits\u001b[0m=\u001b[32m'Billions of Dollars'\u001b[0m,\n",
       "\u001b[2;32m│   \u001b[0m\u001b[33munits_short\u001b[0m=\u001b[32m'Bil. of $'\u001b[0m,\n",
       "\u001b[2;32m│   \u001b[0m\u001b[33mseasonal_adjustment\u001b[0m=\u001b[32m'Seasonally Adjusted Annual Rate'\u001b[0m,\n",
       "\u001b[2;32m│   \u001b[0m\u001b[33mseasonal_adjustment_short\u001b[0m=\u001b[32m'SAAR'\u001b[0m,\n",
       "\u001b[2;32m│   \u001b[0m\u001b[33mlast_updated\u001b[0m=\u001b[32m'2023-10-26 07:55:01-05'\u001b[0m,\n",
       "\u001b[2;32m│   \u001b[0m\u001b[33mpopularity\u001b[0m=\u001b[1;36m92\u001b[0m,\n",
       "\u001b[2;32m│   \u001b[0m\u001b[33mnotes\u001b[0m=\u001b[32m'BEA Account Code: A191RC\\n\\nGross domestic product \u001b[0m\u001b[32m(\u001b[0m\u001b[32mGDP\u001b[0m\u001b[32m)\u001b[0m\u001b[32m, the featured measure of U.S. output, is the market value of the goods and services produced by labor and property located in the United States.For more information, see the Guide to the National Income and Product Accounts of the United States \u001b[0m\u001b[32m(\u001b[0m\u001b[32mNIPA\u001b[0m\u001b[32m)\u001b[0m\u001b[32m and the Bureau of Economic Analysis \u001b[0m\u001b[32m(\u001b[0m\u001b[32mhttp://www.bea.gov/national/pdf/nipaguid.pdf\u001b[0m\u001b[32m)\u001b[0m\u001b[32m.'\u001b[0m\n",
       "\u001b[1m)\u001b[0m\n"
      ]
     },
     "metadata": {},
     "output_type": "display_data"
    }
   ],
   "source": [
    "pprint(sc[\"GDP\"].info)"
   ]
  },
  {
   "cell_type": "markdown",
   "metadata": {},
   "source": [
    "## Rename series in the collection"
   ]
  },
  {
   "cell_type": "markdown",
   "metadata": {},
   "source": [
    "### Rename on add\n",
    "\n",
    "You can rename the series when adding them to the collection. Renaming can be done with a dictionary mapping the series id to the new name, or with a function which parses the series title into the new name."
   ]
  },
  {
   "cell_type": "code",
   "execution_count": 10,
   "metadata": {},
   "outputs": [
    {
     "name": "stdout",
     "output_type": "stream",
     "text": [
      "Requesting series CPIAUCSL...\n",
      "Requesting series CPILFESL...\n"
     ]
    }
   ],
   "source": [
    "# Rename with a dictionary\n",
    "new_names = {\n",
    "    \"CPIAUCSL\": \"cpi_all_items\",\n",
    "    \"CPILFESL\": \"cpi_all_items_less_food_and_energy\",\n",
    "}\n",
    "\n",
    "cpi_sc = pf.SeriesCollection(series_id=[\"CPIAUCSL\", \"CPILFESL\"], rename=new_names)"
   ]
  },
  {
   "cell_type": "code",
   "execution_count": 11,
   "metadata": {},
   "outputs": [
    {
     "data": {
      "text/html": [
       "<div>\n",
       "<style scoped>\n",
       "    .dataframe tbody tr th:only-of-type {\n",
       "        vertical-align: middle;\n",
       "    }\n",
       "\n",
       "    .dataframe tbody tr th {\n",
       "        vertical-align: top;\n",
       "    }\n",
       "\n",
       "    .dataframe thead th {\n",
       "        text-align: right;\n",
       "    }\n",
       "</style>\n",
       "<table border=\"1\" class=\"dataframe\">\n",
       "  <thead>\n",
       "    <tr style=\"text-align: right;\">\n",
       "      <th></th>\n",
       "      <th>date</th>\n",
       "      <th>cpi_all_items</th>\n",
       "    </tr>\n",
       "  </thead>\n",
       "  <tbody>\n",
       "    <tr>\n",
       "      <th>0</th>\n",
       "      <td>1947-01-01</td>\n",
       "      <td>21.48</td>\n",
       "    </tr>\n",
       "    <tr>\n",
       "      <th>1</th>\n",
       "      <td>1947-02-01</td>\n",
       "      <td>21.62</td>\n",
       "    </tr>\n",
       "    <tr>\n",
       "      <th>2</th>\n",
       "      <td>1947-03-01</td>\n",
       "      <td>22.00</td>\n",
       "    </tr>\n",
       "    <tr>\n",
       "      <th>3</th>\n",
       "      <td>1947-04-01</td>\n",
       "      <td>22.00</td>\n",
       "    </tr>\n",
       "    <tr>\n",
       "      <th>4</th>\n",
       "      <td>1947-05-01</td>\n",
       "      <td>21.95</td>\n",
       "    </tr>\n",
       "  </tbody>\n",
       "</table>\n",
       "</div>"
      ],
      "text/plain": [
       "        date  cpi_all_items\n",
       "0 1947-01-01          21.48\n",
       "1 1947-02-01          21.62\n",
       "2 1947-03-01          22.00\n",
       "3 1947-04-01          22.00\n",
       "4 1947-05-01          21.95"
      ]
     },
     "execution_count": 11,
     "metadata": {},
     "output_type": "execute_result"
    }
   ],
   "source": [
    "cpi_sc.CPIAUCSL.df.head()"
   ]
  },
  {
   "cell_type": "code",
   "execution_count": 12,
   "metadata": {},
   "outputs": [
    {
     "data": {
      "text/html": [
       "<div>\n",
       "<style scoped>\n",
       "    .dataframe tbody tr th:only-of-type {\n",
       "        vertical-align: middle;\n",
       "    }\n",
       "\n",
       "    .dataframe tbody tr th {\n",
       "        vertical-align: top;\n",
       "    }\n",
       "\n",
       "    .dataframe thead th {\n",
       "        text-align: right;\n",
       "    }\n",
       "</style>\n",
       "<table border=\"1\" class=\"dataframe\">\n",
       "  <thead>\n",
       "    <tr style=\"text-align: right;\">\n",
       "      <th></th>\n",
       "      <th>date</th>\n",
       "      <th>cpi_all_items_less_food_and_energy</th>\n",
       "    </tr>\n",
       "  </thead>\n",
       "  <tbody>\n",
       "    <tr>\n",
       "      <th>0</th>\n",
       "      <td>1957-01-01</td>\n",
       "      <td>28.5</td>\n",
       "    </tr>\n",
       "    <tr>\n",
       "      <th>1</th>\n",
       "      <td>1957-02-01</td>\n",
       "      <td>28.6</td>\n",
       "    </tr>\n",
       "    <tr>\n",
       "      <th>2</th>\n",
       "      <td>1957-03-01</td>\n",
       "      <td>28.7</td>\n",
       "    </tr>\n",
       "    <tr>\n",
       "      <th>3</th>\n",
       "      <td>1957-04-01</td>\n",
       "      <td>28.8</td>\n",
       "    </tr>\n",
       "    <tr>\n",
       "      <th>4</th>\n",
       "      <td>1957-05-01</td>\n",
       "      <td>28.8</td>\n",
       "    </tr>\n",
       "  </tbody>\n",
       "</table>\n",
       "</div>"
      ],
      "text/plain": [
       "        date  cpi_all_items_less_food_and_energy\n",
       "0 1957-01-01                                28.5\n",
       "1 1957-02-01                                28.6\n",
       "2 1957-03-01                                28.7\n",
       "3 1957-04-01                                28.8\n",
       "4 1957-05-01                                28.8"
      ]
     },
     "execution_count": 12,
     "metadata": {},
     "output_type": "execute_result"
    }
   ],
   "source": [
    "cpi_sc.CPILFESL.df.head()"
   ]
  },
  {
   "cell_type": "markdown",
   "metadata": {},
   "source": [
    "### Rename after add\n",
    "\n",
    "You can rename series in the collection with the `rename_series` method. Works the same way as renaming on add."
   ]
  },
  {
   "cell_type": "code",
   "execution_count": 13,
   "metadata": {},
   "outputs": [],
   "source": [
    "def parse_cpi_title(title: str) -> str:\n",
    "    \"\"\"Parse CPI series title into a readable label.\"\"\"\n",
    "    return (\n",
    "        title.lower()\n",
    "        .replace(\"consumer price index\", \"CPI \")\n",
    "        .replace(\" for all urban consumers: \", \"\")\n",
    "        .replace(\" in u.s. city average\", \"\")\n",
    "        .title()\n",
    "    )\n",
    "\n",
    "\n",
    "cpi_sc.rename_series(rename=parse_cpi_title)"
   ]
  },
  {
   "cell_type": "code",
   "execution_count": 14,
   "metadata": {},
   "outputs": [
    {
     "data": {
      "text/html": [
       "<div>\n",
       "<style scoped>\n",
       "    .dataframe tbody tr th:only-of-type {\n",
       "        vertical-align: middle;\n",
       "    }\n",
       "\n",
       "    .dataframe tbody tr th {\n",
       "        vertical-align: top;\n",
       "    }\n",
       "\n",
       "    .dataframe thead th {\n",
       "        text-align: right;\n",
       "    }\n",
       "</style>\n",
       "<table border=\"1\" class=\"dataframe\">\n",
       "  <thead>\n",
       "    <tr style=\"text-align: right;\">\n",
       "      <th></th>\n",
       "      <th>date</th>\n",
       "      <th>Cpi All Items</th>\n",
       "    </tr>\n",
       "  </thead>\n",
       "  <tbody>\n",
       "    <tr>\n",
       "      <th>0</th>\n",
       "      <td>1947-01-01</td>\n",
       "      <td>21.48</td>\n",
       "    </tr>\n",
       "    <tr>\n",
       "      <th>1</th>\n",
       "      <td>1947-02-01</td>\n",
       "      <td>21.62</td>\n",
       "    </tr>\n",
       "    <tr>\n",
       "      <th>2</th>\n",
       "      <td>1947-03-01</td>\n",
       "      <td>22.00</td>\n",
       "    </tr>\n",
       "    <tr>\n",
       "      <th>3</th>\n",
       "      <td>1947-04-01</td>\n",
       "      <td>22.00</td>\n",
       "    </tr>\n",
       "    <tr>\n",
       "      <th>4</th>\n",
       "      <td>1947-05-01</td>\n",
       "      <td>21.95</td>\n",
       "    </tr>\n",
       "  </tbody>\n",
       "</table>\n",
       "</div>"
      ],
      "text/plain": [
       "        date  Cpi All Items\n",
       "0 1947-01-01          21.48\n",
       "1 1947-02-01          21.62\n",
       "2 1947-03-01          22.00\n",
       "3 1947-04-01          22.00\n",
       "4 1947-05-01          21.95"
      ]
     },
     "execution_count": 14,
     "metadata": {},
     "output_type": "execute_result"
    }
   ],
   "source": [
    "cpi_sc.CPIAUCSL.df.head()"
   ]
  },
  {
   "cell_type": "markdown",
   "metadata": {},
   "source": [
    "## List metadata\n",
    "\n",
    "`SeriesCollection` has a number of list methods to print out the metadata of the series in the collection."
   ]
  },
  {
   "cell_type": "markdown",
   "metadata": {},
   "source": [
    "### Series in the collection"
   ]
  },
  {
   "cell_type": "code",
   "execution_count": 15,
   "metadata": {},
   "outputs": [
    {
     "data": {
      "text/html": [
       "<pre style=\"white-space:pre;overflow-x:auto;line-height:normal;font-family:Menlo,'DejaVu Sans Mono',consolas,'Courier New',monospace\">CPIAUCSL: Consumer Price Index for All Urban Consumers: All Items in U.S. City Average\n",
       "</pre>\n"
      ],
      "text/plain": [
       "CPIAUCSL: Consumer Price Index for All Urban Consumers: All Items in U.S. City Average\n"
      ]
     },
     "metadata": {},
     "output_type": "display_data"
    },
    {
     "data": {
      "text/html": [
       "<pre style=\"white-space:pre;overflow-x:auto;line-height:normal;font-family:Menlo,'DejaVu Sans Mono',consolas,'Courier New',monospace\">CPILFESL: Consumer Price Index for All Urban Consumers: All Items Less Food and Energy in U.S. City Average\n",
       "</pre>\n"
      ],
      "text/plain": [
       "CPILFESL: Consumer Price Index for All Urban Consumers: All Items Less Food and Energy in U.S. City Average\n"
      ]
     },
     "metadata": {},
     "output_type": "display_data"
    }
   ],
   "source": [
    "cpi_sc.list_series()"
   ]
  },
  {
   "cell_type": "markdown",
   "metadata": {},
   "source": [
    "### Frequency"
   ]
  },
  {
   "cell_type": "code",
   "execution_count": 16,
   "metadata": {},
   "outputs": [
    {
     "name": "stdout",
     "output_type": "stream",
     "text": [
      "All series are Monthly\n"
     ]
    }
   ],
   "source": [
    "cpi_sc.list_frequency()"
   ]
  },
  {
   "cell_type": "markdown",
   "metadata": {},
   "source": [
    "### Seasonality"
   ]
  },
  {
   "cell_type": "code",
   "execution_count": 17,
   "metadata": {},
   "outputs": [
    {
     "name": "stdout",
     "output_type": "stream",
     "text": [
      "All series are Seasonally Adjusted\n"
     ]
    }
   ],
   "source": [
    "cpi_sc.list_seasonality()"
   ]
  },
  {
   "cell_type": "markdown",
   "metadata": {},
   "source": [
    "### Units"
   ]
  },
  {
   "cell_type": "code",
   "execution_count": 18,
   "metadata": {},
   "outputs": [
    {
     "name": "stdout",
     "output_type": "stream",
     "text": [
      "All series are that are measured in Index 1982-1984=100\n"
     ]
    }
   ],
   "source": [
    "cpi_sc.list_units()"
   ]
  },
  {
   "cell_type": "markdown",
   "metadata": {},
   "source": [
    "### Dates"
   ]
  },
  {
   "cell_type": "code",
   "execution_count": 19,
   "metadata": {},
   "outputs": [
    {
     "name": "stdout",
     "output_type": "stream",
     "text": [
      "All series end on 2023-09-01\n"
     ]
    }
   ],
   "source": [
    "cpi_sc.list_end_date()"
   ]
  },
  {
   "cell_type": "code",
   "execution_count": 20,
   "metadata": {},
   "outputs": [
    {
     "data": {
      "text/html": [
       "<pre style=\"white-space:pre;overflow-x:auto;line-height:normal;font-family:Menlo,'DejaVu Sans Mono',consolas,'Courier New',monospace\"><span style=\"color: #00ff00; text-decoration-color: #00ff00\">───────────────────────────────────────── </span><span style=\"color: #800000; text-decoration-color: #800000; font-weight: bold\">Series that start on </span><span style=\"color: #800000; text-decoration-color: #800000; font-weight: bold\">1957</span><span style=\"color: #800000; text-decoration-color: #800000; font-weight: bold\">-</span><span style=\"color: #800000; text-decoration-color: #800000; font-weight: bold\">01</span><span style=\"color: #800000; text-decoration-color: #800000; font-weight: bold\">-</span><span style=\"color: #800000; text-decoration-color: #800000; font-weight: bold\">01</span><span style=\"color: #00ff00; text-decoration-color: #00ff00\"> ─────────────────────────────────────────</span>\n",
       "</pre>\n"
      ],
      "text/plain": [
       "\u001b[92m───────────────────────────────────────── \u001b[0m\u001b[1;31mSeries that start on \u001b[0m\u001b[1;31m1957\u001b[0m\u001b[1;31m-\u001b[0m\u001b[1;31m01\u001b[0m\u001b[1;31m-\u001b[0m\u001b[1;31m01\u001b[0m\u001b[92m ─────────────────────────────────────────\u001b[0m\n"
      ]
     },
     "metadata": {},
     "output_type": "display_data"
    },
    {
     "data": {
      "text/html": [
       "<pre style=\"white-space:pre;overflow-x:auto;line-height:normal;font-family:Menlo,'DejaVu Sans Mono',consolas,'Courier New',monospace\">CPILFESL: Consumer Price Index for All Urban Consumers: All Items Less Food and Energy in U.S. City Average\n",
       "</pre>\n"
      ],
      "text/plain": [
       "CPILFESL: Consumer Price Index for All Urban Consumers: All Items Less Food and Energy in U.S. City Average\n"
      ]
     },
     "metadata": {},
     "output_type": "display_data"
    },
    {
     "data": {
      "text/html": [
       "<pre style=\"white-space:pre;overflow-x:auto;line-height:normal;font-family:Menlo,'DejaVu Sans Mono',consolas,'Courier New',monospace\"><span style=\"color: #00ff00; text-decoration-color: #00ff00\">───────────────────────────────────────── </span><span style=\"color: #800000; text-decoration-color: #800000; font-weight: bold\">Series that start on </span><span style=\"color: #800000; text-decoration-color: #800000; font-weight: bold\">1947</span><span style=\"color: #800000; text-decoration-color: #800000; font-weight: bold\">-</span><span style=\"color: #800000; text-decoration-color: #800000; font-weight: bold\">01</span><span style=\"color: #800000; text-decoration-color: #800000; font-weight: bold\">-</span><span style=\"color: #800000; text-decoration-color: #800000; font-weight: bold\">01</span><span style=\"color: #00ff00; text-decoration-color: #00ff00\"> ─────────────────────────────────────────</span>\n",
       "</pre>\n"
      ],
      "text/plain": [
       "\u001b[92m───────────────────────────────────────── \u001b[0m\u001b[1;31mSeries that start on \u001b[0m\u001b[1;31m1947\u001b[0m\u001b[1;31m-\u001b[0m\u001b[1;31m01\u001b[0m\u001b[1;31m-\u001b[0m\u001b[1;31m01\u001b[0m\u001b[92m ─────────────────────────────────────────\u001b[0m\n"
      ]
     },
     "metadata": {},
     "output_type": "display_data"
    },
    {
     "data": {
      "text/html": [
       "<pre style=\"white-space:pre;overflow-x:auto;line-height:normal;font-family:Menlo,'DejaVu Sans Mono',consolas,'Courier New',monospace\">CPIAUCSL: Consumer Price Index for All Urban Consumers: All Items in U.S. City Average\n",
       "</pre>\n"
      ],
      "text/plain": [
       "CPIAUCSL: Consumer Price Index for All Urban Consumers: All Items in U.S. City Average\n"
      ]
     },
     "metadata": {},
     "output_type": "display_data"
    }
   ],
   "source": [
    "cpi_sc.list_start_date()"
   ]
  },
  {
   "cell_type": "markdown",
   "metadata": {},
   "source": [
    "## Merge data\n",
    "\n",
    "`SeriesCollection` supports merging the data into long and wide formats. By default the series ID will be used as the column name or observation label."
   ]
  },
  {
   "cell_type": "markdown",
   "metadata": {},
   "source": [
    "### Merge long\n",
    "\n",
    "Merge the series in the collection into a long pandas dataframe."
   ]
  },
  {
   "cell_type": "code",
   "execution_count": 21,
   "metadata": {},
   "outputs": [
    {
     "data": {
      "text/html": [
       "<div>\n",
       "<style scoped>\n",
       "    .dataframe tbody tr th:only-of-type {\n",
       "        vertical-align: middle;\n",
       "    }\n",
       "\n",
       "    .dataframe tbody tr th {\n",
       "        vertical-align: top;\n",
       "    }\n",
       "\n",
       "    .dataframe thead th {\n",
       "        text-align: right;\n",
       "    }\n",
       "</style>\n",
       "<table border=\"1\" class=\"dataframe\">\n",
       "  <thead>\n",
       "    <tr style=\"text-align: right;\">\n",
       "      <th></th>\n",
       "      <th>date</th>\n",
       "      <th>value</th>\n",
       "      <th>series</th>\n",
       "    </tr>\n",
       "  </thead>\n",
       "  <tbody>\n",
       "    <tr>\n",
       "      <th>0</th>\n",
       "      <td>1947-01-01</td>\n",
       "      <td>21.480</td>\n",
       "      <td>Cpi All Items</td>\n",
       "    </tr>\n",
       "    <tr>\n",
       "      <th>1</th>\n",
       "      <td>1947-02-01</td>\n",
       "      <td>21.620</td>\n",
       "      <td>Cpi All Items</td>\n",
       "    </tr>\n",
       "    <tr>\n",
       "      <th>2</th>\n",
       "      <td>1947-03-01</td>\n",
       "      <td>22.000</td>\n",
       "      <td>Cpi All Items</td>\n",
       "    </tr>\n",
       "    <tr>\n",
       "      <th>3</th>\n",
       "      <td>1947-04-01</td>\n",
       "      <td>22.000</td>\n",
       "      <td>Cpi All Items</td>\n",
       "    </tr>\n",
       "    <tr>\n",
       "      <th>4</th>\n",
       "      <td>1947-05-01</td>\n",
       "      <td>21.950</td>\n",
       "      <td>Cpi All Items</td>\n",
       "    </tr>\n",
       "    <tr>\n",
       "      <th>...</th>\n",
       "      <td>...</td>\n",
       "      <td>...</td>\n",
       "      <td>...</td>\n",
       "    </tr>\n",
       "    <tr>\n",
       "      <th>1717</th>\n",
       "      <td>2023-05-01</td>\n",
       "      <td>307.824</td>\n",
       "      <td>Cpi All Items Less Food And Energy</td>\n",
       "    </tr>\n",
       "    <tr>\n",
       "      <th>1718</th>\n",
       "      <td>2023-06-01</td>\n",
       "      <td>308.309</td>\n",
       "      <td>Cpi All Items Less Food And Energy</td>\n",
       "    </tr>\n",
       "    <tr>\n",
       "      <th>1719</th>\n",
       "      <td>2023-07-01</td>\n",
       "      <td>308.801</td>\n",
       "      <td>Cpi All Items Less Food And Energy</td>\n",
       "    </tr>\n",
       "    <tr>\n",
       "      <th>1720</th>\n",
       "      <td>2023-08-01</td>\n",
       "      <td>309.661</td>\n",
       "      <td>Cpi All Items Less Food And Energy</td>\n",
       "    </tr>\n",
       "    <tr>\n",
       "      <th>1721</th>\n",
       "      <td>2023-09-01</td>\n",
       "      <td>310.661</td>\n",
       "      <td>Cpi All Items Less Food And Energy</td>\n",
       "    </tr>\n",
       "  </tbody>\n",
       "</table>\n",
       "<p>1722 rows × 3 columns</p>\n",
       "</div>"
      ],
      "text/plain": [
       "           date    value                              series\n",
       "0    1947-01-01   21.480                       Cpi All Items\n",
       "1    1947-02-01   21.620                       Cpi All Items\n",
       "2    1947-03-01   22.000                       Cpi All Items\n",
       "3    1947-04-01   22.000                       Cpi All Items\n",
       "4    1947-05-01   21.950                       Cpi All Items\n",
       "...         ...      ...                                 ...\n",
       "1717 2023-05-01  307.824  Cpi All Items Less Food And Energy\n",
       "1718 2023-06-01  308.309  Cpi All Items Less Food And Energy\n",
       "1719 2023-07-01  308.801  Cpi All Items Less Food And Energy\n",
       "1720 2023-08-01  309.661  Cpi All Items Less Food And Energy\n",
       "1721 2023-09-01  310.661  Cpi All Items Less Food And Energy\n",
       "\n",
       "[1722 rows x 3 columns]"
      ]
     },
     "execution_count": 21,
     "metadata": {},
     "output_type": "execute_result"
    }
   ],
   "source": [
    "cpi_long = cpi_sc.merge_long()\n",
    "cpi_long"
   ]
  },
  {
   "cell_type": "markdown",
   "metadata": {},
   "source": [
    "### Merge as-of\n",
    "\n",
    "Merge the series in the collection into a wide pandas dataframe based on nearest date. Must define a base series. The base series defines the set of dates to serve of the basis of joining."
   ]
  },
  {
   "cell_type": "code",
   "execution_count": 22,
   "metadata": {},
   "outputs": [
    {
     "data": {
      "text/html": [
       "<div>\n",
       "<style scoped>\n",
       "    .dataframe tbody tr th:only-of-type {\n",
       "        vertical-align: middle;\n",
       "    }\n",
       "\n",
       "    .dataframe tbody tr th {\n",
       "        vertical-align: top;\n",
       "    }\n",
       "\n",
       "    .dataframe thead th {\n",
       "        text-align: right;\n",
       "    }\n",
       "</style>\n",
       "<table border=\"1\" class=\"dataframe\">\n",
       "  <thead>\n",
       "    <tr style=\"text-align: right;\">\n",
       "      <th></th>\n",
       "      <th>date</th>\n",
       "      <th>Cpi All Items</th>\n",
       "      <th>Cpi All Items Less Food And Energy</th>\n",
       "    </tr>\n",
       "  </thead>\n",
       "  <tbody>\n",
       "    <tr>\n",
       "      <th>916</th>\n",
       "      <td>2023-05-01</td>\n",
       "      <td>303.294</td>\n",
       "      <td>307.824</td>\n",
       "    </tr>\n",
       "    <tr>\n",
       "      <th>917</th>\n",
       "      <td>2023-06-01</td>\n",
       "      <td>303.841</td>\n",
       "      <td>308.309</td>\n",
       "    </tr>\n",
       "    <tr>\n",
       "      <th>918</th>\n",
       "      <td>2023-07-01</td>\n",
       "      <td>304.348</td>\n",
       "      <td>308.801</td>\n",
       "    </tr>\n",
       "    <tr>\n",
       "      <th>919</th>\n",
       "      <td>2023-08-01</td>\n",
       "      <td>306.269</td>\n",
       "      <td>309.661</td>\n",
       "    </tr>\n",
       "    <tr>\n",
       "      <th>920</th>\n",
       "      <td>2023-09-01</td>\n",
       "      <td>307.481</td>\n",
       "      <td>310.661</td>\n",
       "    </tr>\n",
       "  </tbody>\n",
       "</table>\n",
       "</div>"
      ],
      "text/plain": [
       "          date  Cpi All Items  Cpi All Items Less Food And Energy\n",
       "916 2023-05-01        303.294                             307.824\n",
       "917 2023-06-01        303.841                             308.309\n",
       "918 2023-07-01        304.348                             308.801\n",
       "919 2023-08-01        306.269                             309.661\n",
       "920 2023-09-01        307.481                             310.661"
      ]
     },
     "execution_count": 22,
     "metadata": {},
     "output_type": "execute_result"
    }
   ],
   "source": [
    "cpi_asof = cpi_sc.merge_asof(base_series_id=\"CPIAUCSL\")\n",
    "cpi_asof.tail()"
   ]
  },
  {
   "cell_type": "markdown",
   "metadata": {},
   "source": [
    "### Merge wide\n",
    "\n",
    "Merge the series in the collection into a wide pandas dataframe. Only works if all the series in the collection share the same date index."
   ]
  },
  {
   "cell_type": "code",
   "execution_count": 23,
   "metadata": {},
   "outputs": [
    {
     "data": {
      "text/html": [
       "<div>\n",
       "<style scoped>\n",
       "    .dataframe tbody tr th:only-of-type {\n",
       "        vertical-align: middle;\n",
       "    }\n",
       "\n",
       "    .dataframe tbody tr th {\n",
       "        vertical-align: top;\n",
       "    }\n",
       "\n",
       "    .dataframe thead th {\n",
       "        text-align: right;\n",
       "    }\n",
       "</style>\n",
       "<table border=\"1\" class=\"dataframe\">\n",
       "  <thead>\n",
       "    <tr style=\"text-align: right;\">\n",
       "      <th></th>\n",
       "      <th>date</th>\n",
       "      <th>Cpi All Items</th>\n",
       "      <th>Cpi All Items Less Food And Energy</th>\n",
       "    </tr>\n",
       "  </thead>\n",
       "  <tbody>\n",
       "    <tr>\n",
       "      <th>916</th>\n",
       "      <td>2023-05-01</td>\n",
       "      <td>303.294</td>\n",
       "      <td>307.824</td>\n",
       "    </tr>\n",
       "    <tr>\n",
       "      <th>917</th>\n",
       "      <td>2023-06-01</td>\n",
       "      <td>303.841</td>\n",
       "      <td>308.309</td>\n",
       "    </tr>\n",
       "    <tr>\n",
       "      <th>918</th>\n",
       "      <td>2023-07-01</td>\n",
       "      <td>304.348</td>\n",
       "      <td>308.801</td>\n",
       "    </tr>\n",
       "    <tr>\n",
       "      <th>919</th>\n",
       "      <td>2023-08-01</td>\n",
       "      <td>306.269</td>\n",
       "      <td>309.661</td>\n",
       "    </tr>\n",
       "    <tr>\n",
       "      <th>920</th>\n",
       "      <td>2023-09-01</td>\n",
       "      <td>307.481</td>\n",
       "      <td>310.661</td>\n",
       "    </tr>\n",
       "  </tbody>\n",
       "</table>\n",
       "</div>"
      ],
      "text/plain": [
       "          date  Cpi All Items  Cpi All Items Less Food And Energy\n",
       "916 2023-05-01        303.294                             307.824\n",
       "917 2023-06-01        303.841                             308.309\n",
       "918 2023-07-01        304.348                             308.801\n",
       "919 2023-08-01        306.269                             309.661\n",
       "920 2023-09-01        307.481                             310.661"
      ]
     },
     "execution_count": 23,
     "metadata": {},
     "output_type": "execute_result"
    }
   ],
   "source": [
    "cpi_wide = cpi_sc.merge_wide()\n",
    "cpi_wide.tail()"
   ]
  }
 ],
 "metadata": {
  "kernelspec": {
   "display_name": "Python 3.10.1 ('.venv': poetry)",
   "language": "python",
   "name": "python3"
  },
  "language_info": {
   "codemirror_mode": {
    "name": "ipython",
    "version": 3
   },
   "file_extension": ".py",
   "mimetype": "text/x-python",
   "name": "python",
   "nbconvert_exporter": "python",
   "pygments_lexer": "ipython3",
   "version": "3.12.0"
  },
  "orig_nbformat": 4,
  "vscode": {
   "interpreter": {
    "hash": "9f8da5f516a0f7b58441e46157a772613635e3a9b5450eafa77dccb7c363b35a"
   }
  }
 },
 "nbformat": 4,
 "nbformat_minor": 2
}
