{
 "cells": [
  {
   "cell_type": "markdown",
   "id": "7cbad414",
   "metadata": {},
   "source": [
    "# FredSeries Overview\n",
    "\n",
    "This documentation serves as a quick start guide to `FredSeries`. To review all of the `FredSeries` functionality please see the [API documentation](https://pyfredapi.readthedocs.io/en/latest/references/api.html#module-pyfredapi.api.series).\n",
    "\n",
    "A primary use case of the FRED web service is to pull economic series observations for analysis or reporting. `FredSeries` covers all of the economic series endpoints available from the FRED API."
   ]
  },
  {
   "cell_type": "code",
   "execution_count": null,
   "id": "41acbef2",
   "metadata": {},
   "outputs": [],
   "source": [
    "from pyfredapi import FredSeries\n",
    "from rich import print as rprint"
   ]
  },
  {
   "cell_type": "code",
   "execution_count": null,
   "id": "4c18ab12",
   "metadata": {},
   "outputs": [],
   "source": [
    "client = FredSeries()"
   ]
  },
  {
   "cell_type": "markdown",
   "id": "736e6209",
   "metadata": {},
   "source": [
    "## Get series info\n",
    "\n",
    "Before looking at series data, it is helpful to understand the `pyfredapi`'s `get_series_info` method and `SeriesInfo` object. Each series published by FRED has associated metadata, such as the observations start and end dates, the frequency at which the series is published, and so on. You can query a series' information directly with `get_series_info`. `get_series_info` returns a `SeriesInfo` object that contains all the metadata for the given series.\n",
    "\n",
    "In the below example, we request information on the Feds Funds Rate. From the result, we can see that the Federal Funds Rate series is available back to 1954-07-01 and is published every month."
   ]
  },
  {
   "cell_type": "code",
   "execution_count": null,
   "id": "06d9ea55",
   "metadata": {},
   "outputs": [],
   "source": [
    "fed_funds_info = client.get_series_info(series_id=\"FEDFUNDS\")"
   ]
  },
  {
   "cell_type": "code",
   "execution_count": null,
   "id": "ac5748f3",
   "metadata": {
    "scrolled": true
   },
   "outputs": [],
   "source": [
    "# Using rich to pretty print the SeriesInfo\n",
    "rprint(fed_funds_info)"
   ]
  },
  {
   "cell_type": "markdown",
   "id": "6809519b",
   "metadata": {},
   "source": [
    "`SeriesInfo` also provides a useful method to open the FRED webpage for the series. Call `open_url` on the info object and a new browser tab will open."
   ]
  },
  {
   "cell_type": "code",
   "execution_count": null,
   "id": "9b14d963",
   "metadata": {},
   "outputs": [],
   "source": [
    "fed_funds_info.open_url()"
   ]
  },
  {
   "cell_type": "markdown",
   "id": "6a74c86d",
   "metadata": {},
   "source": [
    "## Pull data with `FredSeries`\n",
    "\n",
    "The `get_series` method gets the latest data available for a given series. `get_series` returns a `SeriesData` object. SeriesData is made of two components. The first is info, which is the same as the above. The second is the data itself. The data can returned as with a pandas dataframe or json."
   ]
  },
  {
   "cell_type": "code",
   "execution_count": null,
   "id": "db9e0762",
   "metadata": {},
   "outputs": [],
   "source": [
    "fed_funds_data = client.get_series(series_id=\"FEDFUNDS\")"
   ]
  },
  {
   "cell_type": "code",
   "execution_count": null,
   "id": "44c6ca74",
   "metadata": {},
   "outputs": [],
   "source": [
    "fed_funds_data.info == fed_funds_info"
   ]
  },
  {
   "cell_type": "code",
   "execution_count": null,
   "id": "5e015cdb",
   "metadata": {},
   "outputs": [],
   "source": [
    "fed_funds_data.data.tail()"
   ]
  },
  {
   "cell_type": "code",
   "execution_count": null,
   "id": "9f292ec7",
   "metadata": {},
   "outputs": [],
   "source": [
    "fed_funds_data.data.dtypes"
   ]
  },
  {
   "cell_type": "markdown",
   "id": "d37dbabd",
   "metadata": {},
   "source": [
    "## Plot Series\n",
    "\n",
    "If you have [plotly](https://plotly.com/python/) installed, you can use the `plot` method to build a time series plot of the data."
   ]
  },
  {
   "cell_type": "code",
   "execution_count": null,
   "id": "e8cb0a5b",
   "metadata": {},
   "outputs": [],
   "source": [
    "fed_funds_data.plot()"
   ]
  },
  {
   "cell_type": "markdown",
   "id": "ae55d33c",
   "metadata": {},
   "source": [
    "## Data revisions\n",
    "\n",
    "Many economic series are often revised as more complete information is made available. Every time a new version of a data series is released, FRED displays the latest version, and the replaced version is archived in [ALFRED](https://alfred.stlouisfed.org/). ALFRED stores all the previous versions of data so that it possible to understand, \"what was known when?\".\n",
    "\n",
    "`pyfredapi` provides methods to access data from ALFRED:\n",
    "\n",
    "* `get_series_all_releases` - get data for all releases\n",
    "* `get_series_initial_release` - get data for the initial release\n",
    "* `get_series_asof_date` - get data released on or before a specific date"
   ]
  },
  {
   "cell_type": "markdown",
   "id": "52fc3f6c",
   "metadata": {},
   "source": [
    "### Get all releases\n",
    "\n",
    "`get_series_all_releases` returns all the observations for each release of an economic series. In the example below, a request is made for all the releases of Gross Domestic Product. We can see that the GDP estimates for Q2 2022 has been revised 3 times. The first release was on 2022-07-28. Since then, two revisions have been released on 2022-08-25 and 2022-09-29."
   ]
  },
  {
   "cell_type": "code",
   "execution_count": null,
   "id": "5c1e9ca9",
   "metadata": {},
   "outputs": [],
   "source": [
    "gdp_all_releases = client.get_series_all_releases(\"GDP\")\n",
    "gdp_all_releases.data.tail()"
   ]
  },
  {
   "cell_type": "markdown",
   "id": "a471bce2",
   "metadata": {},
   "source": [
    "### Get initial release\n",
    "\n",
    "`get_series_initial_release` return only the first release of the series. Below we see that only first estimate of Q2 2022 GDP released on 2022-07-28 is included in the dataframe."
   ]
  },
  {
   "cell_type": "code",
   "execution_count": null,
   "id": "72a6b101",
   "metadata": {},
   "outputs": [],
   "source": [
    "gdp_initial_release = client.get_series_initial_release(\"GDP\")\n",
    "gdp_initial_release.data.tail()"
   ]
  },
  {
   "cell_type": "markdown",
   "id": "4912f5a0",
   "metadata": {},
   "source": [
    "## Get releases as of a data\n",
    "\n",
    "`get_series_asof_date` returns all releases of a series made on or before a given date. This is helpful if you want limit your analysis window to only the data available on a given date.\n",
    "\n",
    "For example, suppose we want the GDP estimates available on or before 2022-09-01. We can use `get_series_asof_date` with the date `2022-09-01`. The response includes the Q2 2022 estimates for 2022-07-28 and 2022-08-25, but not 2022-09-29 since that is after 2022-09-01."
   ]
  },
  {
   "cell_type": "code",
   "execution_count": null,
   "id": "2d9d8131",
   "metadata": {},
   "outputs": [],
   "source": [
    "gdp_090122 = client.get_series_asof_date(\"GDP\", date=\"2022-09-01\")\n",
    "gdp_090122.data.tail()"
   ]
  }
 ],
 "metadata": {
  "kernelspec": {
   "display_name": "Python 3.10.1 ('.venv': poetry)",
   "language": "python",
   "name": "python3"
  },
  "language_info": {
   "codemirror_mode": {
    "name": "ipython",
    "version": 3
   },
   "file_extension": ".py",
   "mimetype": "text/x-python",
   "name": "python",
   "nbconvert_exporter": "python",
   "pygments_lexer": "ipython3",
   "version": "3.10.1"
  },
  "vscode": {
   "interpreter": {
    "hash": "9f8da5f516a0f7b58441e46157a772613635e3a9b5450eafa77dccb7c363b35a"
   }
  }
 },
 "nbformat": 4,
 "nbformat_minor": 5
}
