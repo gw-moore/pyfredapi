{
 "cells": [
  {
   "cell_type": "markdown",
   "id": "7cbad414",
   "metadata": {},
   "source": [
    "# FredSeries Overview\n",
    "\n",
    "This documentation serves as a quick start guide to `FredSeries`. To review all of the `FredSeries` functionality please see the [API documentation](https://pyfredapi.readthedocs.io/en/latest/references/api.html#module-pyfredapi.api.series).\n",
    "\n",
    "A primary use case of the FRED web service is to pull economic series observations for analysis or reporting. `FredSeries` covers all of the economic series endpoints available from the FRED API."
   ]
  },
  {
   "cell_type": "code",
   "execution_count": 7,
   "id": "41acbef2",
   "metadata": {},
   "outputs": [],
   "source": [
    "from pyfredapi import FredSeries\n",
    "from rich import print as rprint"
   ]
  },
  {
   "cell_type": "code",
   "execution_count": 8,
   "id": "4c18ab12",
   "metadata": {},
   "outputs": [],
   "source": [
    "client = FredSeries()"
   ]
  },
  {
   "cell_type": "markdown",
   "id": "736e6209",
   "metadata": {},
   "source": [
    "## Get series info\n",
    "\n",
    "Before looking at series data, it is helpful to understand the `pyfredapi`'s `get_series_info` method and `SeriesInfo` object. Each series published by FRED has associated metadata, such as the observations start and end dates, the frequency at which the series is published, and so on. You can query a series' information directly with `get_series_info`. `get_series_info` returns a `SeriesInfo` object that contains all the metadata for the given series.\n",
    "\n",
    "In the below example, we request information on the Feds Funds Rate. From the result, we can see that the Federal Funds Rate series is available back to 1954-07-01 and is published every month."
   ]
  },
  {
   "cell_type": "code",
   "execution_count": 9,
   "id": "06d9ea55",
   "metadata": {},
   "outputs": [],
   "source": [
    "fed_funds_info = client.get_series_info(series_id=\"FEDFUNDS\")"
   ]
  },
  {
   "cell_type": "code",
   "execution_count": 10,
   "id": "ac5748f3",
   "metadata": {
    "scrolled": true
   },
   "outputs": [
    {
     "data": {
      "text/html": [
       "<pre style=\"white-space:pre;overflow-x:auto;line-height:normal;font-family:Menlo,'DejaVu Sans Mono',consolas,'Courier New',monospace\"><span style=\"color: #800080; text-decoration-color: #800080; font-weight: bold\">SeriesInfo</span><span style=\"font-weight: bold\">(</span>\n",
       "    <span style=\"color: #808000; text-decoration-color: #808000\">id</span>=<span style=\"color: #008000; text-decoration-color: #008000\">'FEDFUNDS'</span>,\n",
       "    <span style=\"color: #808000; text-decoration-color: #808000\">realtime_start</span>=<span style=\"color: #008000; text-decoration-color: #008000\">'2022-10-11'</span>,\n",
       "    <span style=\"color: #808000; text-decoration-color: #808000\">realtime_end</span>=<span style=\"color: #008000; text-decoration-color: #008000\">'2022-10-11'</span>,\n",
       "    <span style=\"color: #808000; text-decoration-color: #808000\">title</span>=<span style=\"color: #008000; text-decoration-color: #008000\">'Federal Funds Effective Rate'</span>,\n",
       "    <span style=\"color: #808000; text-decoration-color: #808000\">observation_start</span>=<span style=\"color: #008000; text-decoration-color: #008000\">'1954-07-01'</span>,\n",
       "    <span style=\"color: #808000; text-decoration-color: #808000\">observation_end</span>=<span style=\"color: #008000; text-decoration-color: #008000\">'2022-09-01'</span>,\n",
       "    <span style=\"color: #808000; text-decoration-color: #808000\">frequency</span>=<span style=\"color: #008000; text-decoration-color: #008000\">'Monthly'</span>,\n",
       "    <span style=\"color: #808000; text-decoration-color: #808000\">frequency_short</span>=<span style=\"color: #008000; text-decoration-color: #008000\">'M'</span>,\n",
       "    <span style=\"color: #808000; text-decoration-color: #808000\">units</span>=<span style=\"color: #008000; text-decoration-color: #008000\">'Percent'</span>,\n",
       "    <span style=\"color: #808000; text-decoration-color: #808000\">units_short</span>=<span style=\"color: #008000; text-decoration-color: #008000\">'%'</span>,\n",
       "    <span style=\"color: #808000; text-decoration-color: #808000\">seasonal_adjustment</span>=<span style=\"color: #008000; text-decoration-color: #008000\">'Not Seasonally Adjusted'</span>,\n",
       "    <span style=\"color: #808000; text-decoration-color: #808000\">seasonal_adjustment_short</span>=<span style=\"color: #008000; text-decoration-color: #008000\">'NSA'</span>,\n",
       "    <span style=\"color: #808000; text-decoration-color: #808000\">last_updated</span>=<span style=\"color: #008000; text-decoration-color: #008000\">'2022-10-03 15:23:02-05'</span>,\n",
       "    <span style=\"color: #808000; text-decoration-color: #808000\">popularity</span>=<span style=\"color: #008080; text-decoration-color: #008080; font-weight: bold\">97</span>,\n",
       "    <span style=\"color: #808000; text-decoration-color: #808000\">notes</span>=<span style=\"color: #008000; text-decoration-color: #008000\">'Averages of daily figures. \\n\\nFor additional historical federal funds rate data, please see  Daily </span>\n",
       "<span style=\"color: #008000; text-decoration-color: #008000\">Federal Funds Rate from 1928-1954 (https://fred.stlouisfed.org/categories/33951).\\n\\nThe federal funds rate is the </span>\n",
       "<span style=\"color: #008000; text-decoration-color: #008000\">interest rate at which depository institutions trade federal funds (balances held at Federal Reserve Banks) with </span>\n",
       "<span style=\"color: #008000; text-decoration-color: #008000\">each other overnight. When a depository institution has surplus balances in its reserve account, it lends to other </span>\n",
       "<span style=\"color: #008000; text-decoration-color: #008000\">banks in need of larger balances. In simpler terms, a bank with excess cash, which is often referred to as </span>\n",
       "<span style=\"color: #008000; text-decoration-color: #008000\">liquidity, will lend to another bank that needs to quickly raise liquidity. (1) The rate that the borrowing </span>\n",
       "<span style=\"color: #008000; text-decoration-color: #008000\">institution pays to the lending institution is determined between the two banks; the weighted average rate for all </span>\n",
       "<span style=\"color: #008000; text-decoration-color: #008000\">of these types of negotiations is called the effective federal funds rate.(2) The effective federal funds rate is </span>\n",
       "<span style=\"color: #008000; text-decoration-color: #008000\">essentially determined by the market but is influenced by the Federal Reserve through open market operations to </span>\n",
       "<span style=\"color: #008000; text-decoration-color: #008000\">reach the federal funds rate target.(2)\\nThe Federal Open Market Committee (FOMC) meets eight times a year to </span>\n",
       "<span style=\"color: #008000; text-decoration-color: #008000\">determine the federal funds target rate. As previously stated, this rate influences the effective federal funds </span>\n",
       "<span style=\"color: #008000; text-decoration-color: #008000\">rate through open market operations or by buying and selling of government bonds (government debt).(2) More </span>\n",
       "<span style=\"color: #008000; text-decoration-color: #008000\">specifically, the Federal Reserve decreases liquidity by selling government bonds, thereby raising the federal </span>\n",
       "<span style=\"color: #008000; text-decoration-color: #008000\">funds rate because banks have less liquidity to trade with other banks. Similarly, the Federal Reserve can increase</span>\n",
       "<span style=\"color: #008000; text-decoration-color: #008000\">liquidity by buying government bonds, decreasing the federal funds rate because banks have excess liquidity for </span>\n",
       "<span style=\"color: #008000; text-decoration-color: #008000\">trade. Whether the Federal Reserve wants to buy or sell bonds depends on the state of the economy. If the FOMC </span>\n",
       "<span style=\"color: #008000; text-decoration-color: #008000\">believes the economy is growing too fast and inflation pressures are inconsistent with the dual mandate of the </span>\n",
       "<span style=\"color: #008000; text-decoration-color: #008000\">Federal Reserve, the Committee may set a higher federal funds rate target to temper economic activity. In the </span>\n",
       "<span style=\"color: #008000; text-decoration-color: #008000\">opposing scenario, the FOMC may set a lower federal funds rate target to spur greater economic activity. Therefore,</span>\n",
       "<span style=\"color: #008000; text-decoration-color: #008000\">the FOMC must observe the current state of the economy to determine the best course of monetary policy that will </span>\n",
       "<span style=\"color: #008000; text-decoration-color: #008000\">maximize economic growth while adhering to the dual mandate set forth by Congress. In making its monetary policy </span>\n",
       "<span style=\"color: #008000; text-decoration-color: #008000\">decisions, the FOMC considers a wealth of economic data, such as: trends in prices and wages, employment, consumer </span>\n",
       "<span style=\"color: #008000; text-decoration-color: #008000\">spending and income, business investments, and foreign exchange markets.\\nThe federal funds rate is the central </span>\n",
       "<span style=\"color: #008000; text-decoration-color: #008000\">interest rate in the U.S. financial market. It influences other interest rates such as the prime rate, which is the</span>\n",
       "<span style=\"color: #008000; text-decoration-color: #008000\">rate banks charge their customers with higher credit ratings. Additionally, the federal funds rate indirectly </span>\n",
       "<span style=\"color: #008000; text-decoration-color: #008000\">influences longer- term interest rates such as mortgages, loans, and savings, all of which are very important to </span>\n",
       "<span style=\"color: #008000; text-decoration-color: #008000\">consumer wealth and confidence.(2)\\nReferences\\n(1) Federal Reserve Bank of New York. \"Federal funds.\" Fedpoints, </span>\n",
       "<span style=\"color: #008000; text-decoration-color: #008000\">August 2007.\\n(2) Board of Governors of the Federal Reserve System. \"Monetary Policy </span>\n",
       "<span style=\"color: #008000; text-decoration-color: #008000\">(https://www.federalreserve.gov/monetarypolicy.htm)\".'</span>\n",
       "<span style=\"font-weight: bold\">)</span>\n",
       "</pre>\n"
      ],
      "text/plain": [
       "\u001b[1;35mSeriesInfo\u001b[0m\u001b[1m(\u001b[0m\n",
       "    \u001b[33mid\u001b[0m=\u001b[32m'FEDFUNDS'\u001b[0m,\n",
       "    \u001b[33mrealtime_start\u001b[0m=\u001b[32m'2022-10-11'\u001b[0m,\n",
       "    \u001b[33mrealtime_end\u001b[0m=\u001b[32m'2022-10-11'\u001b[0m,\n",
       "    \u001b[33mtitle\u001b[0m=\u001b[32m'Federal Funds Effective Rate'\u001b[0m,\n",
       "    \u001b[33mobservation_start\u001b[0m=\u001b[32m'1954-07-01'\u001b[0m,\n",
       "    \u001b[33mobservation_end\u001b[0m=\u001b[32m'2022-09-01'\u001b[0m,\n",
       "    \u001b[33mfrequency\u001b[0m=\u001b[32m'Monthly'\u001b[0m,\n",
       "    \u001b[33mfrequency_short\u001b[0m=\u001b[32m'M'\u001b[0m,\n",
       "    \u001b[33munits\u001b[0m=\u001b[32m'Percent'\u001b[0m,\n",
       "    \u001b[33munits_short\u001b[0m=\u001b[32m'%'\u001b[0m,\n",
       "    \u001b[33mseasonal_adjustment\u001b[0m=\u001b[32m'Not Seasonally Adjusted'\u001b[0m,\n",
       "    \u001b[33mseasonal_adjustment_short\u001b[0m=\u001b[32m'NSA'\u001b[0m,\n",
       "    \u001b[33mlast_updated\u001b[0m=\u001b[32m'2022-10-03 15:23:02-05'\u001b[0m,\n",
       "    \u001b[33mpopularity\u001b[0m=\u001b[1;36m97\u001b[0m,\n",
       "    \u001b[33mnotes\u001b[0m=\u001b[32m'Averages of daily figures. \\n\\nFor additional historical federal funds rate data, please see  Daily \u001b[0m\n",
       "\u001b[32mFederal Funds Rate from 1928-1954 \u001b[0m\u001b[32m(\u001b[0m\u001b[32mhttps://fred.stlouisfed.org/categories/33951\u001b[0m\u001b[32m)\u001b[0m\u001b[32m.\\n\\nThe federal funds rate is the \u001b[0m\n",
       "\u001b[32minterest rate at which depository institutions trade federal funds \u001b[0m\u001b[32m(\u001b[0m\u001b[32mbalances held at Federal Reserve Banks\u001b[0m\u001b[32m)\u001b[0m\u001b[32m with \u001b[0m\n",
       "\u001b[32meach other overnight. When a depository institution has surplus balances in its reserve account, it lends to other \u001b[0m\n",
       "\u001b[32mbanks in need of larger balances. In simpler terms, a bank with excess cash, which is often referred to as \u001b[0m\n",
       "\u001b[32mliquidity, will lend to another bank that needs to quickly raise liquidity. \u001b[0m\u001b[32m(\u001b[0m\u001b[32m1\u001b[0m\u001b[32m)\u001b[0m\u001b[32m The rate that the borrowing \u001b[0m\n",
       "\u001b[32minstitution pays to the lending institution is determined between the two banks; the weighted average rate for all \u001b[0m\n",
       "\u001b[32mof these types of negotiations is called the effective federal funds rate.\u001b[0m\u001b[32m(\u001b[0m\u001b[32m2\u001b[0m\u001b[32m)\u001b[0m\u001b[32m The effective federal funds rate is \u001b[0m\n",
       "\u001b[32messentially determined by the market but is influenced by the Federal Reserve through open market operations to \u001b[0m\n",
       "\u001b[32mreach the federal funds rate target.\u001b[0m\u001b[32m(\u001b[0m\u001b[32m2\u001b[0m\u001b[32m)\u001b[0m\u001b[32m\\nThe Federal Open Market Committee \u001b[0m\u001b[32m(\u001b[0m\u001b[32mFOMC\u001b[0m\u001b[32m)\u001b[0m\u001b[32m meets eight times a year to \u001b[0m\n",
       "\u001b[32mdetermine the federal funds target rate. As previously stated, this rate influences the effective federal funds \u001b[0m\n",
       "\u001b[32mrate through open market operations or by buying and selling of government bonds \u001b[0m\u001b[32m(\u001b[0m\u001b[32mgovernment debt\u001b[0m\u001b[32m)\u001b[0m\u001b[32m.\u001b[0m\u001b[32m(\u001b[0m\u001b[32m2\u001b[0m\u001b[32m)\u001b[0m\u001b[32m More \u001b[0m\n",
       "\u001b[32mspecifically, the Federal Reserve decreases liquidity by selling government bonds, thereby raising the federal \u001b[0m\n",
       "\u001b[32mfunds rate because banks have less liquidity to trade with other banks. Similarly, the Federal Reserve can increase\u001b[0m\n",
       "\u001b[32mliquidity by buying government bonds, decreasing the federal funds rate because banks have excess liquidity for \u001b[0m\n",
       "\u001b[32mtrade. Whether the Federal Reserve wants to buy or sell bonds depends on the state of the economy. If the FOMC \u001b[0m\n",
       "\u001b[32mbelieves the economy is growing too fast and inflation pressures are inconsistent with the dual mandate of the \u001b[0m\n",
       "\u001b[32mFederal Reserve, the Committee may set a higher federal funds rate target to temper economic activity. In the \u001b[0m\n",
       "\u001b[32mopposing scenario, the FOMC may set a lower federal funds rate target to spur greater economic activity. Therefore,\u001b[0m\n",
       "\u001b[32mthe FOMC must observe the current state of the economy to determine the best course of monetary policy that will \u001b[0m\n",
       "\u001b[32mmaximize economic growth while adhering to the dual mandate set forth by Congress. In making its monetary policy \u001b[0m\n",
       "\u001b[32mdecisions, the FOMC considers a wealth of economic data, such as: trends in prices and wages, employment, consumer \u001b[0m\n",
       "\u001b[32mspending and income, business investments, and foreign exchange markets.\\nThe federal funds rate is the central \u001b[0m\n",
       "\u001b[32minterest rate in the U.S. financial market. It influences other interest rates such as the prime rate, which is the\u001b[0m\n",
       "\u001b[32mrate banks charge their customers with higher credit ratings. Additionally, the federal funds rate indirectly \u001b[0m\n",
       "\u001b[32minfluences longer- term interest rates such as mortgages, loans, and savings, all of which are very important to \u001b[0m\n",
       "\u001b[32mconsumer wealth and confidence.\u001b[0m\u001b[32m(\u001b[0m\u001b[32m2\u001b[0m\u001b[32m)\u001b[0m\u001b[32m\\nReferences\\n\u001b[0m\u001b[32m(\u001b[0m\u001b[32m1\u001b[0m\u001b[32m)\u001b[0m\u001b[32m Federal Reserve Bank of New York. \"Federal funds.\" Fedpoints, \u001b[0m\n",
       "\u001b[32mAugust 2007.\\n\u001b[0m\u001b[32m(\u001b[0m\u001b[32m2\u001b[0m\u001b[32m)\u001b[0m\u001b[32m Board of Governors of the Federal Reserve System. \"Monetary Policy \u001b[0m\n",
       "\u001b[32m(\u001b[0m\u001b[32mhttps://www.federalreserve.gov/monetarypolicy.htm\u001b[0m\u001b[32m)\u001b[0m\u001b[32m\".'\u001b[0m\n",
       "\u001b[1m)\u001b[0m\n"
      ]
     },
     "metadata": {},
     "output_type": "display_data"
    }
   ],
   "source": [
    "# Using rich to pretty print the SeriesInfo\n",
    "rprint(fed_funds_info)"
   ]
  },
  {
   "cell_type": "markdown",
   "id": "6809519b",
   "metadata": {},
   "source": [
    "`SeriesInfo` also provides a useful method to open the FRED webpage for the series. Call `open_url` on the info object and a new browser tab will open."
   ]
  },
  {
   "cell_type": "code",
   "execution_count": 11,
   "id": "9b14d963",
   "metadata": {},
   "outputs": [],
   "source": [
    "fed_funds_info.open_url()"
   ]
  },
  {
   "cell_type": "markdown",
   "id": "6a74c86d",
   "metadata": {},
   "source": [
    "## Pull data with `FredSeries`\n",
    "\n",
    "The `get_series` method gets the latest data available for a given series. `get_series` returns a `SeriesData` object. SeriesData is made of two components. The first is info, which is the same as the above. The second is the data itself. The data can returned as with a pandas dataframe or json."
   ]
  },
  {
   "cell_type": "code",
   "execution_count": 12,
   "id": "db9e0762",
   "metadata": {},
   "outputs": [],
   "source": [
    "fed_funds_data = client.get_series(series_id=\"FEDFUNDS\")"
   ]
  },
  {
   "cell_type": "code",
   "execution_count": 13,
   "id": "44c6ca74",
   "metadata": {},
   "outputs": [
    {
     "data": {
      "text/plain": [
       "True"
      ]
     },
     "execution_count": 13,
     "metadata": {},
     "output_type": "execute_result"
    }
   ],
   "source": [
    "fed_funds_data.info == fed_funds_info"
   ]
  },
  {
   "cell_type": "code",
   "execution_count": 14,
   "id": "5e015cdb",
   "metadata": {},
   "outputs": [
    {
     "data": {
      "text/html": [
       "<div>\n",
       "<style scoped>\n",
       "    .dataframe tbody tr th:only-of-type {\n",
       "        vertical-align: middle;\n",
       "    }\n",
       "\n",
       "    .dataframe tbody tr th {\n",
       "        vertical-align: top;\n",
       "    }\n",
       "\n",
       "    .dataframe thead th {\n",
       "        text-align: right;\n",
       "    }\n",
       "</style>\n",
       "<table border=\"1\" class=\"dataframe\">\n",
       "  <thead>\n",
       "    <tr style=\"text-align: right;\">\n",
       "      <th></th>\n",
       "      <th>realtime_start</th>\n",
       "      <th>realtime_end</th>\n",
       "      <th>date</th>\n",
       "      <th>value</th>\n",
       "    </tr>\n",
       "  </thead>\n",
       "  <tbody>\n",
       "    <tr>\n",
       "      <th>814</th>\n",
       "      <td>2022-10-11</td>\n",
       "      <td>2022-10-11</td>\n",
       "      <td>2022-05-01</td>\n",
       "      <td>0.77</td>\n",
       "    </tr>\n",
       "    <tr>\n",
       "      <th>815</th>\n",
       "      <td>2022-10-11</td>\n",
       "      <td>2022-10-11</td>\n",
       "      <td>2022-06-01</td>\n",
       "      <td>1.21</td>\n",
       "    </tr>\n",
       "    <tr>\n",
       "      <th>816</th>\n",
       "      <td>2022-10-11</td>\n",
       "      <td>2022-10-11</td>\n",
       "      <td>2022-07-01</td>\n",
       "      <td>1.68</td>\n",
       "    </tr>\n",
       "    <tr>\n",
       "      <th>817</th>\n",
       "      <td>2022-10-11</td>\n",
       "      <td>2022-10-11</td>\n",
       "      <td>2022-08-01</td>\n",
       "      <td>2.33</td>\n",
       "    </tr>\n",
       "    <tr>\n",
       "      <th>818</th>\n",
       "      <td>2022-10-11</td>\n",
       "      <td>2022-10-11</td>\n",
       "      <td>2022-09-01</td>\n",
       "      <td>2.56</td>\n",
       "    </tr>\n",
       "  </tbody>\n",
       "</table>\n",
       "</div>"
      ],
      "text/plain": [
       "    realtime_start realtime_end       date  value\n",
       "814     2022-10-11   2022-10-11 2022-05-01   0.77\n",
       "815     2022-10-11   2022-10-11 2022-06-01   1.21\n",
       "816     2022-10-11   2022-10-11 2022-07-01   1.68\n",
       "817     2022-10-11   2022-10-11 2022-08-01   2.33\n",
       "818     2022-10-11   2022-10-11 2022-09-01   2.56"
      ]
     },
     "execution_count": 14,
     "metadata": {},
     "output_type": "execute_result"
    }
   ],
   "source": [
    "fed_funds_data.data.tail()"
   ]
  },
  {
   "cell_type": "code",
   "execution_count": 15,
   "id": "9f292ec7",
   "metadata": {},
   "outputs": [
    {
     "data": {
      "text/plain": [
       "realtime_start            object\n",
       "realtime_end              object\n",
       "date              datetime64[ns]\n",
       "value                    float64\n",
       "dtype: object"
      ]
     },
     "execution_count": 15,
     "metadata": {},
     "output_type": "execute_result"
    }
   ],
   "source": [
    "fed_funds_data.data.dtypes"
   ]
  },
  {
   "cell_type": "markdown",
   "id": "ae55d33c",
   "metadata": {},
   "source": [
    "## Data revisions\n",
    "\n",
    "Many economic series are often revised as more complete information is made available. Every time a new version of a data series is released, FRED displays the latest version, and the replaced version is archived in [ALFRED](https://alfred.stlouisfed.org/). ALFRED stores all the previous versions of data so that it possible to understand, \"what was known when?\".\n",
    "\n",
    "`pyfredapi` provides methods to access data from ALFRED:\n",
    "\n",
    "* `get_series_all_releases` - get data for all releases\n",
    "* `get_series_initial_release` - get data for the initial release\n",
    "* `get_series_asof_date` - get data released on or before a specific date"
   ]
  },
  {
   "cell_type": "markdown",
   "id": "52fc3f6c",
   "metadata": {},
   "source": [
    "### Get all releases\n",
    "\n",
    "`get_series_all_releases` returns all the observations for each release of an economic series. In the example below, a request is made for all the releases of Gross Domestic Product. We can see that the GDP estimates for Q2 2022 has been revised 3 times. The first release was on 2022-07-28. Since then, two revisions have been released on 2022-08-25 and 2022-09-29."
   ]
  },
  {
   "cell_type": "code",
   "execution_count": 16,
   "id": "5c1e9ca9",
   "metadata": {},
   "outputs": [
    {
     "data": {
      "text/html": [
       "<div>\n",
       "<style scoped>\n",
       "    .dataframe tbody tr th:only-of-type {\n",
       "        vertical-align: middle;\n",
       "    }\n",
       "\n",
       "    .dataframe tbody tr th {\n",
       "        vertical-align: top;\n",
       "    }\n",
       "\n",
       "    .dataframe thead th {\n",
       "        text-align: right;\n",
       "    }\n",
       "</style>\n",
       "<table border=\"1\" class=\"dataframe\">\n",
       "  <thead>\n",
       "    <tr style=\"text-align: right;\">\n",
       "      <th></th>\n",
       "      <th>realtime_start</th>\n",
       "      <th>realtime_end</th>\n",
       "      <th>date</th>\n",
       "      <th>value</th>\n",
       "    </tr>\n",
       "  </thead>\n",
       "  <tbody>\n",
       "    <tr>\n",
       "      <th>3093</th>\n",
       "      <td>2022-06-29</td>\n",
       "      <td>2022-09-28</td>\n",
       "      <td>2022-01-01</td>\n",
       "      <td>24386.734</td>\n",
       "    </tr>\n",
       "    <tr>\n",
       "      <th>3094</th>\n",
       "      <td>2022-09-29</td>\n",
       "      <td>9999-12-31</td>\n",
       "      <td>2022-01-01</td>\n",
       "      <td>24740.480</td>\n",
       "    </tr>\n",
       "    <tr>\n",
       "      <th>3095</th>\n",
       "      <td>2022-07-28</td>\n",
       "      <td>2022-08-24</td>\n",
       "      <td>2022-04-01</td>\n",
       "      <td>24851.809</td>\n",
       "    </tr>\n",
       "    <tr>\n",
       "      <th>3096</th>\n",
       "      <td>2022-08-25</td>\n",
       "      <td>2022-09-28</td>\n",
       "      <td>2022-04-01</td>\n",
       "      <td>24882.878</td>\n",
       "    </tr>\n",
       "    <tr>\n",
       "      <th>3097</th>\n",
       "      <td>2022-09-29</td>\n",
       "      <td>9999-12-31</td>\n",
       "      <td>2022-04-01</td>\n",
       "      <td>25248.476</td>\n",
       "    </tr>\n",
       "  </tbody>\n",
       "</table>\n",
       "</div>"
      ],
      "text/plain": [
       "     realtime_start realtime_end       date      value\n",
       "3093     2022-06-29   2022-09-28 2022-01-01  24386.734\n",
       "3094     2022-09-29   9999-12-31 2022-01-01  24740.480\n",
       "3095     2022-07-28   2022-08-24 2022-04-01  24851.809\n",
       "3096     2022-08-25   2022-09-28 2022-04-01  24882.878\n",
       "3097     2022-09-29   9999-12-31 2022-04-01  25248.476"
      ]
     },
     "execution_count": 16,
     "metadata": {},
     "output_type": "execute_result"
    }
   ],
   "source": [
    "gdp_all_releases = client.get_series_all_releases(\"GDP\")\n",
    "gdp_all_releases.data.tail()"
   ]
  },
  {
   "cell_type": "markdown",
   "id": "a471bce2",
   "metadata": {},
   "source": [
    "### Get initial release\n",
    "\n",
    "`get_series_initial_release` return only the first release of the series. Below we see that only first estimate of Q2 2022 GDP released on 2022-07-28 is included in the dataframe."
   ]
  },
  {
   "cell_type": "code",
   "execution_count": 17,
   "id": "72a6b101",
   "metadata": {},
   "outputs": [
    {
     "data": {
      "text/html": [
       "<div>\n",
       "<style scoped>\n",
       "    .dataframe tbody tr th:only-of-type {\n",
       "        vertical-align: middle;\n",
       "    }\n",
       "\n",
       "    .dataframe tbody tr th {\n",
       "        vertical-align: top;\n",
       "    }\n",
       "\n",
       "    .dataframe thead th {\n",
       "        text-align: right;\n",
       "    }\n",
       "</style>\n",
       "<table border=\"1\" class=\"dataframe\">\n",
       "  <thead>\n",
       "    <tr style=\"text-align: right;\">\n",
       "      <th></th>\n",
       "      <th>realtime_start</th>\n",
       "      <th>realtime_end</th>\n",
       "      <th>date</th>\n",
       "      <th>value</th>\n",
       "    </tr>\n",
       "  </thead>\n",
       "  <tbody>\n",
       "    <tr>\n",
       "      <th>118</th>\n",
       "      <td>2021-07-29</td>\n",
       "      <td>2021-08-25</td>\n",
       "      <td>2021-04-01</td>\n",
       "      <td>22722.581</td>\n",
       "    </tr>\n",
       "    <tr>\n",
       "      <th>119</th>\n",
       "      <td>2021-10-28</td>\n",
       "      <td>2021-11-23</td>\n",
       "      <td>2021-07-01</td>\n",
       "      <td>23173.496</td>\n",
       "    </tr>\n",
       "    <tr>\n",
       "      <th>120</th>\n",
       "      <td>2022-01-27</td>\n",
       "      <td>2022-02-23</td>\n",
       "      <td>2021-10-01</td>\n",
       "      <td>23992.355</td>\n",
       "    </tr>\n",
       "    <tr>\n",
       "      <th>121</th>\n",
       "      <td>2022-04-28</td>\n",
       "      <td>2022-05-25</td>\n",
       "      <td>2022-01-01</td>\n",
       "      <td>24382.683</td>\n",
       "    </tr>\n",
       "    <tr>\n",
       "      <th>122</th>\n",
       "      <td>2022-07-28</td>\n",
       "      <td>2022-08-24</td>\n",
       "      <td>2022-04-01</td>\n",
       "      <td>24851.809</td>\n",
       "    </tr>\n",
       "  </tbody>\n",
       "</table>\n",
       "</div>"
      ],
      "text/plain": [
       "    realtime_start realtime_end       date      value\n",
       "118     2021-07-29   2021-08-25 2021-04-01  22722.581\n",
       "119     2021-10-28   2021-11-23 2021-07-01  23173.496\n",
       "120     2022-01-27   2022-02-23 2021-10-01  23992.355\n",
       "121     2022-04-28   2022-05-25 2022-01-01  24382.683\n",
       "122     2022-07-28   2022-08-24 2022-04-01  24851.809"
      ]
     },
     "execution_count": 17,
     "metadata": {},
     "output_type": "execute_result"
    }
   ],
   "source": [
    "gdp_initial_release = client.get_series_initial_release(\"GDP\")\n",
    "gdp_initial_release.data.tail()"
   ]
  },
  {
   "cell_type": "markdown",
   "id": "4912f5a0",
   "metadata": {},
   "source": [
    "## Get releases as of a data\n",
    "\n",
    "`get_series_asof_date` returns all releases of a series made on or before a given date. This is helpful if you want limit your analysis window to only the data available on a given date.\n",
    "\n",
    "For example, suppose we want the GDP estimates available on or before 2022-09-01. We can use `get_series_asof_date` with the date `2022-09-01`. The response includes the Q2 2022 estimates for 2022-07-28 and 2022-08-25, but not 2022-09-29 since that is after 2022-09-01."
   ]
  },
  {
   "cell_type": "code",
   "execution_count": 18,
   "id": "2d9d8131",
   "metadata": {},
   "outputs": [
    {
     "data": {
      "text/html": [
       "<div>\n",
       "<style scoped>\n",
       "    .dataframe tbody tr th:only-of-type {\n",
       "        vertical-align: middle;\n",
       "    }\n",
       "\n",
       "    .dataframe tbody tr th {\n",
       "        vertical-align: top;\n",
       "    }\n",
       "\n",
       "    .dataframe thead th {\n",
       "        text-align: right;\n",
       "    }\n",
       "</style>\n",
       "<table border=\"1\" class=\"dataframe\">\n",
       "  <thead>\n",
       "    <tr style=\"text-align: right;\">\n",
       "      <th></th>\n",
       "      <th>realtime_start</th>\n",
       "      <th>realtime_end</th>\n",
       "      <th>date</th>\n",
       "      <th>value</th>\n",
       "    </tr>\n",
       "  </thead>\n",
       "  <tbody>\n",
       "    <tr>\n",
       "      <th>3071</th>\n",
       "      <td>2022-04-28</td>\n",
       "      <td>2022-05-25</td>\n",
       "      <td>2022-01-01</td>\n",
       "      <td>24382.683</td>\n",
       "    </tr>\n",
       "    <tr>\n",
       "      <th>3072</th>\n",
       "      <td>2022-05-26</td>\n",
       "      <td>2022-06-28</td>\n",
       "      <td>2022-01-01</td>\n",
       "      <td>24384.289</td>\n",
       "    </tr>\n",
       "    <tr>\n",
       "      <th>3073</th>\n",
       "      <td>2022-06-29</td>\n",
       "      <td>2022-09-01</td>\n",
       "      <td>2022-01-01</td>\n",
       "      <td>24386.734</td>\n",
       "    </tr>\n",
       "    <tr>\n",
       "      <th>3074</th>\n",
       "      <td>2022-07-28</td>\n",
       "      <td>2022-08-24</td>\n",
       "      <td>2022-04-01</td>\n",
       "      <td>24851.809</td>\n",
       "    </tr>\n",
       "    <tr>\n",
       "      <th>3075</th>\n",
       "      <td>2022-08-25</td>\n",
       "      <td>2022-09-01</td>\n",
       "      <td>2022-04-01</td>\n",
       "      <td>24882.878</td>\n",
       "    </tr>\n",
       "  </tbody>\n",
       "</table>\n",
       "</div>"
      ],
      "text/plain": [
       "     realtime_start realtime_end       date      value\n",
       "3071     2022-04-28   2022-05-25 2022-01-01  24382.683\n",
       "3072     2022-05-26   2022-06-28 2022-01-01  24384.289\n",
       "3073     2022-06-29   2022-09-01 2022-01-01  24386.734\n",
       "3074     2022-07-28   2022-08-24 2022-04-01  24851.809\n",
       "3075     2022-08-25   2022-09-01 2022-04-01  24882.878"
      ]
     },
     "execution_count": 18,
     "metadata": {},
     "output_type": "execute_result"
    }
   ],
   "source": [
    "gdp_090122 = client.get_series_asof_date(\"GDP\", date=\"2022-09-01\")\n",
    "gdp_090122.data.tail()"
   ]
  }
 ],
 "metadata": {
  "kernelspec": {
   "display_name": "Python 3.10.1 ('.venv': poetry)",
   "language": "python",
   "name": "python3"
  },
  "language_info": {
   "codemirror_mode": {
    "name": "ipython",
    "version": 3
   },
   "file_extension": ".py",
   "mimetype": "text/x-python",
   "name": "python",
   "nbconvert_exporter": "python",
   "pygments_lexer": "ipython3",
   "version": "3.10.1"
  },
  "vscode": {
   "interpreter": {
    "hash": "9f8da5f516a0f7b58441e46157a772613635e3a9b5450eafa77dccb7c363b35a"
   }
  }
 },
 "nbformat": 4,
 "nbformat_minor": 5
}
