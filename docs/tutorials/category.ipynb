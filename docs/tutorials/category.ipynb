{
 "cells": [
  {
   "attachments": {},
   "cell_type": "markdown",
   "metadata": {},
   "source": [
    "# FRED Categories\n",
    "\n",
    "The `pyfredapi.category` module has functions for requesting data about [FRED Categories](https://fred.stlouisfed.org/categories).\n",
    "\n",
    "Each FRED category is associated a unique integer identifier. For example:\n",
    "\n",
    "- Money, Banking and Finance is category 32991\n",
    "- Population, Employment, & Labor Markets is category 10\n",
    "- Prices is category 32455\n",
    "\n",
    "Categories are organized in a hierarchical structure. All categories are children of the root category (category_id = 0).\n",
    "\n",
    "FRED series are assigned to categories. This allows users to query the category API to find all series associated with a given category. This tutorial will demonstrate how you can use the `pyfredapi.category` module to search through the FRED category hierarchy and find series associated with U.S unemployment."
   ]
  },
  {
   "cell_type": "markdown",
   "metadata": {},
   "source": [
    "## Setup"
   ]
  },
  {
   "cell_type": "code",
   "execution_count": 1,
   "metadata": {
    "tags": []
   },
   "outputs": [],
   "source": [
    "import operator\n",
    "\n",
    "import matplotlib.pyplot as plt\n",
    "import seaborn as sns\n",
    "from rich.pretty import pprint\n",
    "\n",
    "import pyfredapi as pf"
   ]
  },
  {
   "cell_type": "markdown",
   "metadata": {},
   "source": [
    "## get_series_categories\n",
    "\n",
    "When starting an analysis, you will often have a series in mind, but probably don't know the full scope of related series you're interested in. The `get_series_categories` function allows you to find the category or categories associated with a given series.\n",
    "\n",
    "As an example, if you're interested in analyzing unemployment you can start with the series id [`UNRATE`](https://fred.stlouisfed.org/series/UNRATE) and see what category the unemployment series is associated with. Below we see that `UNRATE` is associated with category 32447, which is the Unemployment Rate category."
   ]
  },
  {
   "cell_type": "code",
   "execution_count": null,
   "metadata": {
    "tags": []
   },
   "outputs": [],
   "source": [
    "pprint(pf.get_series_categories(series_id=\"UNRATE\"))"
   ]
  },
  {
   "cell_type": "markdown",
   "metadata": {},
   "source": [
    "## get_category_series\n",
    "\n",
    "Next, with this information we can use the `get_category_series` function to find all series associated with the Unemployment Rate category. This will return a list of `SeriesInfo` objects containing all series in the Unemployment Rate category.\n",
    "\n",
    "The example code below shows that there are 820 series in the Unemployment Rate category."
   ]
  },
  {
   "cell_type": "code",
   "execution_count": 3,
   "metadata": {
    "tags": []
   },
   "outputs": [],
   "source": [
    "all_unemployment_series = pf.get_category_series(category_id=32447)"
   ]
  },
  {
   "cell_type": "code",
   "execution_count": null,
   "metadata": {
    "tags": []
   },
   "outputs": [],
   "source": [
    "print(f\"Number of series in Unemployment category: {len(all_unemployment_series)}\")"
   ]
  },
  {
   "cell_type": "markdown",
   "metadata": {},
   "source": [
    "Now we have all the unemployment related series, but 820 series is a lot to look through. Let's narrow it down to just seasonally adjusted series with a popularity >= 20."
   ]
  },
  {
   "cell_type": "code",
   "execution_count": 5,
   "metadata": {
    "tags": []
   },
   "outputs": [],
   "source": [
    "seasonally_adjusted_unemployment_series = [\n",
    "    series_info\n",
    "    for series_info in all_unemployment_series.values()\n",
    "    if series_info.seasonal_adjustment == \"Seasonally Adjusted\"\n",
    "    and series_info.popularity >= 20\n",
    "]"
   ]
  },
  {
   "cell_type": "markdown",
   "metadata": {},
   "source": [
    "Let's also sort the series by popularity. Then print the the series id and title."
   ]
  },
  {
   "cell_type": "code",
   "execution_count": 6,
   "metadata": {
    "tags": []
   },
   "outputs": [],
   "source": [
    "seasonally_adjusted_unemployment_series = sorted(\n",
    "    seasonally_adjusted_unemployment_series,\n",
    "    key=operator.attrgetter(\"popularity\"),\n",
    "    reverse=True,\n",
    ")"
   ]
  },
  {
   "cell_type": "code",
   "execution_count": null,
   "metadata": {},
   "outputs": [],
   "source": [
    "len(seasonally_adjusted_unemployment_series)"
   ]
  },
  {
   "cell_type": "code",
   "execution_count": null,
   "metadata": {
    "tags": []
   },
   "outputs": [],
   "source": [
    "for series_info in seasonally_adjusted_unemployment_series:\n",
    "    print(f\"{series_info.id}: {series_info.title}\")"
   ]
  },
  {
   "cell_type": "markdown",
   "metadata": {},
   "source": [
    "## Move to SeriesCollection\n",
    "\n",
    "Great! Now we have the 7 most popular unemployment series to work with. Next we can construct a `SeriesCollection` object to download the data for these series."
   ]
  },
  {
   "cell_type": "code",
   "execution_count": 9,
   "metadata": {
    "tags": []
   },
   "outputs": [],
   "source": [
    "series_id = [series.id for series in seasonally_adjusted_unemployment_series]"
   ]
  },
  {
   "cell_type": "code",
   "execution_count": 10,
   "metadata": {
    "tags": []
   },
   "outputs": [],
   "source": [
    "series_names = {\n",
    "    series_info.id: series_info.title\n",
    "    for series_info in seasonally_adjusted_unemployment_series\n",
    "}"
   ]
  },
  {
   "cell_type": "code",
   "execution_count": null,
   "metadata": {
    "tags": []
   },
   "outputs": [],
   "source": [
    "unemployment_sc = pf.SeriesCollection(series_id=series_id, rename=series_names)"
   ]
  },
  {
   "cell_type": "markdown",
   "metadata": {},
   "source": [
    "## Plot the series\n",
    "\n",
    "Now that we have the data, we can plot the series."
   ]
  },
  {
   "cell_type": "code",
   "execution_count": 12,
   "metadata": {
    "tags": []
   },
   "outputs": [],
   "source": [
    "long_df = unemployment_sc.merge_long()\n",
    "min_date = min(long_df[\"date\"].dt.date)\n",
    "max_date = max(long_df[\"date\"].dt.date)"
   ]
  },
  {
   "cell_type": "markdown",
   "metadata": {},
   "source": [
    "### Bar Chart"
   ]
  },
  {
   "cell_type": "code",
   "execution_count": null,
   "metadata": {},
   "outputs": [],
   "source": [
    "sns.set(rc={\"figure.figsize\": (11.7, 8.27)})\n",
    "ax = sns.barplot(\n",
    "    data=long_df[long_df[\"date\"] == max(long_df[\"date\"])],\n",
    "    x=\"series\",\n",
    "    y=\"value\",\n",
    "    hue=\"series\",\n",
    ")\n",
    "plt.xticks(rotation=290)\n",
    "ax.set(\n",
    "    xlabel=\"Series\",\n",
    "    xticklabels=[],\n",
    "    ylabel=\"Unemployment Rate\",\n",
    "    title=f\"U.S. Unemployment Rate, Seasonally Adjusted, {max_date}\",\n",
    ")\n",
    "sns.move_legend(ax, \"best\")"
   ]
  },
  {
   "cell_type": "markdown",
   "metadata": {},
   "source": [
    "### Time series plot"
   ]
  },
  {
   "cell_type": "code",
   "execution_count": null,
   "metadata": {},
   "outputs": [],
   "source": [
    "sns.set(rc={\"figure.figsize\": (11.7, 8.27)})\n",
    "ax = sns.lineplot(data=long_df, x=\"date\", y=\"value\", hue=\"series\")\n",
    "ax.set(\n",
    "    xlabel=\"Date\",\n",
    "    ylabel=\"Unemployment Rate\",\n",
    "    title=f\"U.S. Unemployment Rate, Seasonally Adjusted, {min_date} - {max_date}\",\n",
    ")\n",
    "sns.move_legend(ax, \"best\")"
   ]
  }
 ],
 "metadata": {
  "kernelspec": {
   "display_name": ".venv",
   "language": "python",
   "name": "python3"
  },
  "language_info": {
   "codemirror_mode": {
    "name": "ipython",
    "version": 3
   },
   "file_extension": ".py",
   "mimetype": "text/x-python",
   "name": "python",
   "nbconvert_exporter": "python",
   "pygments_lexer": "ipython3",
   "version": "3.12.2"
  }
 },
 "nbformat": 4,
 "nbformat_minor": 4
}
