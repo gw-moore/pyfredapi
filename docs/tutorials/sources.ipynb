{
 "cells": [
  {
   "cell_type": "markdown",
   "metadata": {},
   "source": [
    "# FRED Sources\n",
    "\n",
    "FRED sources endpoints provide information about the sources of data available via the FRED API."
   ]
  },
  {
   "cell_type": "markdown",
   "metadata": {},
   "source": [
    "## Setup"
   ]
  },
  {
   "cell_type": "code",
   "execution_count": 1,
   "metadata": {},
   "outputs": [],
   "source": [
    "import pyfredapi as pf"
   ]
  },
  {
   "cell_type": "markdown",
   "metadata": {},
   "source": [
    "## Get all sources"
   ]
  },
  {
   "cell_type": "code",
   "execution_count": 2,
   "metadata": {},
   "outputs": [],
   "source": [
    "sources = pf.get_sources()"
   ]
  },
  {
   "cell_type": "code",
   "execution_count": 3,
   "metadata": {},
   "outputs": [
    {
     "data": {
      "text/plain": [
       "114"
      ]
     },
     "execution_count": 3,
     "metadata": {},
     "output_type": "execute_result"
    }
   ],
   "source": [
    "len(sources[\"sources\"])"
   ]
  },
  {
   "cell_type": "code",
   "execution_count": 4,
   "metadata": {},
   "outputs": [
    {
     "data": {
      "text/plain": [
       "[{'id': 1,\n",
       "  'realtime_start': '2024-04-05',\n",
       "  'realtime_end': '2024-04-05',\n",
       "  'name': 'Board of Governors of the Federal Reserve System (US)',\n",
       "  'link': 'http://www.federalreserve.gov/'},\n",
       " {'id': 3,\n",
       "  'realtime_start': '2024-04-05',\n",
       "  'realtime_end': '2024-04-05',\n",
       "  'name': 'Federal Reserve Bank of Philadelphia',\n",
       "  'link': 'https://www.philadelphiafed.org/'},\n",
       " {'id': 4,\n",
       "  'realtime_start': '2024-04-05',\n",
       "  'realtime_end': '2024-04-05',\n",
       "  'name': 'Federal Reserve Bank of St. Louis',\n",
       "  'link': 'http://www.stlouisfed.org/'}]"
      ]
     },
     "execution_count": 4,
     "metadata": {},
     "output_type": "execute_result"
    }
   ],
   "source": [
    "sources[\"sources\"][0:3]"
   ]
  }
 ],
 "metadata": {
  "kernelspec": {
   "display_name": ".venv",
   "language": "python",
   "name": "python3"
  },
  "language_info": {
   "codemirror_mode": {
    "name": "ipython",
    "version": 3
   },
   "file_extension": ".py",
   "mimetype": "text/x-python",
   "name": "python",
   "nbconvert_exporter": "python",
   "pygments_lexer": "ipython3",
   "version": "3.11.7"
  },
  "orig_nbformat": 4
 },
 "nbformat": 4,
 "nbformat_minor": 2
}
