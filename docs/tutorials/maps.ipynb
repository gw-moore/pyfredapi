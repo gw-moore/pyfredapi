{
 "cells": [
  {
   "cell_type": "markdown",
   "id": "e2af4a3c",
   "metadata": {},
   "source": [
    "# FRED Maps\n",
    "\n",
    "This documentation serves as a quick start guide to `FredMaps`. The FRED Maps API enables developers to pull regional data or shape files."
   ]
  },
  {
   "attachments": {},
   "cell_type": "markdown",
   "id": "692df619",
   "metadata": {},
   "source": [
    "## Setup"
   ]
  },
  {
   "cell_type": "code",
   "execution_count": null,
   "id": "d82ae970",
   "metadata": {},
   "outputs": [],
   "source": [
    "import pyfredapi as pf\n",
    "from rich import print\n",
    "from rich.pretty import pprint\n",
    "import matplotlib.pyplot as plt\n",
    "import geopandas as gpd\n",
    "\n",
    "\n",
    "import requests"
   ]
  },
  {
   "cell_type": "markdown",
   "id": "e43484be",
   "metadata": {},
   "source": [
    "## Get geo-series info"
   ]
  },
  {
   "cell_type": "code",
   "execution_count": null,
   "id": "3f64d0fa",
   "metadata": {},
   "outputs": [],
   "source": [
    "info = pf.get_geoseries_info(series_id=\"WIPCPI\")\n",
    "print(info)"
   ]
  },
  {
   "cell_type": "markdown",
   "id": "adee8bff",
   "metadata": {},
   "source": [
    "## Get Regional Data\n",
    "\n",
    "`get_geoseries` returns a cross section of data that are published by region (e.g. state, county, MSA). Similar to the `get_series` function in `FredSeries`, `get_geoseries` returns a `GeoseriesData` object that contains the metadata for the series and the requested data.\n",
    "\n",
    "In this example, we pull the U.S. state per capital personal income between 2010-2021."
   ]
  },
  {
   "cell_type": "code",
   "execution_count": null,
   "id": "ba7d2935",
   "metadata": {},
   "outputs": [],
   "source": [
    "per_capita_personal_income_by_state = pf.get_geoseries(\n",
    "    series_id=\"WIPCPI\",\n",
    "    start_date=\"2010-01-01\",\n",
    "    end_date=\"2021-01-01\",\n",
    ")"
   ]
  },
  {
   "cell_type": "code",
   "execution_count": null,
   "id": "c77060e6-e2c8-4a83-8bfd-af51936855ea",
   "metadata": {},
   "outputs": [],
   "source": [
    "per_capita_personal_income_by_state_df = per_capita_personal_income_by_state.data"
   ]
  },
  {
   "cell_type": "code",
   "execution_count": null,
   "metadata": {},
   "outputs": [],
   "source": [
    "per_capita_personal_income_by_state_df = per_capita_personal_income_by_state_df[\n",
    "    per_capita_personal_income_by_state_df.date\n",
    "    == per_capita_personal_income_by_state_df.date.max()\n",
    "]"
   ]
  },
  {
   "cell_type": "code",
   "execution_count": null,
   "id": "3fe11c66",
   "metadata": {},
   "outputs": [],
   "source": [
    "per_capita_personal_income_by_state_df"
   ]
  },
  {
   "cell_type": "markdown",
   "id": "5a066062",
   "metadata": {},
   "source": [
    "## Get Shape Files\n",
    "\n",
    "`get_shape_files` returns the shape files as json in in Well-known text (WKT) format."
   ]
  },
  {
   "cell_type": "code",
   "execution_count": null,
   "id": "23ac9b61",
   "metadata": {},
   "outputs": [],
   "source": [
    "state_shapes_files = pf.get_shape_files(shape=\"state\")"
   ]
  },
  {
   "cell_type": "code",
   "execution_count": null,
   "id": "c05af9a8",
   "metadata": {},
   "outputs": [],
   "source": [
    "pf.get_shape_files(shape=\"state\")"
   ]
  },
  {
   "cell_type": "code",
   "execution_count": null,
   "id": "0fe240cf",
   "metadata": {},
   "outputs": [],
   "source": [
    "state_shapes_files"
   ]
  },
  {
   "cell_type": "code",
   "execution_count": null,
   "id": "4c59954e",
   "metadata": {},
   "outputs": [],
   "source": [
    "state_gdf = gpd.GeoDataFrame.from_features(state_shapes_files[\"features\"])"
   ]
  },
  {
   "cell_type": "code",
   "execution_count": null,
   "id": "fd6b98c9",
   "metadata": {},
   "outputs": [],
   "source": [
    "joined_df = state_gdf[[\"geometry\", \"state_fips\"]].merge(\n",
    "    per_capita_personal_income_by_state_df,\n",
    "    left_on=[\"state_fips\"],\n",
    "    right_on=[\"code\"],\n",
    ")"
   ]
  },
  {
   "cell_type": "code",
   "execution_count": null,
   "id": "275710c6",
   "metadata": {},
   "outputs": [],
   "source": [
    "joined_df.date.max()"
   ]
  },
  {
   "cell_type": "code",
   "execution_count": null,
   "metadata": {},
   "outputs": [],
   "source": [
    "fig, ax = plt.subplots(figsize=(10, 10))"
   ]
  },
  {
   "cell_type": "code",
   "execution_count": null,
   "metadata": {},
   "outputs": [],
   "source": [
    "from mpl_toolkits.axes_grid1 import make_axes_locatable"
   ]
  },
  {
   "cell_type": "code",
   "execution_count": null,
   "metadata": {},
   "outputs": [],
   "source": [
    "fig, ax = plt.subplots(1, 1)"
   ]
  },
  {
   "cell_type": "code",
   "execution_count": null,
   "metadata": {},
   "outputs": [],
   "source": [
    "divider = make_axes_locatable(ax)"
   ]
  },
  {
   "cell_type": "code",
   "execution_count": null,
   "metadata": {},
   "outputs": [],
   "source": [
    "cax = divider.append_axes(\"bottom\", size=\"5%\", pad=0.1)"
   ]
  },
  {
   "cell_type": "code",
   "execution_count": null,
   "id": "857a2fa0",
   "metadata": {},
   "outputs": [],
   "source": [
    "joined_df[[\"geometry\", \"value\"]].plot(\n",
    "    column=\"value\",\n",
    "    ax=ax,\n",
    "    legend=True,\n",
    "    cax=cax,\n",
    "    legend_kwds={\n",
    "        \"label\": \"Per Capita Personal Income 2022\",\n",
    "        \"orientation\": \"horizontal\",\n",
    "    },\n",
    ")"
   ]
  },
  {
   "cell_type": "code",
   "execution_count": null,
   "metadata": {},
   "outputs": [],
   "source": [
    "fig"
   ]
  },
  {
   "cell_type": "code",
   "execution_count": null,
   "metadata": {},
   "outputs": [],
   "source": [
    "# Create a figure and axis\n",
    "fig, ax = plt.subplots(figsize=(10, 10))\n",
    "\n",
    "# Plot the GeoDataFrame\n",
    "# Use the 'bea_regi_1' column to assign colors\n",
    "joined_df.plot(ax=ax, column=\"value\", legend=True, edgecolor=\"black\", cmap=\"Set3\")\n",
    "\n",
    "# Optional: Customize the legend\n",
    "ax.get_legend().set_bbox_to_anchor((1, 0.5))  # Adjust position\n",
    "ax.get_legend().set_title(\"BEA Region\")"
   ]
  },
  {
   "cell_type": "code",
   "execution_count": null,
   "metadata": {},
   "outputs": [],
   "source": [
    "# Optional: Customize the legend\n",
    "ax.get_legend().set_bbox_to_anchor((1, 0.5))  # Adjust position\n",
    "ax.get_legend().set_title(\"U.S. Per Capita Personal Income\")"
   ]
  },
  {
   "cell_type": "code",
   "execution_count": null,
   "id": "6a466dba",
   "metadata": {},
   "outputs": [],
   "source": [
    "fig"
   ]
  },
  {
   "cell_type": "code",
   "execution_count": null,
   "id": "bf3f4799-a614-46ab-a0d0-415805e3c061",
   "metadata": {},
   "outputs": [],
   "source": [
    "fig.show()"
   ]
  },
  {
   "cell_type": "code",
   "execution_count": null,
   "id": "48f20ab9-c9b6-417e-ae85-2a716d15cd7d",
   "metadata": {},
   "outputs": [],
   "source": [
    "joined_df.plot(ax=ax, column=\"value\", legend=True, edgecolor=\"black\", cmap=\"Set1\")"
   ]
  },
  {
   "cell_type": "code",
   "execution_count": null,
   "id": "3b22ed6d-bfd7-4433-87a9-de1a02bf5c53",
   "metadata": {},
   "outputs": [],
   "source": [
    "plt.show()"
   ]
  },
  {
   "cell_type": "code",
   "execution_count": null,
   "id": "9773636c-f5af-48b9-a0a3-f114c603a8b1",
   "metadata": {},
   "outputs": [],
   "source": [
    "import matplotlib\n",
    "\n",
    "print(matplotlib.get_backend())\n",
    "matplotlib.use(\"agg\")"
   ]
  },
  {
   "cell_type": "code",
   "execution_count": null,
   "id": "87dfea2b",
   "metadata": {},
   "outputs": [],
   "source": []
  }
 ],
 "metadata": {
  "kernelspec": {
   "display_name": "Python 3 (ipykernel)",
   "language": "python",
   "name": "python3"
  },
  "language_info": {
   "codemirror_mode": {
    "name": "ipython",
    "version": 3
   },
   "file_extension": ".py",
   "mimetype": "text/x-python",
   "name": "python",
   "nbconvert_exporter": "python",
   "pygments_lexer": "ipython3",
   "version": "3.11.7"
  },
  "vscode": {
   "interpreter": {
    "hash": "9f8da5f516a0f7b58441e46157a772613635e3a9b5450eafa77dccb7c363b35a"
   }
  }
 },
 "nbformat": 4,
 "nbformat_minor": 5
}
