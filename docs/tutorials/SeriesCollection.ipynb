{
 "cells": [
  {
   "cell_type": "markdown",
   "metadata": {},
   "source": [
    "# Series Collection\n",
    "\n",
    "Often users of the FRED api web service will want analyze multiple economic series. This can be done with `FredSeries` alone, but can be tedious and cumbersome. `pyfredapi` offers the `SeriesCollection` class to streamline the process of collecting and munging the data to get ready for plotting and analysis.\n",
    "\n",
    "A `SeriesCollection` object is a set of `SeriesData` objects. `SeriesCollection` provide helpful methods to:\n",
    "\n",
    "* List the metadata (frequency, seasonality, etc.) of the series in the collection\n",
    "* Merge series dataframes into a long dataframe\n",
    "* Merge series dataframes into a wide dataframe by index\n",
    "* Merge series dataframes into a wide dataframe by date"
   ]
  },
  {
   "cell_type": "code",
   "execution_count": null,
   "metadata": {},
   "outputs": [],
   "source": [
    "from pyfredapi import SeriesCollection\n",
    "from pyfredapi.api.series import SeriesData\n",
    "from rich import print as rprint"
   ]
  },
  {
   "cell_type": "markdown",
   "metadata": {},
   "source": [
    "## Collect data with `.add_series()`\n",
    "\n",
    "By default the column holding the series values will be renamed to the series id"
   ]
  },
  {
   "cell_type": "code",
   "execution_count": null,
   "metadata": {},
   "outputs": [],
   "source": [
    "cpi_sc = SeriesCollection()\n",
    "cpi_series = [\"CPIAUCSL\", \"CPILFESL\"]\n",
    "cpi_sc.add_series(series_ids=cpi_series)"
   ]
  },
  {
   "cell_type": "markdown",
   "metadata": {},
   "source": [
    "### Remove series with `.drop_series()`"
   ]
  },
  {
   "cell_type": "code",
   "execution_count": null,
   "metadata": {},
   "outputs": [],
   "source": [
    "cpi_sc.drop_series(\"CPILFESL\")"
   ]
  },
  {
   "cell_type": "code",
   "execution_count": null,
   "metadata": {},
   "outputs": [],
   "source": [
    "cpi_sc.list_series()"
   ]
  },
  {
   "cell_type": "markdown",
   "metadata": {},
   "source": [
    "## Accessing the data in the `SeriesCollection`"
   ]
  },
  {
   "cell_type": "markdown",
   "metadata": {},
   "source": [
    "### Access via attribute"
   ]
  },
  {
   "cell_type": "code",
   "execution_count": null,
   "metadata": {},
   "outputs": [],
   "source": [
    "type(cpi_sc.CPIAUCSL)"
   ]
  },
  {
   "cell_type": "code",
   "execution_count": null,
   "metadata": {},
   "outputs": [],
   "source": [
    "rprint(cpi_sc.CPIAUCSL.info)"
   ]
  },
  {
   "cell_type": "code",
   "execution_count": null,
   "metadata": {},
   "outputs": [],
   "source": [
    "cpi_sc.CPIAUCSL.data.head()"
   ]
  },
  {
   "cell_type": "markdown",
   "metadata": {},
   "source": [
    "### Access via `data` dictionary"
   ]
  },
  {
   "cell_type": "code",
   "execution_count": null,
   "metadata": {},
   "outputs": [],
   "source": [
    "cpi_sc.data[\"CPIAUCSL\"].data.head()"
   ]
  },
  {
   "cell_type": "markdown",
   "metadata": {},
   "source": [
    "## Rename series in the collection"
   ]
  },
  {
   "cell_type": "markdown",
   "metadata": {},
   "source": [
    "### Rename on add\n",
    "\n",
    "You can rename the series when adding them to the collection. Renaming can be done with a dictionary mapping the series id to the new name, or with a function which parses the series title into the new name."
   ]
  },
  {
   "cell_type": "code",
   "execution_count": null,
   "metadata": {},
   "outputs": [],
   "source": [
    "# Rename with a dictionary\n",
    "new_names = {\n",
    "    \"CPIAUCSL\": \"cpi_all_items\",\n",
    "    \"CPILFESL\": \"cpi_all_items_less_food_and_energy\",\n",
    "}\n",
    "\n",
    "cpi_sc = SeriesCollection()\n",
    "cpi_sc.add_series(\n",
    "    series_ids=cpi_series,\n",
    "    rename=new_names\n",
    ")"
   ]
  },
  {
   "cell_type": "code",
   "execution_count": null,
   "metadata": {},
   "outputs": [],
   "source": [
    "cpi_sc.CPIAUCSL.data.head()"
   ]
  },
  {
   "cell_type": "code",
   "execution_count": null,
   "metadata": {},
   "outputs": [],
   "source": [
    "cpi_sc.CPILFESL.data.head()"
   ]
  },
  {
   "cell_type": "markdown",
   "metadata": {},
   "source": [
    "### Rename after add\n",
    "\n",
    "You can rename series in the collection with the `rename_series` method. Works the same way as renaming on add"
   ]
  },
  {
   "cell_type": "code",
   "execution_count": null,
   "metadata": {},
   "outputs": [],
   "source": [
    "def parse_cpi_title(title: str) -> str:\n",
    "    \"\"\"Function to parse a CPI series title into a human readable label.\"\"\"\n",
    "    return (\n",
    "        title.lower()\n",
    "        .replace(\"consumer price index\", \"cpi \")\n",
    "        .replace(\" for all urban consumers: \", \"\")\n",
    "        .replace(\" in u.s. city average\", \"\")\n",
    "        .replace(\" \", \"_\")\n",
    "        #.capitalize()\n",
    "    )\n",
    "\n",
    "cpi_sc.rename_series(rename=parse_cpi_title)"
   ]
  },
  {
   "cell_type": "code",
   "execution_count": null,
   "metadata": {},
   "outputs": [],
   "source": [
    "cpi_sc.CPIAUCSL.data"
   ]
  },
  {
   "cell_type": "code",
   "execution_count": null,
   "metadata": {},
   "outputs": [],
   "source": [
    "cpi_sc.CPIAUCSL.data.head()"
   ]
  },
  {
   "cell_type": "markdown",
   "metadata": {},
   "source": [
    "## List information about series in the collection"
   ]
  },
  {
   "cell_type": "markdown",
   "metadata": {},
   "source": [
    "#### List series in the collection"
   ]
  },
  {
   "cell_type": "code",
   "execution_count": null,
   "metadata": {},
   "outputs": [],
   "source": [
    "cpi_sc.list_series()"
   ]
  },
  {
   "cell_type": "markdown",
   "metadata": {},
   "source": [
    "### List frequency, seasonality, and end data"
   ]
  },
  {
   "cell_type": "code",
   "execution_count": null,
   "metadata": {},
   "outputs": [],
   "source": [
    "cpi_sc.list_frequency()"
   ]
  },
  {
   "cell_type": "code",
   "execution_count": null,
   "metadata": {},
   "outputs": [],
   "source": [
    "cpi_sc.list_seasonality()"
   ]
  },
  {
   "cell_type": "code",
   "execution_count": null,
   "metadata": {},
   "outputs": [],
   "source": [
    "cpi_sc.list_units()"
   ]
  },
  {
   "cell_type": "code",
   "execution_count": null,
   "metadata": {},
   "outputs": [],
   "source": [
    "cpi_sc.list_end_date()"
   ]
  },
  {
   "cell_type": "code",
   "execution_count": null,
   "metadata": {},
   "outputs": [],
   "source": [
    "cpi_sc.list_start_date()"
   ]
  },
  {
   "cell_type": "markdown",
   "metadata": {},
   "source": [
    "## Merge data\n",
    "\n",
    "`SeriesCollection` support merging into long and wide formats. By default the series ID will be used as the column name or observation label."
   ]
  },
  {
   "cell_type": "markdown",
   "metadata": {},
   "source": [
    "### Merge long\n",
    "\n",
    "..."
   ]
  },
  {
   "cell_type": "code",
   "execution_count": null,
   "metadata": {},
   "outputs": [],
   "source": [
    "cpi_long = cpi_sc.merge_long()\n",
    "cpi_long"
   ]
  },
  {
   "cell_type": "code",
   "execution_count": null,
   "metadata": {},
   "outputs": [],
   "source": [
    "set(cpi_long.series.tolist())"
   ]
  },
  {
   "cell_type": "markdown",
   "metadata": {},
   "source": [
    "### Merge wide\n",
    "\n",
    "..."
   ]
  },
  {
   "cell_type": "code",
   "execution_count": null,
   "metadata": {},
   "outputs": [],
   "source": [
    "cpi_wide = cpi_sc.merge_wide()\n",
    "cpi_wide.tail()"
   ]
  },
  {
   "cell_type": "markdown",
   "metadata": {},
   "source": [
    "### Merge As-Of\n",
    "\n",
    "..."
   ]
  },
  {
   "cell_type": "code",
   "execution_count": null,
   "metadata": {},
   "outputs": [],
   "source": [
    "cpi_asof = cpi_sc.merge_asof(base_series_id=\"CPIAUCSL\")\n",
    "cpi_asof.tail()"
   ]
  }
 ],
 "metadata": {
  "kernelspec": {
   "display_name": "Python 3.10.1 ('.venv': poetry)",
   "language": "python",
   "name": "python3"
  },
  "language_info": {
   "codemirror_mode": {
    "name": "ipython",
    "version": 3
   },
   "file_extension": ".py",
   "mimetype": "text/x-python",
   "name": "python",
   "nbconvert_exporter": "python",
   "pygments_lexer": "ipython3",
   "version": "3.10.1"
  },
  "orig_nbformat": 4,
  "vscode": {
   "interpreter": {
    "hash": "9f8da5f516a0f7b58441e46157a772613635e3a9b5450eafa77dccb7c363b35a"
   }
  }
 },
 "nbformat": 4,
 "nbformat_minor": 2
}
