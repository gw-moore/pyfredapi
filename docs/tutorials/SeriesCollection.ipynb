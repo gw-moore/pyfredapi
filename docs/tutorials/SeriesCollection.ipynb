{
 "cells": [
  {
   "cell_type": "markdown",
   "metadata": {},
   "source": [
    "# Series Collection\n",
    "\n",
    "Often users of the FRED API will want analyze multiple economic series. This can be done with `FredSeries` alone, but can be tedious and cumbersome. `pyfredapi` offers the `SeriesCollection` class to streamline the process of collecting and munging the data to get ready for plotting and analysis.\n",
    "\n",
    "A `SeriesCollection` object is a set of `SeriesData` objects. `SeriesCollection` provide helpful methods to:\n",
    "\n",
    "* List the metadata (frequency, seasonality, units, etc.) of the series in the collection\n",
    "* Merge series dataframes into a long dataframe\n",
    "* Merge series dataframes into a wide dataframe by index\n",
    "* Merge series dataframes into a wide dataframe by date"
   ]
  },
  {
   "cell_type": "markdown",
   "metadata": {},
   "source": [
    "## Setup\n",
    "\n",
    "Import and create an instance of `SeriesCollection`"
   ]
  },
  {
   "cell_type": "code",
   "execution_count": 1,
   "metadata": {},
   "outputs": [],
   "source": [
    "from pyfredapi import SeriesCollection\n",
    "from rich import print as rprint\n",
    "\n",
    "cpi_sc = SeriesCollection()"
   ]
  },
  {
   "cell_type": "markdown",
   "metadata": {},
   "source": [
    "## Collect data\n",
    "\n",
    "Add data to the collection with `add_series()`. By default the column for the series values will be renamed to the series id."
   ]
  },
  {
   "cell_type": "code",
   "execution_count": 2,
   "metadata": {},
   "outputs": [
    {
     "name": "stdout",
     "output_type": "stream",
     "text": [
      "Requesting series CPIAUCSL...\n",
      "Requesting series CPILFESL...\n"
     ]
    }
   ],
   "source": [
    "cpi_series = [\"CPIAUCSL\", \"CPILFESL\"]\n",
    "cpi_sc.add_series(series_ids=cpi_series)"
   ]
  },
  {
   "cell_type": "markdown",
   "metadata": {},
   "source": [
    "### Remove series\n",
    "\n",
    "Remove series to the collection with `drop_series()`."
   ]
  },
  {
   "cell_type": "code",
   "execution_count": 3,
   "metadata": {},
   "outputs": [
    {
     "name": "stdout",
     "output_type": "stream",
     "text": [
      "Removed series CPILFESL\n"
     ]
    }
   ],
   "source": [
    "cpi_sc.drop_series(\"CPILFESL\")"
   ]
  },
  {
   "cell_type": "markdown",
   "metadata": {},
   "source": [
    "## Accessing the data\n",
    "\n",
    "The `SeriesCollection` is composed of `SeriesInfo` objects. You can access the series either by attribute or by the `data` dictionary."
   ]
  },
  {
   "cell_type": "markdown",
   "metadata": {},
   "source": [
    "### Access via attribute"
   ]
  },
  {
   "cell_type": "code",
   "execution_count": 4,
   "metadata": {},
   "outputs": [
    {
     "data": {
      "text/plain": [
       "pyfredapi.api.series.SeriesData"
      ]
     },
     "execution_count": 4,
     "metadata": {},
     "output_type": "execute_result"
    }
   ],
   "source": [
    "type(cpi_sc.CPIAUCSL)"
   ]
  },
  {
   "cell_type": "code",
   "execution_count": 5,
   "metadata": {},
   "outputs": [
    {
     "data": {
      "text/html": [
       "<pre style=\"white-space:pre;overflow-x:auto;line-height:normal;font-family:Menlo,'DejaVu Sans Mono',consolas,'Courier New',monospace\"><span style=\"color: #800080; text-decoration-color: #800080; font-weight: bold\">SeriesInfo</span><span style=\"font-weight: bold\">(</span>\n",
       "    <span style=\"color: #808000; text-decoration-color: #808000\">id</span>=<span style=\"color: #008000; text-decoration-color: #008000\">'CPIAUCSL'</span>,\n",
       "    <span style=\"color: #808000; text-decoration-color: #808000\">realtime_start</span>=<span style=\"color: #008000; text-decoration-color: #008000\">'2022-10-20'</span>,\n",
       "    <span style=\"color: #808000; text-decoration-color: #808000\">realtime_end</span>=<span style=\"color: #008000; text-decoration-color: #008000\">'2022-10-20'</span>,\n",
       "    <span style=\"color: #808000; text-decoration-color: #808000\">title</span>=<span style=\"color: #008000; text-decoration-color: #008000\">'Consumer Price Index for All Urban Consumers: All Items in U.S. City Average'</span>,\n",
       "    <span style=\"color: #808000; text-decoration-color: #808000\">observation_start</span>=<span style=\"color: #008000; text-decoration-color: #008000\">'1947-01-01'</span>,\n",
       "    <span style=\"color: #808000; text-decoration-color: #808000\">observation_end</span>=<span style=\"color: #008000; text-decoration-color: #008000\">'2022-09-01'</span>,\n",
       "    <span style=\"color: #808000; text-decoration-color: #808000\">frequency</span>=<span style=\"color: #008000; text-decoration-color: #008000\">'Monthly'</span>,\n",
       "    <span style=\"color: #808000; text-decoration-color: #808000\">frequency_short</span>=<span style=\"color: #008000; text-decoration-color: #008000\">'M'</span>,\n",
       "    <span style=\"color: #808000; text-decoration-color: #808000\">units</span>=<span style=\"color: #008000; text-decoration-color: #008000\">'Index 1982-1984=100'</span>,\n",
       "    <span style=\"color: #808000; text-decoration-color: #808000\">units_short</span>=<span style=\"color: #008000; text-decoration-color: #008000\">'Index 1982-1984=100'</span>,\n",
       "    <span style=\"color: #808000; text-decoration-color: #808000\">seasonal_adjustment</span>=<span style=\"color: #008000; text-decoration-color: #008000\">'Seasonally Adjusted'</span>,\n",
       "    <span style=\"color: #808000; text-decoration-color: #808000\">seasonal_adjustment_short</span>=<span style=\"color: #008000; text-decoration-color: #008000\">'SA'</span>,\n",
       "    <span style=\"color: #808000; text-decoration-color: #808000\">last_updated</span>=<span style=\"color: #008000; text-decoration-color: #008000\">'2022-10-13 07:37:02-05'</span>,\n",
       "    <span style=\"color: #808000; text-decoration-color: #808000\">popularity</span>=<span style=\"color: #008080; text-decoration-color: #008080; font-weight: bold\">96</span>,\n",
       "    <span style=\"color: #808000; text-decoration-color: #808000\">notes</span>=<span style=\"color: #008000; text-decoration-color: #008000\">'The Consumer Price Index for All Urban Consumers: All Items (CPIAUCSL) is a price index of a basket of </span>\n",
       "<span style=\"color: #008000; text-decoration-color: #008000\">goods and services paid by urban consumers. Percent changes in the price index measure the inflation rate between </span>\n",
       "<span style=\"color: #008000; text-decoration-color: #008000\">any two time periods. The most common inflation metric is the percent change from one year ago. It can also </span>\n",
       "<span style=\"color: #008000; text-decoration-color: #008000\">represent the buying habits of urban consumers. This particular index includes roughly 88 percent of the total </span>\n",
       "<span style=\"color: #008000; text-decoration-color: #008000\">population, accounting for wage earners, clerical workers, technical workers, self-employed, short-term workers, </span>\n",
       "<span style=\"color: #008000; text-decoration-color: #008000\">unemployed, retirees, and those not in the labor force.\\r\\n\\r\\nThe CPIs are based on prices for food, clothing, </span>\n",
       "<span style=\"color: #008000; text-decoration-color: #008000\">shelter, and fuels; transportation fares; service fees (e.g., water and sewer service); and sales taxes. Prices are</span>\n",
       "<span style=\"color: #008000; text-decoration-color: #008000\">collected monthly from about 4,000 housing units and approximately 26,000 retail establishments across 87 urban </span>\n",
       "<span style=\"color: #008000; text-decoration-color: #008000\">areas. To calculate the index, price changes are averaged with weights representing their importance in the </span>\n",
       "<span style=\"color: #008000; text-decoration-color: #008000\">spending of the particular group. The index measures price changes (as a percent change) from a predetermined </span>\n",
       "<span style=\"color: #008000; text-decoration-color: #008000\">reference date. In addition to the original unadjusted index distributed, the Bureau of Labor Statistics also </span>\n",
       "<span style=\"color: #008000; text-decoration-color: #008000\">releases a seasonally adjusted index. The unadjusted series reflects all factors that may influence a change in </span>\n",
       "<span style=\"color: #008000; text-decoration-color: #008000\">prices. However, it can be very useful to look at the seasonally adjusted CPI, which removes the effects of </span>\n",
       "<span style=\"color: #008000; text-decoration-color: #008000\">seasonal changes, such as weather, school year, production cycles, and holidays.\\r\\n\\r\\nThe CPI can be used to </span>\n",
       "<span style=\"color: #008000; text-decoration-color: #008000\">recognize periods of inflation and deflation. Significant increases in the CPI within a short time frame might </span>\n",
       "<span style=\"color: #008000; text-decoration-color: #008000\">indicate a period of inflation, and significant decreases in CPI within a short time frame might indicate a period </span>\n",
       "<span style=\"color: #008000; text-decoration-color: #008000\">of deflation. However, because the CPI includes volatile food and oil prices, it might not be a reliable measure of</span>\n",
       "<span style=\"color: #008000; text-decoration-color: #008000\">inflationary and deflationary periods. For a more accurate detection, the core CPI (CPILFESL </span>\n",
       "<span style=\"color: #008000; text-decoration-color: #008000\">(https://fred.stlouisfed.org/series/CPILFESL)) is often used. When using the CPI, please note that it is not </span>\n",
       "<span style=\"color: #008000; text-decoration-color: #008000\">applicable to all consumers and should not be used to determine relative living costs. Additionally, the CPI is a </span>\n",
       "<span style=\"color: #008000; text-decoration-color: #008000\">statistical measure vulnerable to sampling error since it is based on a sample of prices and not the complete </span>\n",
       "<span style=\"color: #008000; text-decoration-color: #008000\">average.\\r\\n\\r\\nFor more information on the consumer price indexes, see:  \\r\\nBureau of Economic Analysis. \"CPI </span>\n",
       "<span style=\"color: #008000; text-decoration-color: #008000\">Detailed Report.\" (https://www.bls.gov/cpi/) 2013.  \\r\\nHandbook of Methods </span>\n",
       "<span style=\"color: #008000; text-decoration-color: #008000\">(https://www.bls.gov/opub/hom/pdf/cpihom.pdf)  \\r\\nUnderstanding the CPI: Frequently Asked Questions </span>\n",
       "<span style=\"color: #008000; text-decoration-color: #008000\">(https://www.bls.gov/cpi/questions-and-answers.htm)'</span>\n",
       "<span style=\"font-weight: bold\">)</span>\n",
       "</pre>\n"
      ],
      "text/plain": [
       "\u001b[1;35mSeriesInfo\u001b[0m\u001b[1m(\u001b[0m\n",
       "    \u001b[33mid\u001b[0m=\u001b[32m'CPIAUCSL'\u001b[0m,\n",
       "    \u001b[33mrealtime_start\u001b[0m=\u001b[32m'2022-10-20'\u001b[0m,\n",
       "    \u001b[33mrealtime_end\u001b[0m=\u001b[32m'2022-10-20'\u001b[0m,\n",
       "    \u001b[33mtitle\u001b[0m=\u001b[32m'Consumer Price Index for All Urban Consumers: All Items in U.S. City Average'\u001b[0m,\n",
       "    \u001b[33mobservation_start\u001b[0m=\u001b[32m'1947-01-01'\u001b[0m,\n",
       "    \u001b[33mobservation_end\u001b[0m=\u001b[32m'2022-09-01'\u001b[0m,\n",
       "    \u001b[33mfrequency\u001b[0m=\u001b[32m'Monthly'\u001b[0m,\n",
       "    \u001b[33mfrequency_short\u001b[0m=\u001b[32m'M'\u001b[0m,\n",
       "    \u001b[33munits\u001b[0m=\u001b[32m'Index 1982-\u001b[0m\u001b[32m1984\u001b[0m\u001b[32m=\u001b[0m\u001b[32m100\u001b[0m\u001b[32m'\u001b[0m,\n",
       "    \u001b[33munits_short\u001b[0m=\u001b[32m'Index 1982-\u001b[0m\u001b[32m1984\u001b[0m\u001b[32m=\u001b[0m\u001b[32m100\u001b[0m\u001b[32m'\u001b[0m,\n",
       "    \u001b[33mseasonal_adjustment\u001b[0m=\u001b[32m'Seasonally Adjusted'\u001b[0m,\n",
       "    \u001b[33mseasonal_adjustment_short\u001b[0m=\u001b[32m'SA'\u001b[0m,\n",
       "    \u001b[33mlast_updated\u001b[0m=\u001b[32m'2022-10-13 07:37:02-05'\u001b[0m,\n",
       "    \u001b[33mpopularity\u001b[0m=\u001b[1;36m96\u001b[0m,\n",
       "    \u001b[33mnotes\u001b[0m=\u001b[32m'The Consumer Price Index for All Urban Consumers: All Items \u001b[0m\u001b[32m(\u001b[0m\u001b[32mCPIAUCSL\u001b[0m\u001b[32m)\u001b[0m\u001b[32m is a price index of a basket of \u001b[0m\n",
       "\u001b[32mgoods and services paid by urban consumers. Percent changes in the price index measure the inflation rate between \u001b[0m\n",
       "\u001b[32many two time periods. The most common inflation metric is the percent change from one year ago. It can also \u001b[0m\n",
       "\u001b[32mrepresent the buying habits of urban consumers. This particular index includes roughly 88 percent of the total \u001b[0m\n",
       "\u001b[32mpopulation, accounting for wage earners, clerical workers, technical workers, self-employed, short-term workers, \u001b[0m\n",
       "\u001b[32munemployed, retirees, and those not in the labor force.\\r\\n\\r\\nThe CPIs are based on prices for food, clothing, \u001b[0m\n",
       "\u001b[32mshelter, and fuels; transportation fares; service fees \u001b[0m\u001b[32m(\u001b[0m\u001b[32me.g., water and sewer service\u001b[0m\u001b[32m)\u001b[0m\u001b[32m; and sales taxes. Prices are\u001b[0m\n",
       "\u001b[32mcollected monthly from about 4,000 housing units and approximately 26,000 retail establishments across 87 urban \u001b[0m\n",
       "\u001b[32mareas. To calculate the index, price changes are averaged with weights representing their importance in the \u001b[0m\n",
       "\u001b[32mspending of the particular group. The index measures price changes \u001b[0m\u001b[32m(\u001b[0m\u001b[32mas a percent change\u001b[0m\u001b[32m)\u001b[0m\u001b[32m from a predetermined \u001b[0m\n",
       "\u001b[32mreference date. In addition to the original unadjusted index distributed, the Bureau of Labor Statistics also \u001b[0m\n",
       "\u001b[32mreleases a seasonally adjusted index. The unadjusted series reflects all factors that may influence a change in \u001b[0m\n",
       "\u001b[32mprices. However, it can be very useful to look at the seasonally adjusted CPI, which removes the effects of \u001b[0m\n",
       "\u001b[32mseasonal changes, such as weather, school year, production cycles, and holidays.\\r\\n\\r\\nThe CPI can be used to \u001b[0m\n",
       "\u001b[32mrecognize periods of inflation and deflation. Significant increases in the CPI within a short time frame might \u001b[0m\n",
       "\u001b[32mindicate a period of inflation, and significant decreases in CPI within a short time frame might indicate a period \u001b[0m\n",
       "\u001b[32mof deflation. However, because the CPI includes volatile food and oil prices, it might not be a reliable measure of\u001b[0m\n",
       "\u001b[32minflationary and deflationary periods. For a more accurate detection, the core CPI \u001b[0m\u001b[32m(\u001b[0m\u001b[32mCPILFESL \u001b[0m\n",
       "\u001b[32m(\u001b[0m\u001b[32mhttps://fred.stlouisfed.org/series/CPILFESL\u001b[0m\u001b[32m)\u001b[0m\u001b[32m)\u001b[0m\u001b[32m is often used. When using the CPI, please note that it is not \u001b[0m\n",
       "\u001b[32mapplicable to all consumers and should not be used to determine relative living costs. Additionally, the CPI is a \u001b[0m\n",
       "\u001b[32mstatistical measure vulnerable to sampling error since it is based on a sample of prices and not the complete \u001b[0m\n",
       "\u001b[32maverage.\\r\\n\\r\\nFor more information on the consumer price indexes, see:  \\r\\nBureau of Economic Analysis. \"CPI \u001b[0m\n",
       "\u001b[32mDetailed Report.\" \u001b[0m\u001b[32m(\u001b[0m\u001b[32mhttps://www.bls.gov/cpi/\u001b[0m\u001b[32m)\u001b[0m\u001b[32m 2013.  \\r\\nHandbook of Methods \u001b[0m\n",
       "\u001b[32m(\u001b[0m\u001b[32mhttps://www.bls.gov/opub/hom/pdf/cpihom.pdf\u001b[0m\u001b[32m)\u001b[0m\u001b[32m  \\r\\nUnderstanding the CPI: Frequently Asked Questions \u001b[0m\n",
       "\u001b[32m(\u001b[0m\u001b[32mhttps://www.bls.gov/cpi/questions-and-answers.htm\u001b[0m\u001b[32m)\u001b[0m\u001b[32m'\u001b[0m\n",
       "\u001b[1m)\u001b[0m\n"
      ]
     },
     "metadata": {},
     "output_type": "display_data"
    }
   ],
   "source": [
    "rprint(cpi_sc.CPIAUCSL.info)"
   ]
  },
  {
   "cell_type": "code",
   "execution_count": 6,
   "metadata": {},
   "outputs": [
    {
     "data": {
      "text/html": [
       "<div>\n",
       "<style scoped>\n",
       "    .dataframe tbody tr th:only-of-type {\n",
       "        vertical-align: middle;\n",
       "    }\n",
       "\n",
       "    .dataframe tbody tr th {\n",
       "        vertical-align: top;\n",
       "    }\n",
       "\n",
       "    .dataframe thead th {\n",
       "        text-align: right;\n",
       "    }\n",
       "</style>\n",
       "<table border=\"1\" class=\"dataframe\">\n",
       "  <thead>\n",
       "    <tr style=\"text-align: right;\">\n",
       "      <th></th>\n",
       "      <th>date</th>\n",
       "      <th>CPIAUCSL</th>\n",
       "    </tr>\n",
       "  </thead>\n",
       "  <tbody>\n",
       "    <tr>\n",
       "      <th>0</th>\n",
       "      <td>1947-01-01</td>\n",
       "      <td>21.48</td>\n",
       "    </tr>\n",
       "    <tr>\n",
       "      <th>1</th>\n",
       "      <td>1947-02-01</td>\n",
       "      <td>21.62</td>\n",
       "    </tr>\n",
       "    <tr>\n",
       "      <th>2</th>\n",
       "      <td>1947-03-01</td>\n",
       "      <td>22.00</td>\n",
       "    </tr>\n",
       "    <tr>\n",
       "      <th>3</th>\n",
       "      <td>1947-04-01</td>\n",
       "      <td>22.00</td>\n",
       "    </tr>\n",
       "    <tr>\n",
       "      <th>4</th>\n",
       "      <td>1947-05-01</td>\n",
       "      <td>21.95</td>\n",
       "    </tr>\n",
       "  </tbody>\n",
       "</table>\n",
       "</div>"
      ],
      "text/plain": [
       "        date  CPIAUCSL\n",
       "0 1947-01-01     21.48\n",
       "1 1947-02-01     21.62\n",
       "2 1947-03-01     22.00\n",
       "3 1947-04-01     22.00\n",
       "4 1947-05-01     21.95"
      ]
     },
     "execution_count": 6,
     "metadata": {},
     "output_type": "execute_result"
    }
   ],
   "source": [
    "cpi_sc.CPIAUCSL.data.head()"
   ]
  },
  {
   "cell_type": "markdown",
   "metadata": {},
   "source": [
    "### Access via dictionary"
   ]
  },
  {
   "cell_type": "code",
   "execution_count": 7,
   "metadata": {},
   "outputs": [
    {
     "data": {
      "text/html": [
       "<div>\n",
       "<style scoped>\n",
       "    .dataframe tbody tr th:only-of-type {\n",
       "        vertical-align: middle;\n",
       "    }\n",
       "\n",
       "    .dataframe tbody tr th {\n",
       "        vertical-align: top;\n",
       "    }\n",
       "\n",
       "    .dataframe thead th {\n",
       "        text-align: right;\n",
       "    }\n",
       "</style>\n",
       "<table border=\"1\" class=\"dataframe\">\n",
       "  <thead>\n",
       "    <tr style=\"text-align: right;\">\n",
       "      <th></th>\n",
       "      <th>date</th>\n",
       "      <th>CPIAUCSL</th>\n",
       "    </tr>\n",
       "  </thead>\n",
       "  <tbody>\n",
       "    <tr>\n",
       "      <th>0</th>\n",
       "      <td>1947-01-01</td>\n",
       "      <td>21.48</td>\n",
       "    </tr>\n",
       "    <tr>\n",
       "      <th>1</th>\n",
       "      <td>1947-02-01</td>\n",
       "      <td>21.62</td>\n",
       "    </tr>\n",
       "    <tr>\n",
       "      <th>2</th>\n",
       "      <td>1947-03-01</td>\n",
       "      <td>22.00</td>\n",
       "    </tr>\n",
       "    <tr>\n",
       "      <th>3</th>\n",
       "      <td>1947-04-01</td>\n",
       "      <td>22.00</td>\n",
       "    </tr>\n",
       "    <tr>\n",
       "      <th>4</th>\n",
       "      <td>1947-05-01</td>\n",
       "      <td>21.95</td>\n",
       "    </tr>\n",
       "  </tbody>\n",
       "</table>\n",
       "</div>"
      ],
      "text/plain": [
       "        date  CPIAUCSL\n",
       "0 1947-01-01     21.48\n",
       "1 1947-02-01     21.62\n",
       "2 1947-03-01     22.00\n",
       "3 1947-04-01     22.00\n",
       "4 1947-05-01     21.95"
      ]
     },
     "execution_count": 7,
     "metadata": {},
     "output_type": "execute_result"
    }
   ],
   "source": [
    "cpi_sc.data[\"CPIAUCSL\"].data.head()"
   ]
  },
  {
   "cell_type": "markdown",
   "metadata": {},
   "source": [
    "## Rename series in the collection"
   ]
  },
  {
   "cell_type": "markdown",
   "metadata": {},
   "source": [
    "### Rename on add\n",
    "\n",
    "You can rename the series when adding them to the collection. Renaming can be done with a dictionary mapping the series id to the new name, or with a function which parses the series title into the new name."
   ]
  },
  {
   "cell_type": "code",
   "execution_count": 8,
   "metadata": {},
   "outputs": [
    {
     "name": "stdout",
     "output_type": "stream",
     "text": [
      "Requesting series CPIAUCSL...\n",
      "Requesting series CPILFESL...\n"
     ]
    }
   ],
   "source": [
    "# Rename with a dictionary\n",
    "new_names = {\n",
    "    \"CPIAUCSL\": \"cpi_all_items\",\n",
    "    \"CPILFESL\": \"cpi_all_items_less_food_and_energy\",\n",
    "}\n",
    "\n",
    "cpi_sc = SeriesCollection()\n",
    "cpi_sc.add_series(series_ids=cpi_series, rename=new_names)"
   ]
  },
  {
   "cell_type": "code",
   "execution_count": 9,
   "metadata": {},
   "outputs": [
    {
     "data": {
      "text/html": [
       "<div>\n",
       "<style scoped>\n",
       "    .dataframe tbody tr th:only-of-type {\n",
       "        vertical-align: middle;\n",
       "    }\n",
       "\n",
       "    .dataframe tbody tr th {\n",
       "        vertical-align: top;\n",
       "    }\n",
       "\n",
       "    .dataframe thead th {\n",
       "        text-align: right;\n",
       "    }\n",
       "</style>\n",
       "<table border=\"1\" class=\"dataframe\">\n",
       "  <thead>\n",
       "    <tr style=\"text-align: right;\">\n",
       "      <th></th>\n",
       "      <th>date</th>\n",
       "      <th>cpi_all_items</th>\n",
       "    </tr>\n",
       "  </thead>\n",
       "  <tbody>\n",
       "    <tr>\n",
       "      <th>0</th>\n",
       "      <td>1947-01-01</td>\n",
       "      <td>21.48</td>\n",
       "    </tr>\n",
       "    <tr>\n",
       "      <th>1</th>\n",
       "      <td>1947-02-01</td>\n",
       "      <td>21.62</td>\n",
       "    </tr>\n",
       "    <tr>\n",
       "      <th>2</th>\n",
       "      <td>1947-03-01</td>\n",
       "      <td>22.00</td>\n",
       "    </tr>\n",
       "    <tr>\n",
       "      <th>3</th>\n",
       "      <td>1947-04-01</td>\n",
       "      <td>22.00</td>\n",
       "    </tr>\n",
       "    <tr>\n",
       "      <th>4</th>\n",
       "      <td>1947-05-01</td>\n",
       "      <td>21.95</td>\n",
       "    </tr>\n",
       "  </tbody>\n",
       "</table>\n",
       "</div>"
      ],
      "text/plain": [
       "        date  cpi_all_items\n",
       "0 1947-01-01          21.48\n",
       "1 1947-02-01          21.62\n",
       "2 1947-03-01          22.00\n",
       "3 1947-04-01          22.00\n",
       "4 1947-05-01          21.95"
      ]
     },
     "execution_count": 9,
     "metadata": {},
     "output_type": "execute_result"
    }
   ],
   "source": [
    "cpi_sc.CPIAUCSL.data.head()"
   ]
  },
  {
   "cell_type": "code",
   "execution_count": 10,
   "metadata": {},
   "outputs": [
    {
     "data": {
      "text/html": [
       "<div>\n",
       "<style scoped>\n",
       "    .dataframe tbody tr th:only-of-type {\n",
       "        vertical-align: middle;\n",
       "    }\n",
       "\n",
       "    .dataframe tbody tr th {\n",
       "        vertical-align: top;\n",
       "    }\n",
       "\n",
       "    .dataframe thead th {\n",
       "        text-align: right;\n",
       "    }\n",
       "</style>\n",
       "<table border=\"1\" class=\"dataframe\">\n",
       "  <thead>\n",
       "    <tr style=\"text-align: right;\">\n",
       "      <th></th>\n",
       "      <th>date</th>\n",
       "      <th>cpi_all_items_less_food_and_energy</th>\n",
       "    </tr>\n",
       "  </thead>\n",
       "  <tbody>\n",
       "    <tr>\n",
       "      <th>0</th>\n",
       "      <td>1957-01-01</td>\n",
       "      <td>28.5</td>\n",
       "    </tr>\n",
       "    <tr>\n",
       "      <th>1</th>\n",
       "      <td>1957-02-01</td>\n",
       "      <td>28.6</td>\n",
       "    </tr>\n",
       "    <tr>\n",
       "      <th>2</th>\n",
       "      <td>1957-03-01</td>\n",
       "      <td>28.7</td>\n",
       "    </tr>\n",
       "    <tr>\n",
       "      <th>3</th>\n",
       "      <td>1957-04-01</td>\n",
       "      <td>28.8</td>\n",
       "    </tr>\n",
       "    <tr>\n",
       "      <th>4</th>\n",
       "      <td>1957-05-01</td>\n",
       "      <td>28.8</td>\n",
       "    </tr>\n",
       "  </tbody>\n",
       "</table>\n",
       "</div>"
      ],
      "text/plain": [
       "        date  cpi_all_items_less_food_and_energy\n",
       "0 1957-01-01                                28.5\n",
       "1 1957-02-01                                28.6\n",
       "2 1957-03-01                                28.7\n",
       "3 1957-04-01                                28.8\n",
       "4 1957-05-01                                28.8"
      ]
     },
     "execution_count": 10,
     "metadata": {},
     "output_type": "execute_result"
    }
   ],
   "source": [
    "cpi_sc.CPILFESL.data.head()"
   ]
  },
  {
   "cell_type": "markdown",
   "metadata": {},
   "source": [
    "### Rename after add\n",
    "\n",
    "You can rename series in the collection with the `rename_series` method. Works the same way as renaming on add."
   ]
  },
  {
   "cell_type": "code",
   "execution_count": 11,
   "metadata": {},
   "outputs": [],
   "source": [
    "def parse_cpi_title(title: str) -> str:\n",
    "    \"\"\"Parse CPI series title into a readable label.\"\"\"\n",
    "    return (\n",
    "        title.lower()\n",
    "        .replace(\"consumer price index\", \"cpi \")\n",
    "        .replace(\" for all urban consumers: \", \"\")\n",
    "        .replace(\" in u.s. city average\", \"\")\n",
    "        .replace(\" \", \"_\")\n",
    "    )\n",
    "\n",
    "\n",
    "cpi_sc.rename_series(rename=parse_cpi_title)"
   ]
  },
  {
   "cell_type": "code",
   "execution_count": 12,
   "metadata": {},
   "outputs": [
    {
     "data": {
      "text/html": [
       "<div>\n",
       "<style scoped>\n",
       "    .dataframe tbody tr th:only-of-type {\n",
       "        vertical-align: middle;\n",
       "    }\n",
       "\n",
       "    .dataframe tbody tr th {\n",
       "        vertical-align: top;\n",
       "    }\n",
       "\n",
       "    .dataframe thead th {\n",
       "        text-align: right;\n",
       "    }\n",
       "</style>\n",
       "<table border=\"1\" class=\"dataframe\">\n",
       "  <thead>\n",
       "    <tr style=\"text-align: right;\">\n",
       "      <th></th>\n",
       "      <th>date</th>\n",
       "      <th>cpi_all_items</th>\n",
       "    </tr>\n",
       "  </thead>\n",
       "  <tbody>\n",
       "    <tr>\n",
       "      <th>0</th>\n",
       "      <td>1947-01-01</td>\n",
       "      <td>21.48</td>\n",
       "    </tr>\n",
       "    <tr>\n",
       "      <th>1</th>\n",
       "      <td>1947-02-01</td>\n",
       "      <td>21.62</td>\n",
       "    </tr>\n",
       "    <tr>\n",
       "      <th>2</th>\n",
       "      <td>1947-03-01</td>\n",
       "      <td>22.00</td>\n",
       "    </tr>\n",
       "    <tr>\n",
       "      <th>3</th>\n",
       "      <td>1947-04-01</td>\n",
       "      <td>22.00</td>\n",
       "    </tr>\n",
       "    <tr>\n",
       "      <th>4</th>\n",
       "      <td>1947-05-01</td>\n",
       "      <td>21.95</td>\n",
       "    </tr>\n",
       "  </tbody>\n",
       "</table>\n",
       "</div>"
      ],
      "text/plain": [
       "        date  cpi_all_items\n",
       "0 1947-01-01          21.48\n",
       "1 1947-02-01          21.62\n",
       "2 1947-03-01          22.00\n",
       "3 1947-04-01          22.00\n",
       "4 1947-05-01          21.95"
      ]
     },
     "execution_count": 12,
     "metadata": {},
     "output_type": "execute_result"
    }
   ],
   "source": [
    "cpi_sc.CPIAUCSL.data.head()"
   ]
  },
  {
   "cell_type": "markdown",
   "metadata": {},
   "source": [
    "## List metadata\n",
    "\n",
    "`SeriesCollection` has a number of list methods to print out the metadata of the series in the collection."
   ]
  },
  {
   "cell_type": "markdown",
   "metadata": {},
   "source": [
    "### Series in the collection"
   ]
  },
  {
   "cell_type": "code",
   "execution_count": 13,
   "metadata": {},
   "outputs": [
    {
     "data": {
      "text/html": [
       "<pre style=\"white-space:pre;overflow-x:auto;line-height:normal;font-family:Menlo,'DejaVu Sans Mono',consolas,'Courier New',monospace\">CPIAUCSL: Consumer Price Index for All Urban Consumers: All Items in U.S. City Average\n",
       "</pre>\n"
      ],
      "text/plain": [
       "CPIAUCSL: Consumer Price Index for All Urban Consumers: All Items in U.S. City Average\n"
      ]
     },
     "metadata": {},
     "output_type": "display_data"
    },
    {
     "data": {
      "text/html": [
       "<pre style=\"white-space:pre;overflow-x:auto;line-height:normal;font-family:Menlo,'DejaVu Sans Mono',consolas,'Courier New',monospace\">CPILFESL: Consumer Price Index for All Urban Consumers: All Items Less Food and Energy in U.S. City Average\n",
       "</pre>\n"
      ],
      "text/plain": [
       "CPILFESL: Consumer Price Index for All Urban Consumers: All Items Less Food and Energy in U.S. City Average\n"
      ]
     },
     "metadata": {},
     "output_type": "display_data"
    }
   ],
   "source": [
    "cpi_sc.list_series()"
   ]
  },
  {
   "cell_type": "markdown",
   "metadata": {},
   "source": [
    "### Frequency"
   ]
  },
  {
   "cell_type": "code",
   "execution_count": 14,
   "metadata": {},
   "outputs": [
    {
     "name": "stdout",
     "output_type": "stream",
     "text": [
      "All series are Monthly\n"
     ]
    }
   ],
   "source": [
    "cpi_sc.list_frequency()"
   ]
  },
  {
   "cell_type": "markdown",
   "metadata": {},
   "source": [
    "### Seasonality"
   ]
  },
  {
   "cell_type": "code",
   "execution_count": 15,
   "metadata": {},
   "outputs": [
    {
     "name": "stdout",
     "output_type": "stream",
     "text": [
      "All series are Seasonally Adjusted\n"
     ]
    }
   ],
   "source": [
    "cpi_sc.list_seasonality()"
   ]
  },
  {
   "cell_type": "markdown",
   "metadata": {},
   "source": [
    "### Units"
   ]
  },
  {
   "cell_type": "code",
   "execution_count": 16,
   "metadata": {},
   "outputs": [
    {
     "name": "stdout",
     "output_type": "stream",
     "text": [
      "All series are that are measured in Index 1982-1984=100\n"
     ]
    }
   ],
   "source": [
    "cpi_sc.list_units()"
   ]
  },
  {
   "cell_type": "markdown",
   "metadata": {},
   "source": [
    "### Dates"
   ]
  },
  {
   "cell_type": "code",
   "execution_count": 17,
   "metadata": {},
   "outputs": [
    {
     "name": "stdout",
     "output_type": "stream",
     "text": [
      "All series end on 2022-09-01\n"
     ]
    }
   ],
   "source": [
    "cpi_sc.list_end_date()"
   ]
  },
  {
   "cell_type": "code",
   "execution_count": 18,
   "metadata": {},
   "outputs": [
    {
     "data": {
      "text/html": [
       "<pre style=\"white-space:pre;overflow-x:auto;line-height:normal;font-family:Menlo,'DejaVu Sans Mono',consolas,'Courier New',monospace\"><span style=\"color: #00ff00; text-decoration-color: #00ff00\">───────────────────────────────────────── </span><span style=\"color: #800000; text-decoration-color: #800000; font-weight: bold\">Series that start on </span><span style=\"color: #800000; text-decoration-color: #800000; font-weight: bold\">1957</span><span style=\"color: #800000; text-decoration-color: #800000; font-weight: bold\">-</span><span style=\"color: #800000; text-decoration-color: #800000; font-weight: bold\">01</span><span style=\"color: #800000; text-decoration-color: #800000; font-weight: bold\">-</span><span style=\"color: #800000; text-decoration-color: #800000; font-weight: bold\">01</span><span style=\"color: #00ff00; text-decoration-color: #00ff00\"> ─────────────────────────────────────────</span>\n",
       "</pre>\n"
      ],
      "text/plain": [
       "\u001b[92m───────────────────────────────────────── \u001b[0m\u001b[1;31mSeries that start on \u001b[0m\u001b[1;31m1957\u001b[0m\u001b[1;31m-\u001b[0m\u001b[1;31m01\u001b[0m\u001b[1;31m-\u001b[0m\u001b[1;31m01\u001b[0m\u001b[92m ─────────────────────────────────────────\u001b[0m\n"
      ]
     },
     "metadata": {},
     "output_type": "display_data"
    },
    {
     "data": {
      "text/html": [
       "<pre style=\"white-space:pre;overflow-x:auto;line-height:normal;font-family:Menlo,'DejaVu Sans Mono',consolas,'Courier New',monospace\">CPILFESL: Consumer Price Index for All Urban Consumers: All Items Less Food and Energy in U.S. City Average\n",
       "</pre>\n"
      ],
      "text/plain": [
       "CPILFESL: Consumer Price Index for All Urban Consumers: All Items Less Food and Energy in U.S. City Average\n"
      ]
     },
     "metadata": {},
     "output_type": "display_data"
    },
    {
     "data": {
      "text/html": [
       "<pre style=\"white-space:pre;overflow-x:auto;line-height:normal;font-family:Menlo,'DejaVu Sans Mono',consolas,'Courier New',monospace\"><span style=\"color: #00ff00; text-decoration-color: #00ff00\">───────────────────────────────────────── </span><span style=\"color: #800000; text-decoration-color: #800000; font-weight: bold\">Series that start on </span><span style=\"color: #800000; text-decoration-color: #800000; font-weight: bold\">1947</span><span style=\"color: #800000; text-decoration-color: #800000; font-weight: bold\">-</span><span style=\"color: #800000; text-decoration-color: #800000; font-weight: bold\">01</span><span style=\"color: #800000; text-decoration-color: #800000; font-weight: bold\">-</span><span style=\"color: #800000; text-decoration-color: #800000; font-weight: bold\">01</span><span style=\"color: #00ff00; text-decoration-color: #00ff00\"> ─────────────────────────────────────────</span>\n",
       "</pre>\n"
      ],
      "text/plain": [
       "\u001b[92m───────────────────────────────────────── \u001b[0m\u001b[1;31mSeries that start on \u001b[0m\u001b[1;31m1947\u001b[0m\u001b[1;31m-\u001b[0m\u001b[1;31m01\u001b[0m\u001b[1;31m-\u001b[0m\u001b[1;31m01\u001b[0m\u001b[92m ─────────────────────────────────────────\u001b[0m\n"
      ]
     },
     "metadata": {},
     "output_type": "display_data"
    },
    {
     "data": {
      "text/html": [
       "<pre style=\"white-space:pre;overflow-x:auto;line-height:normal;font-family:Menlo,'DejaVu Sans Mono',consolas,'Courier New',monospace\">CPIAUCSL: Consumer Price Index for All Urban Consumers: All Items in U.S. City Average\n",
       "</pre>\n"
      ],
      "text/plain": [
       "CPIAUCSL: Consumer Price Index for All Urban Consumers: All Items in U.S. City Average\n"
      ]
     },
     "metadata": {},
     "output_type": "display_data"
    }
   ],
   "source": [
    "cpi_sc.list_start_date()"
   ]
  },
  {
   "cell_type": "markdown",
   "metadata": {},
   "source": [
    "## Merge data\n",
    "\n",
    "`SeriesCollection` supports merging the data into long and wide formats. By default the series ID will be used as the column name or observation label."
   ]
  },
  {
   "cell_type": "markdown",
   "metadata": {},
   "source": [
    "### Merge long\n",
    "\n",
    "Merge the series in the collection into a long pandas dataframe."
   ]
  },
  {
   "cell_type": "code",
   "execution_count": 19,
   "metadata": {},
   "outputs": [
    {
     "data": {
      "text/html": [
       "<div>\n",
       "<style scoped>\n",
       "    .dataframe tbody tr th:only-of-type {\n",
       "        vertical-align: middle;\n",
       "    }\n",
       "\n",
       "    .dataframe tbody tr th {\n",
       "        vertical-align: top;\n",
       "    }\n",
       "\n",
       "    .dataframe thead th {\n",
       "        text-align: right;\n",
       "    }\n",
       "</style>\n",
       "<table border=\"1\" class=\"dataframe\">\n",
       "  <thead>\n",
       "    <tr style=\"text-align: right;\">\n",
       "      <th></th>\n",
       "      <th>date</th>\n",
       "      <th>value</th>\n",
       "      <th>series</th>\n",
       "    </tr>\n",
       "  </thead>\n",
       "  <tbody>\n",
       "    <tr>\n",
       "      <th>0</th>\n",
       "      <td>1947-01-01</td>\n",
       "      <td>21.480</td>\n",
       "      <td>cpi_all_items</td>\n",
       "    </tr>\n",
       "    <tr>\n",
       "      <th>1</th>\n",
       "      <td>1947-02-01</td>\n",
       "      <td>21.620</td>\n",
       "      <td>cpi_all_items</td>\n",
       "    </tr>\n",
       "    <tr>\n",
       "      <th>2</th>\n",
       "      <td>1947-03-01</td>\n",
       "      <td>22.000</td>\n",
       "      <td>cpi_all_items</td>\n",
       "    </tr>\n",
       "    <tr>\n",
       "      <th>3</th>\n",
       "      <td>1947-04-01</td>\n",
       "      <td>22.000</td>\n",
       "      <td>cpi_all_items</td>\n",
       "    </tr>\n",
       "    <tr>\n",
       "      <th>4</th>\n",
       "      <td>1947-05-01</td>\n",
       "      <td>21.950</td>\n",
       "      <td>cpi_all_items</td>\n",
       "    </tr>\n",
       "    <tr>\n",
       "      <th>...</th>\n",
       "      <td>...</td>\n",
       "      <td>...</td>\n",
       "      <td>...</td>\n",
       "    </tr>\n",
       "    <tr>\n",
       "      <th>1693</th>\n",
       "      <td>2022-05-01</td>\n",
       "      <td>292.289</td>\n",
       "      <td>cpi_all_items_less_food_and_energy</td>\n",
       "    </tr>\n",
       "    <tr>\n",
       "      <th>1694</th>\n",
       "      <td>2022-06-01</td>\n",
       "      <td>294.354</td>\n",
       "      <td>cpi_all_items_less_food_and_energy</td>\n",
       "    </tr>\n",
       "    <tr>\n",
       "      <th>1695</th>\n",
       "      <td>2022-07-01</td>\n",
       "      <td>295.275</td>\n",
       "      <td>cpi_all_items_less_food_and_energy</td>\n",
       "    </tr>\n",
       "    <tr>\n",
       "      <th>1696</th>\n",
       "      <td>2022-08-01</td>\n",
       "      <td>296.950</td>\n",
       "      <td>cpi_all_items_less_food_and_energy</td>\n",
       "    </tr>\n",
       "    <tr>\n",
       "      <th>1697</th>\n",
       "      <td>2022-09-01</td>\n",
       "      <td>298.660</td>\n",
       "      <td>cpi_all_items_less_food_and_energy</td>\n",
       "    </tr>\n",
       "  </tbody>\n",
       "</table>\n",
       "<p>1698 rows × 3 columns</p>\n",
       "</div>"
      ],
      "text/plain": [
       "           date    value                              series\n",
       "0    1947-01-01   21.480                       cpi_all_items\n",
       "1    1947-02-01   21.620                       cpi_all_items\n",
       "2    1947-03-01   22.000                       cpi_all_items\n",
       "3    1947-04-01   22.000                       cpi_all_items\n",
       "4    1947-05-01   21.950                       cpi_all_items\n",
       "...         ...      ...                                 ...\n",
       "1693 2022-05-01  292.289  cpi_all_items_less_food_and_energy\n",
       "1694 2022-06-01  294.354  cpi_all_items_less_food_and_energy\n",
       "1695 2022-07-01  295.275  cpi_all_items_less_food_and_energy\n",
       "1696 2022-08-01  296.950  cpi_all_items_less_food_and_energy\n",
       "1697 2022-09-01  298.660  cpi_all_items_less_food_and_energy\n",
       "\n",
       "[1698 rows x 3 columns]"
      ]
     },
     "execution_count": 19,
     "metadata": {},
     "output_type": "execute_result"
    }
   ],
   "source": [
    "cpi_long = cpi_sc.merge_long()\n",
    "cpi_long"
   ]
  },
  {
   "cell_type": "markdown",
   "metadata": {},
   "source": [
    "### Merge as-of\n",
    "\n",
    "Merge the series in the collection into a wide pandas dataframe based on nearest date. Must define a base series. The base series defines the set of dates to serve of the basis of joining."
   ]
  },
  {
   "cell_type": "code",
   "execution_count": 20,
   "metadata": {},
   "outputs": [
    {
     "data": {
      "text/html": [
       "<div>\n",
       "<style scoped>\n",
       "    .dataframe tbody tr th:only-of-type {\n",
       "        vertical-align: middle;\n",
       "    }\n",
       "\n",
       "    .dataframe tbody tr th {\n",
       "        vertical-align: top;\n",
       "    }\n",
       "\n",
       "    .dataframe thead th {\n",
       "        text-align: right;\n",
       "    }\n",
       "</style>\n",
       "<table border=\"1\" class=\"dataframe\">\n",
       "  <thead>\n",
       "    <tr style=\"text-align: right;\">\n",
       "      <th></th>\n",
       "      <th>date</th>\n",
       "      <th>cpi_all_items</th>\n",
       "      <th>cpi_all_items_less_food_and_energy</th>\n",
       "    </tr>\n",
       "  </thead>\n",
       "  <tbody>\n",
       "    <tr>\n",
       "      <th>904</th>\n",
       "      <td>2022-05-01</td>\n",
       "      <td>291.474</td>\n",
       "      <td>292.289</td>\n",
       "    </tr>\n",
       "    <tr>\n",
       "      <th>905</th>\n",
       "      <td>2022-06-01</td>\n",
       "      <td>295.328</td>\n",
       "      <td>294.354</td>\n",
       "    </tr>\n",
       "    <tr>\n",
       "      <th>906</th>\n",
       "      <td>2022-07-01</td>\n",
       "      <td>295.271</td>\n",
       "      <td>295.275</td>\n",
       "    </tr>\n",
       "    <tr>\n",
       "      <th>907</th>\n",
       "      <td>2022-08-01</td>\n",
       "      <td>295.620</td>\n",
       "      <td>296.950</td>\n",
       "    </tr>\n",
       "    <tr>\n",
       "      <th>908</th>\n",
       "      <td>2022-09-01</td>\n",
       "      <td>296.761</td>\n",
       "      <td>298.660</td>\n",
       "    </tr>\n",
       "  </tbody>\n",
       "</table>\n",
       "</div>"
      ],
      "text/plain": [
       "          date  cpi_all_items  cpi_all_items_less_food_and_energy\n",
       "904 2022-05-01        291.474                             292.289\n",
       "905 2022-06-01        295.328                             294.354\n",
       "906 2022-07-01        295.271                             295.275\n",
       "907 2022-08-01        295.620                             296.950\n",
       "908 2022-09-01        296.761                             298.660"
      ]
     },
     "execution_count": 20,
     "metadata": {},
     "output_type": "execute_result"
    }
   ],
   "source": [
    "cpi_asof = cpi_sc.merge_asof(base_series_id=\"CPIAUCSL\")\n",
    "cpi_asof.tail()"
   ]
  },
  {
   "cell_type": "markdown",
   "metadata": {},
   "source": [
    "### Merge wide\n",
    "\n",
    "Merge the series in the collection into a wide pandas dataframe. Only works if all the series in the collection share the same date index."
   ]
  },
  {
   "cell_type": "code",
   "execution_count": 21,
   "metadata": {},
   "outputs": [
    {
     "data": {
      "text/html": [
       "<div>\n",
       "<style scoped>\n",
       "    .dataframe tbody tr th:only-of-type {\n",
       "        vertical-align: middle;\n",
       "    }\n",
       "\n",
       "    .dataframe tbody tr th {\n",
       "        vertical-align: top;\n",
       "    }\n",
       "\n",
       "    .dataframe thead th {\n",
       "        text-align: right;\n",
       "    }\n",
       "</style>\n",
       "<table border=\"1\" class=\"dataframe\">\n",
       "  <thead>\n",
       "    <tr style=\"text-align: right;\">\n",
       "      <th></th>\n",
       "      <th>date</th>\n",
       "      <th>cpi_all_items</th>\n",
       "      <th>cpi_all_items_less_food_and_energy</th>\n",
       "    </tr>\n",
       "  </thead>\n",
       "  <tbody>\n",
       "    <tr>\n",
       "      <th>904</th>\n",
       "      <td>2022-05-01</td>\n",
       "      <td>291.474</td>\n",
       "      <td>292.289</td>\n",
       "    </tr>\n",
       "    <tr>\n",
       "      <th>905</th>\n",
       "      <td>2022-06-01</td>\n",
       "      <td>295.328</td>\n",
       "      <td>294.354</td>\n",
       "    </tr>\n",
       "    <tr>\n",
       "      <th>906</th>\n",
       "      <td>2022-07-01</td>\n",
       "      <td>295.271</td>\n",
       "      <td>295.275</td>\n",
       "    </tr>\n",
       "    <tr>\n",
       "      <th>907</th>\n",
       "      <td>2022-08-01</td>\n",
       "      <td>295.620</td>\n",
       "      <td>296.950</td>\n",
       "    </tr>\n",
       "    <tr>\n",
       "      <th>908</th>\n",
       "      <td>2022-09-01</td>\n",
       "      <td>296.761</td>\n",
       "      <td>298.660</td>\n",
       "    </tr>\n",
       "  </tbody>\n",
       "</table>\n",
       "</div>"
      ],
      "text/plain": [
       "          date  cpi_all_items  cpi_all_items_less_food_and_energy\n",
       "904 2022-05-01        291.474                             292.289\n",
       "905 2022-06-01        295.328                             294.354\n",
       "906 2022-07-01        295.271                             295.275\n",
       "907 2022-08-01        295.620                             296.950\n",
       "908 2022-09-01        296.761                             298.660"
      ]
     },
     "execution_count": 21,
     "metadata": {},
     "output_type": "execute_result"
    }
   ],
   "source": [
    "cpi_wide = cpi_sc.merge_wide()\n",
    "cpi_wide.tail()"
   ]
  }
 ],
 "metadata": {
  "kernelspec": {
   "display_name": "Python 3.10.1 ('.venv': poetry)",
   "language": "python",
   "name": "python3"
  },
  "language_info": {
   "codemirror_mode": {
    "name": "ipython",
    "version": 3
   },
   "file_extension": ".py",
   "mimetype": "text/x-python",
   "name": "python",
   "nbconvert_exporter": "python",
   "pygments_lexer": "ipython3",
   "version": "3.10.1"
  },
  "orig_nbformat": 4,
  "vscode": {
   "interpreter": {
    "hash": "9f8da5f516a0f7b58441e46157a772613635e3a9b5450eafa77dccb7c363b35a"
   }
  }
 },
 "nbformat": 4,
 "nbformat_minor": 2
}
