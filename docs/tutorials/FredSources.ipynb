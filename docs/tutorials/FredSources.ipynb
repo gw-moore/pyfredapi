{
 "cells": [
  {
   "cell_type": "markdown",
   "id": "93a7e1da-3843-461f-89be-aefef061f157",
   "metadata": {},
   "source": [
    "# FredSources"
   ]
  }
 ],
 "metadata": {
  "kernelspec": {
   "display_name": "Python 3 (ipykernel)",
   "language": "python",
   "name": "python3"
  },
  "language_info": {
   "codemirror_mode": {
    "name": "ipython",
    "version": 3
   },
   "file_extension": ".py",
   "mimetype": "text/x-python",
   "name": "python",
   "nbconvert_exporter": "python",
   "pygments_lexer": "ipython3",
   "version": "3.10.1"
  }
 },
 "nbformat": 4,
 "nbformat_minor": 5
}
