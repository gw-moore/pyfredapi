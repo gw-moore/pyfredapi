{
 "cells": [
  {
   "cell_type": "markdown",
   "id": "e2af4a3c",
   "metadata": {},
   "source": [
    "# FredMaps\n",
    "\n",
    "This documentation serves as a quick start guide to `FredMaps`. To review all of the `FredMaps` functionality please see the [API documentation](https://pyfredapi.readthedocs.io/en/latest/references/api.html#module-pyfredapi.api.maps).\n",
    "\n",
    "The FRED Maps API enables developers to pull regional data or shape files."
   ]
  },
  {
   "cell_type": "code",
   "execution_count": 1,
   "id": "d82ae970",
   "metadata": {},
   "outputs": [],
   "source": [
    "from pyfredapi import FredMaps\n",
    "from rich import print as rprint"
   ]
  },
  {
   "cell_type": "code",
   "execution_count": 2,
   "id": "a73e8cb6",
   "metadata": {},
   "outputs": [],
   "source": [
    "client = FredMaps()"
   ]
  },
  {
   "cell_type": "markdown",
   "id": "e43484be",
   "metadata": {},
   "source": [
    "## Get series info"
   ]
  },
  {
   "cell_type": "code",
   "execution_count": 3,
   "id": "3f64d0fa",
   "metadata": {},
   "outputs": [
    {
     "data": {
      "text/html": [
       "<pre style=\"white-space:pre;overflow-x:auto;line-height:normal;font-family:Menlo,'DejaVu Sans Mono',consolas,'Courier New',monospace\"><span style=\"color: #800080; text-decoration-color: #800080; font-weight: bold\">GeoseriesInfo</span><span style=\"font-weight: bold\">(</span>\n",
       "    <span style=\"color: #808000; text-decoration-color: #808000\">title</span>=<span style=\"color: #008000; text-decoration-color: #008000\">'Per Capita Personal Income'</span>,\n",
       "    <span style=\"color: #808000; text-decoration-color: #808000\">region_type</span>=<span style=\"color: #008000; text-decoration-color: #008000\">'state'</span>,\n",
       "    <span style=\"color: #808000; text-decoration-color: #808000\">series_group</span>=<span style=\"color: #008000; text-decoration-color: #008000\">'882'</span>,\n",
       "    <span style=\"color: #808000; text-decoration-color: #808000\">season</span>=<span style=\"color: #008000; text-decoration-color: #008000\">'NSA'</span>,\n",
       "    <span style=\"color: #808000; text-decoration-color: #808000\">units</span>=<span style=\"color: #008000; text-decoration-color: #008000\">'Dollars'</span>,\n",
       "    <span style=\"color: #808000; text-decoration-color: #808000\">frequency</span>=<span style=\"color: #008000; text-decoration-color: #008000\">'Annual'</span>,\n",
       "    <span style=\"color: #808000; text-decoration-color: #808000\">min_date</span>=<span style=\"color: #008000; text-decoration-color: #008000\">'1929-01-01'</span>,\n",
       "    <span style=\"color: #808000; text-decoration-color: #808000\">max_date</span>=<span style=\"color: #008000; text-decoration-color: #008000\">'2021-01-01'</span>\n",
       "<span style=\"font-weight: bold\">)</span>\n",
       "</pre>\n"
      ],
      "text/plain": [
       "\u001b[1;35mGeoseriesInfo\u001b[0m\u001b[1m(\u001b[0m\n",
       "    \u001b[33mtitle\u001b[0m=\u001b[32m'Per Capita Personal Income'\u001b[0m,\n",
       "    \u001b[33mregion_type\u001b[0m=\u001b[32m'state'\u001b[0m,\n",
       "    \u001b[33mseries_group\u001b[0m=\u001b[32m'882'\u001b[0m,\n",
       "    \u001b[33mseason\u001b[0m=\u001b[32m'NSA'\u001b[0m,\n",
       "    \u001b[33munits\u001b[0m=\u001b[32m'Dollars'\u001b[0m,\n",
       "    \u001b[33mfrequency\u001b[0m=\u001b[32m'Annual'\u001b[0m,\n",
       "    \u001b[33mmin_date\u001b[0m=\u001b[32m'1929-01-01'\u001b[0m,\n",
       "    \u001b[33mmax_date\u001b[0m=\u001b[32m'2021-01-01'\u001b[0m\n",
       "\u001b[1m)\u001b[0m\n"
      ]
     },
     "metadata": {},
     "output_type": "display_data"
    }
   ],
   "source": [
    "info = client.get_geoseries_info(series_id=\"WIPCPI\")\n",
    "rprint(info)"
   ]
  },
  {
   "cell_type": "markdown",
   "id": "adee8bff",
   "metadata": {},
   "source": [
    "## Get regional data\n",
    "\n",
    "`get_geoseries` returns a cross section of data that are published by region (e.g. state, county, MSA). Similiar to the get_series function in FredSeries, `get_geoseries` returns a `GeoseriesData` object that contains the metadata for the series and the requested data.\n",
    "\n",
    "In this example, we pull the U.S. state per capital personal income between 2010-2021. "
   ]
  },
  {
   "cell_type": "code",
   "execution_count": 4,
   "id": "ba7d2935",
   "metadata": {},
   "outputs": [],
   "source": [
    "geoseries_data = client.get_geoseries(\n",
    "    series_id=\"WIPCPI\",\n",
    "    start_date=\"2010-01-01\",\n",
    "    end_date=\"2021-01-01\",\n",
    ")"
   ]
  },
  {
   "cell_type": "code",
   "execution_count": 5,
   "id": "45653d5e",
   "metadata": {},
   "outputs": [
    {
     "data": {
      "text/plain": [
       "True"
      ]
     },
     "execution_count": 5,
     "metadata": {},
     "output_type": "execute_result"
    }
   ],
   "source": [
    "geoseries_data.info == info"
   ]
  },
  {
   "cell_type": "code",
   "execution_count": 6,
   "id": "620cca36",
   "metadata": {},
   "outputs": [
    {
     "data": {
      "text/html": [
       "<div>\n",
       "<style scoped>\n",
       "    .dataframe tbody tr th:only-of-type {\n",
       "        vertical-align: middle;\n",
       "    }\n",
       "\n",
       "    .dataframe tbody tr th {\n",
       "        vertical-align: top;\n",
       "    }\n",
       "\n",
       "    .dataframe thead th {\n",
       "        text-align: right;\n",
       "    }\n",
       "</style>\n",
       "<table border=\"1\" class=\"dataframe\">\n",
       "  <thead>\n",
       "    <tr style=\"text-align: right;\">\n",
       "      <th></th>\n",
       "      <th>region</th>\n",
       "      <th>code</th>\n",
       "      <th>value</th>\n",
       "      <th>series_id</th>\n",
       "      <th>date</th>\n",
       "    </tr>\n",
       "  </thead>\n",
       "  <tbody>\n",
       "    <tr>\n",
       "      <th>0</th>\n",
       "      <td>Connecticut</td>\n",
       "      <td>09</td>\n",
       "      <td>61743</td>\n",
       "      <td>CTPCPI</td>\n",
       "      <td>2010-01-01</td>\n",
       "    </tr>\n",
       "    <tr>\n",
       "      <th>1</th>\n",
       "      <td>Michigan</td>\n",
       "      <td>26</td>\n",
       "      <td>35760</td>\n",
       "      <td>MIPCPI</td>\n",
       "      <td>2010-01-01</td>\n",
       "    </tr>\n",
       "    <tr>\n",
       "      <th>2</th>\n",
       "      <td>Idaho</td>\n",
       "      <td>16</td>\n",
       "      <td>32097</td>\n",
       "      <td>IDPCPI</td>\n",
       "      <td>2010-01-01</td>\n",
       "    </tr>\n",
       "    <tr>\n",
       "      <th>3</th>\n",
       "      <td>South Dakota</td>\n",
       "      <td>46</td>\n",
       "      <td>41423</td>\n",
       "      <td>SDPCPI</td>\n",
       "      <td>2010-01-01</td>\n",
       "    </tr>\n",
       "    <tr>\n",
       "      <th>4</th>\n",
       "      <td>Delaware</td>\n",
       "      <td>10</td>\n",
       "      <td>40942</td>\n",
       "      <td>DEPCPI</td>\n",
       "      <td>2010-01-01</td>\n",
       "    </tr>\n",
       "  </tbody>\n",
       "</table>\n",
       "</div>"
      ],
      "text/plain": [
       "         region code  value series_id       date\n",
       "0   Connecticut   09  61743    CTPCPI 2010-01-01\n",
       "1      Michigan   26  35760    MIPCPI 2010-01-01\n",
       "2         Idaho   16  32097    IDPCPI 2010-01-01\n",
       "3  South Dakota   46  41423    SDPCPI 2010-01-01\n",
       "4      Delaware   10  40942    DEPCPI 2010-01-01"
      ]
     },
     "execution_count": 6,
     "metadata": {},
     "output_type": "execute_result"
    }
   ],
   "source": [
    "geoseries_data.data.head()"
   ]
  },
  {
   "cell_type": "markdown",
   "id": "5a066062",
   "metadata": {},
   "source": [
    "## Get shape files\n",
    "\n",
    "`get_shape_files` returns the shape files as json in in Well-known text (WKT) format."
   ]
  },
  {
   "cell_type": "code",
   "execution_count": 7,
   "id": "f36c83c6",
   "metadata": {},
   "outputs": [],
   "source": [
    "bea_shape_files = client.get_shape_files(shape=\"bea\")"
   ]
  }
 ],
 "metadata": {
  "kernelspec": {
   "display_name": "Python 3 (ipykernel)",
   "language": "python",
   "name": "python3"
  },
  "language_info": {
   "codemirror_mode": {
    "name": "ipython",
    "version": 3
   },
   "file_extension": ".py",
   "mimetype": "text/x-python",
   "name": "python",
   "nbconvert_exporter": "python",
   "pygments_lexer": "ipython3",
   "version": "3.10.1"
  }
 },
 "nbformat": 4,
 "nbformat_minor": 5
}
